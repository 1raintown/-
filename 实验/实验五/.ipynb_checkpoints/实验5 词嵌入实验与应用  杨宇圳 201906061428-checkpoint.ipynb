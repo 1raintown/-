{
 "cells": [
  {
   "cell_type": "markdown",
   "metadata": {},
   "source": [
    "\n",
    "<h1 align=center><font size = 5> <center>文本分析与挖掘</center> </font></h1> \n",
    "\n",
    "<h2 align=center><font size = 4><center>实验五、词嵌入实验与应用</center></font></h2>\n",
    "<h2 align=center><font size = 2><center>浙江工业大学计算机科学与技术学院</center></font></h2>"
   ]
  },
  {
   "cell_type": "markdown",
   "metadata": {},
   "source": [
    "## 一、实验目的"
   ]
  },
  {
   "cell_type": "markdown",
   "metadata": {},
   "source": [
    "<div class=\"alert alert-block alert-info\" style=\"margin-top: 20px\">\n",
    "<li>实现两种基本词嵌入算法 skipgram 和 CBOW，并对结果进行对比和评估。</li>\n",
    "<li>掌握词嵌入在分类和聚类中的基本应用，了解预训练词嵌入的适用范围。</li>"
   ]
  },
  {
   "cell_type": "markdown",
   "metadata": {},
   "source": [
    "## 二、实验内容\n",
    "<div class=\"alert alert-block alert-info\" style=\"margin-top: 20px\">\n",
    "<li>调用 gensim 得到词嵌入向量。</li>\n",
    "<li>基于词嵌入向量对 multi3 和 multi5 进行分类。</li>\n",
    "<li>预训练词向量</li>\n",
    "\n"
   ]
  },
  {
   "cell_type": "markdown",
   "metadata": {},
   "source": [
    "### 1.调用 gensim 得到词嵌入向量。"
   ]
  },
  {
   "cell_type": "markdown",
   "metadata": {},
   "source": [
    "#### a. 对 20newsgroups 子集 multi3 和 multi5 调用 gensim 得到skipgram 词嵌入向量。假设维度 100， 窗口大小：5。\n"
   ]
  },
  {
   "cell_type": "code",
   "execution_count": 1,
   "metadata": {},
   "outputs": [],
   "source": [
    "import nltk\n",
    "from gensim.models import word2vec\n",
    "import numpy as np\n",
    "import string\n",
    "from nltk import word_tokenize\n",
    "import itertools \n",
    "from gensim.models import KeyedVectors\n",
    "from sklearn.manifold import TSNE\n",
    "from matplotlib import pyplot as plt"
   ]
  },
  {
   "cell_type": "code",
   "execution_count": 2,
   "metadata": {},
   "outputs": [],
   "source": [
    "import pandas as pd\n",
    "import random\n",
    "\n",
    "\n",
    "data=pd.read_csv('./data.csv')\n",
    "multi3_1=data[data['Target Name']=='comp.graphics'].sample(200)\n",
    "multi3_2=data[data['Target Name']=='rec.autos'].sample(200)\n",
    "multi3_3=data[data['Target Name']=='talk.politics.guns'].sample(200)\n",
    "\n",
    "multi3=multi3_1.append(multi3_2).append(multi3_3)\n",
    "\n",
    "\n",
    "multi5_1=data[data['Target Name']=='comp.graphics'].sample(200)\n",
    "multi5_2=data[data['Target Name']=='comp.windows.x'].sample(200)\n",
    "multi5_3=data[data['Target Name']=='rec.sport.hockey'].sample(200)\n",
    "multi5_4=data[data['Target Name']=='rec.autos'].sample(200)\n",
    "multi5_5=data[data['Target Name']=='talk.politics.guns'].sample(200)\n",
    "\n",
    "multi5=multi5_1.append(multi5_2).append(multi5_3).append(multi5_4).append(multi5_5)"
   ]
  },
  {
   "cell_type": "code",
   "execution_count": 4,
   "metadata": {},
   "outputs": [],
   "source": [
    "#去标点\n",
    "tokenized_corpus_3=[]\n",
    "clean_article=multi3['Clean Article'].tolist()\n",
    "for i in clean_article:\n",
    "    remove = str.maketrans('','',string.punctuation) \n",
    "    i = i.translate(remove)\n",
    "    a=word_tokenize(i)\n",
    "    tokenized_corpus_3.append(a)\n",
    "    \n",
    "tokenized_corpus_5=[]\n",
    "clean_article=multi5['Clean Article'].tolist()\n",
    "for i in clean_article:\n",
    "    remove = str.maketrans('','',string.punctuation) \n",
    "    i = i.translate(remove)\n",
    "    a=word_tokenize(i)\n",
    "    tokenized_corpus_5.append(a)"
   ]
  },
  {
   "cell_type": "code",
   "execution_count": 5,
   "metadata": {},
   "outputs": [],
   "source": [
    "wpt= nltk.WordPunctTokenizer()\n",
    "\n",
    "feature_size=100\n",
    "window_context=5\n",
    "min_word_count=1\n",
    "sample=1e-3\n",
    "\n",
    "w2v_model_3=word2vec.Word2Vec(tokenized_corpus_3,\n",
    "                              vector_size=feature_size,\n",
    "                              window=window_context,\n",
    "                           min_count=min_word_count,\n",
    "                              sample=sample,sg=1)\n",
    "\n",
    "w2v_model_5=word2vec.Word2Vec(tokenized_corpus_5,\n",
    "                              vector_size=feature_size,\n",
    "                              window=window_context,\n",
    "                           min_count=min_word_count,\n",
    "                              sample=sample,sg=1)\n"
   ]
  },
  {
   "cell_type": "code",
   "execution_count": 13,
   "metadata": {},
   "outputs": [],
   "source": [
    "w2v_model_3.save('w2v_model_3.model')\n",
    "w2v_model_5.save('w2v_model_5.model')"
   ]
  },
  {
   "cell_type": "code",
   "execution_count": 11,
   "metadata": {},
   "outputs": [],
   "source": [
    "w2v_model_3 = KeyedVectors.load('w2v_model_3.model',mmap='r')\n",
    "w2v_model_5 = KeyedVectors.load('w2v_model_5.model',mmap='r')"
   ]
  },
  {
   "cell_type": "markdown",
   "metadata": {},
   "source": [
    "#### b. 通过所含词的词向量取平均得到文档向量。"
   ]
  },
  {
   "cell_type": "code",
   "execution_count": 24,
   "metadata": {},
   "outputs": [],
   "source": [
    "article_vector3=[]\n",
    "article_vector5=[]\n",
    "for article in tokenized_corpus_3:\n",
    "    \n",
    "    tmp=np.empty(100)\n",
    "    if len(article)==0:\n",
    "         continue\n",
    "    for word in article:\n",
    "        tmp=tmp+w2v_model_3.wv[word]\n",
    "    tmp=tmp/len(article)\n",
    "    article_vector3.append(tmp.round(2))\n",
    "\n",
    "for article in tokenized_corpus_5:\n",
    "    tmp=np.empty(100)\n",
    "    if len(article)==0:\n",
    "        continue\n",
    "    for word in article:\n",
    "        tmp=tmp+w2v_model_5.wv[word]   \n",
    "    tmp=tmp/len(article)\n",
    "    article_vector5.append(tmp.round(2))"
   ]
  },
  {
   "attachments": {
    "image.png": {
     "image/png": "[encoded data removed]"
    }
   },
   "cell_type": "markdown",
   "metadata": {},
   "source": [
    "#### c. 基于以上文档向量，计算所有类每两个文档之间的欧式距离的平方做为该表示下类别的紧凑度 compactness，具体计算如下：![image.png](attachment:image.png)"
   ]
  },
  {
   "cell_type": "code",
   "execution_count": 25,
   "metadata": {},
   "outputs": [],
   "source": [
    "#multi3有3类\n",
    "comp_3_1 = list(itertools.combinations(article_vector3[0:200], 2))\n",
    "comp_3_2 = list(itertools.combinations(article_vector3[200:400], 2))\n",
    "comp_3_3 = list(itertools.combinations(article_vector3[400:600], 2))"
   ]
  },
  {
   "cell_type": "code",
   "execution_count": 27,
   "metadata": {},
   "outputs": [],
   "source": [
    "#multi5有5类\n",
    "comp_5_1 = list(itertools.combinations(article_vector5[0:200], 2))\n",
    "comp_5_2 = list(itertools.combinations(article_vector5[200:400], 2))\n",
    "comp_5_3 = list(itertools.combinations(article_vector5[400:600], 2))\n",
    "comp_5_4 = list(itertools.combinations(article_vector5[600:800], 2))\n",
    "comp_5_5 = list(itertools.combinations(article_vector5[800:1000], 2))"
   ]
  },
  {
   "cell_type": "code",
   "execution_count": 31,
   "metadata": {},
   "outputs": [],
   "source": [
    "dist_sum_3=0\n",
    "for i in comp_3_1:\n",
    "    dist = np.linalg.norm(i[0] -i[1])\n",
    "    dist_sum_3=dist+dist_sum_3\n",
    "for i in comp_3_2:\n",
    "    dist = np.linalg.norm(i[0] -i[1])\n",
    "    dist_sum_3+=dist\n",
    "for i in comp_3_3:\n",
    "    dist = np.linalg.norm(i[0] -i[1])\n",
    "    dist_sum_3+=dist"
   ]
  },
  {
   "cell_type": "code",
   "execution_count": 29,
   "metadata": {},
   "outputs": [],
   "source": [
    "dist_sum_5=0\n",
    "for i in comp_5_1:\n",
    "    dist = np.linalg.norm(i[0] -i[1])\n",
    "    dist_sum_5+=dist\n",
    "for i in comp_5_2:\n",
    "    dist = np.linalg.norm(i[0] -i[1])\n",
    "    dist_sum_5+=dist\n",
    "for i in comp_5_3:\n",
    "    dist = np.linalg.norm(i[0] -i[1])\n",
    "    dist_sum_5+=dist\n",
    "for i in comp_5_4:\n",
    "    dist = np.linalg.norm(i[0] -i[1])\n",
    "    dist_sum_5+=dist\n",
    "for i in comp_5_5:\n",
    "    dist = np.linalg.norm(i[0] -i[1])\n",
    "    dist_sum_5+=dist"
   ]
  },
  {
   "cell_type": "code",
   "execution_count": 32,
   "metadata": {},
   "outputs": [
    {
     "name": "stdout",
     "output_type": "stream",
     "text": [
      "子集multi3紧凑度 compactness为 19811.55\n",
      "子集multi5紧凑度 compactness为 44940.47\n"
     ]
    }
   ],
   "source": [
    "print('子集multi3紧凑度 compactness为',dist_sum_3.round(2))\n",
    "print('子集multi5紧凑度 compactness为',dist_sum_5.round(2))"
   ]
  },
  {
   "cell_type": "markdown",
   "metadata": {},
   "source": [
    "#### d. 改变参数，对比 a 中得到 compactness。具体为：改变维度=200，窗口大小保持 5，重复上面实验;改变窗口大小 10，维度保持为 100，重复上面 skipgram 实验。\n",
    "\n"
   ]
  },
  {
   "cell_type": "markdown",
   "metadata": {},
   "source": [
    "##### 1)维度=200，窗口=5"
   ]
  },
  {
   "cell_type": "code",
   "execution_count": 33,
   "metadata": {},
   "outputs": [],
   "source": [
    "feature_size=200\n",
    "window_context=5\n",
    "min_word_count=1\n",
    "sample=1e-3\n",
    "\n",
    "w2v_model_3=word2vec.Word2Vec(tokenized_corpus_3,\n",
    "                              vector_size=feature_size,\n",
    "                              window=window_context,\n",
    "                           min_count=min_word_count,\n",
    "                              sample=sample,sg=1)\n",
    "\n",
    "w2v_model_5=word2vec.Word2Vec(tokenized_corpus_5,\n",
    "                              vector_size=feature_size,\n",
    "                              window=window_context,\n",
    "                           min_count=min_word_count,\n",
    "                              sample=sample,sg=1)"
   ]
  },
  {
   "cell_type": "code",
   "execution_count": 35,
   "metadata": {},
   "outputs": [
    {
     "name": "stdout",
     "output_type": "stream",
     "text": [
      "维度=200，窗口=5下 子集multi3紧凑度 compactness为 2991378.61\n",
      "维度=200，窗口=5下 子集multi5紧凑度 compactness为 10712186.67\n"
     ]
    }
   ],
   "source": [
    "article_vector3=[]\n",
    "article_vector5=[]\n",
    "for article in tokenized_corpus_3:\n",
    "    \n",
    "    tmp=np.empty(feature_size)\n",
    "    if len(article)==0:\n",
    "        article_vector3.append(tmp.round(2))\n",
    "        continue\n",
    "    for word in article:\n",
    "        tmp=tmp+w2v_model_3.wv[word]\n",
    "    tmp=tmp/len(article)\n",
    "    article_vector3.append(tmp.round(2))\n",
    "\n",
    "for article in tokenized_corpus_5:\n",
    "    tmp=np.empty(feature_size)\n",
    "    if len(article)==0:\n",
    "        article_vector5.append(tmp.round(2))\n",
    "        continue\n",
    "    for word in article:\n",
    "        tmp=tmp+w2v_model_5.wv[word]   \n",
    "    tmp=tmp/len(article)\n",
    "    article_vector5.append(tmp.round(2))\n",
    "\n",
    "#multi3有3类\n",
    "comp_3_1 = list(itertools.combinations(article_vector3[0:200], 2))\n",
    "comp_3_2 = list(itertools.combinations(article_vector3[200:400], 2))\n",
    "comp_3_3 = list(itertools.combinations(article_vector3[400:600], 2))\n",
    "#multi5有5类\n",
    "comp_5_1 = list(itertools.combinations(article_vector5[0:200], 2))\n",
    "comp_5_2 = list(itertools.combinations(article_vector5[200:400], 2))\n",
    "comp_5_3 = list(itertools.combinations(article_vector5[400:600], 2))\n",
    "comp_5_4 = list(itertools.combinations(article_vector5[600:800], 2))\n",
    "comp_5_5 = list(itertools.combinations(article_vector5[800:1000], 2))\n",
    "\n",
    "dist_sum_3=0\n",
    "for i in comp_3_1:\n",
    "    dist = np.linalg.norm(i[0] -i[1])\n",
    "    dist_sum_3=dist+dist_sum_3\n",
    "for i in comp_3_2:\n",
    "    dist = np.linalg.norm(i[0] -i[1])\n",
    "    dist_sum_3+=dist\n",
    "for i in comp_3_3:\n",
    "    dist = np.linalg.norm(i[0] -i[1])\n",
    "    dist_sum_3+=dist\n",
    "\n",
    "dist_sum_5=0\n",
    "for i in comp_5_1:\n",
    "    dist = np.linalg.norm(i[0] -i[1])\n",
    "    dist_sum_5+=dist\n",
    "for i in comp_5_2:\n",
    "    dist = np.linalg.norm(i[0] -i[1])\n",
    "    dist_sum_5+=dist\n",
    "for i in comp_5_3:\n",
    "    dist = np.linalg.norm(i[0] -i[1])\n",
    "    dist_sum_5+=dist\n",
    "for i in comp_5_4:\n",
    "    dist = np.linalg.norm(i[0] -i[1])\n",
    "    dist_sum_5+=dist\n",
    "for i in comp_5_5:\n",
    "    dist = np.linalg.norm(i[0] -i[1])\n",
    "    dist_sum_5+=dist\n",
    "\n",
    "print('维度=200，窗口=5下 子集multi3紧凑度 compactness为',dist_sum_3.round(2))\n",
    "print('维度=200，窗口=5下 子集multi5紧凑度 compactness为',dist_sum_5.round(2))"
   ]
  },
  {
   "cell_type": "markdown",
   "metadata": {},
   "source": [
    "##### 2)维度=100，窗口=10"
   ]
  },
  {
   "cell_type": "code",
   "execution_count": 36,
   "metadata": {},
   "outputs": [
    {
     "name": "stdout",
     "output_type": "stream",
     "text": [
      "维度=100，窗口=10下 子集multi3紧凑度 compactness为 26210.23\n",
      "维度=100，窗口=10下 子集multi5紧凑度 compactness为 58072.73\n"
     ]
    }
   ],
   "source": [
    "feature_size=100\n",
    "window_context=10\n",
    "min_word_count=1\n",
    "sample=1e-3\n",
    "\n",
    "w2v_model_3=word2vec.Word2Vec(tokenized_corpus_3,\n",
    "                              vector_size=feature_size,\n",
    "                              window=window_context,\n",
    "                           min_count=min_word_count,\n",
    "                              sample=sample,sg=1)\n",
    "\n",
    "w2v_model_5=word2vec.Word2Vec(tokenized_corpus_5,\n",
    "                              vector_size=feature_size,\n",
    "                              window=window_context,\n",
    "                           min_count=min_word_count,\n",
    "                              sample=sample,sg=1)\n",
    "\n",
    "article_vector3=[]\n",
    "article_vector5=[]\n",
    "for article in tokenized_corpus_3:\n",
    "    \n",
    "    tmp=np.empty(feature_size)\n",
    "    if len(article)==0:\n",
    "        article_vector3.append(tmp.round(2))\n",
    "        continue\n",
    "    for word in article:\n",
    "        tmp=tmp+w2v_model_3.wv[word]\n",
    "    tmp=tmp/len(article)\n",
    "    article_vector3.append(tmp.round(2))\n",
    "\n",
    "for article in tokenized_corpus_5:\n",
    "    tmp=np.empty(feature_size)\n",
    "    if len(article)==0:\n",
    "        article_vector5.append(tmp.round(2))\n",
    "        continue\n",
    "    for word in article:\n",
    "        tmp=tmp+w2v_model_5.wv[word]   \n",
    "    tmp=tmp/len(article)\n",
    "    article_vector5.append(tmp.round(2))\n",
    "\n",
    "#multi3有3类\n",
    "comp_3_1 = list(itertools.combinations(article_vector3[0:200], 2))\n",
    "comp_3_2 = list(itertools.combinations(article_vector3[200:400], 2))\n",
    "comp_3_3 = list(itertools.combinations(article_vector3[400:600], 2))\n",
    "#multi5有5类\n",
    "comp_5_1 = list(itertools.combinations(article_vector5[0:200], 2))\n",
    "comp_5_2 = list(itertools.combinations(article_vector5[200:400], 2))\n",
    "comp_5_3 = list(itertools.combinations(article_vector5[400:600], 2))\n",
    "comp_5_4 = list(itertools.combinations(article_vector5[600:800], 2))\n",
    "comp_5_5 = list(itertools.combinations(article_vector5[800:1000], 2))\n",
    "\n",
    "dist_sum_3=0\n",
    "for i in comp_3_1:\n",
    "    dist = np.linalg.norm(i[0] -i[1])\n",
    "    dist_sum_3=dist+dist_sum_3\n",
    "for i in comp_3_2:\n",
    "    dist = np.linalg.norm(i[0] -i[1])\n",
    "    dist_sum_3+=dist\n",
    "for i in comp_3_3:\n",
    "    dist = np.linalg.norm(i[0] -i[1])\n",
    "    dist_sum_3+=dist\n",
    "\n",
    "dist_sum_5=0\n",
    "for i in comp_5_1:\n",
    "    dist = np.linalg.norm(i[0] -i[1])\n",
    "    dist_sum_5+=dist\n",
    "for i in comp_5_2:\n",
    "    dist = np.linalg.norm(i[0] -i[1])\n",
    "    dist_sum_5+=dist\n",
    "for i in comp_5_3:\n",
    "    dist = np.linalg.norm(i[0] -i[1])\n",
    "    dist_sum_5+=dist\n",
    "for i in comp_5_4:\n",
    "    dist = np.linalg.norm(i[0] -i[1])\n",
    "    dist_sum_5+=dist\n",
    "for i in comp_5_5:\n",
    "    dist = np.linalg.norm(i[0] -i[1])\n",
    "    dist_sum_5+=dist\n",
    "\n",
    "print('维度=100，窗口=10下 子集multi3紧凑度 compactness为',dist_sum_3.round(2))\n",
    "print('维度=100，窗口=10下 子集multi5紧凑度 compactness为',dist_sum_5.round(2))"
   ]
  },
  {
   "cell_type": "markdown",
   "metadata": {},
   "source": [
    "<div class=\"alert alert-success alertsuccess\" style=\"margin-top: 10px\">\n",
    "查看三次实验结果可以发现，增大维度和滑动窗口都会使紧凑度的数值增加，且增加滑动窗口造成的紧凑度数值上升较小，而扩大维度，会使紧凑度增加的特别大。"
   ]
  },
  {
   "cell_type": "markdown",
   "metadata": {},
   "source": [
    "#### e. 按照 a 中参数设置，调用 gensim 实现 CBOW 词向量嵌入，计算Compactness,对比同样参数设置下 skipgram 的结果。\n"
   ]
  },
  {
   "cell_type": "code",
   "execution_count": 38,
   "metadata": {},
   "outputs": [
    {
     "name": "stdout",
     "output_type": "stream",
     "text": [
      "CBOW方式子集multi3紧凑度 compactness为 30207.92\n",
      "CBOW方式子集multi5紧凑度 compactness为 107117.07\n"
     ]
    }
   ],
   "source": [
    "wpt= nltk.WordPunctTokenizer()\n",
    "\n",
    "feature_size=100\n",
    "window_context=5\n",
    "min_word_count=1\n",
    "sample=1e-3\n",
    "\n",
    "w2v_model_3=word2vec.Word2Vec(tokenized_corpus_3,\n",
    "                              vector_size=feature_size,\n",
    "                              window=window_context,\n",
    "                           min_count=min_word_count,\n",
    "                              sample=sample,sg=0)\n",
    "\n",
    "w2v_model_5=word2vec.Word2Vec(tokenized_corpus_5,\n",
    "                              vector_size=feature_size,\n",
    "                              window=window_context,\n",
    "                           min_count=min_word_count,\n",
    "                              sample=sample,sg=0)\n",
    "\n",
    "#获取文档向量\n",
    "article_vector3=[]\n",
    "article_vector5=[]\n",
    "for article in tokenized_corpus_3:\n",
    "    tmp=np.empty(feature_size)\n",
    "    if len(article)==0:\n",
    "        article_vector3.append(tmp.round(2))\n",
    "        continue\n",
    "    for word in article:\n",
    "        tmp=tmp+w2v_model_3.wv[word]\n",
    "    tmp=tmp/len(article)\n",
    "    article_vector3.append(tmp.round(2))\n",
    "\n",
    "for article in tokenized_corpus_5:\n",
    "    tmp=np.empty(feature_size)\n",
    "    if len(article)==0:\n",
    "        article_vector5.append(tmp.round(2))\n",
    "        continue\n",
    "    for word in article:\n",
    "        tmp=tmp+w2v_model_5.wv[word]   \n",
    "    tmp=tmp/len(article)\n",
    "    article_vector5.append(tmp.round(2))\n",
    "\n",
    "#multi3有3类\n",
    "comp_3_1 = list(itertools.combinations(article_vector3[0:200], 2))\n",
    "comp_3_2 = list(itertools.combinations(article_vector3[200:400], 2))\n",
    "comp_3_3 = list(itertools.combinations(article_vector3[400:600], 2))\n",
    "#multi5有5类\n",
    "comp_5_1 = list(itertools.combinations(article_vector5[0:200], 2))\n",
    "comp_5_2 = list(itertools.combinations(article_vector5[200:400], 2))\n",
    "comp_5_3 = list(itertools.combinations(article_vector5[400:600], 2))\n",
    "comp_5_4 = list(itertools.combinations(article_vector5[600:800], 2))\n",
    "comp_5_5 = list(itertools.combinations(article_vector5[800:1000], 2))\n",
    "\n",
    "dist_sum_3=0\n",
    "for i in comp_3_1:\n",
    "    dist = np.linalg.norm(i[0] -i[1])\n",
    "    dist_sum_3=dist+dist_sum_3\n",
    "for i in comp_3_2:\n",
    "    dist = np.linalg.norm(i[0] -i[1])\n",
    "    dist_sum_3+=dist\n",
    "for i in comp_3_3:\n",
    "    dist = np.linalg.norm(i[0] -i[1])\n",
    "    dist_sum_3+=dist\n",
    "\n",
    "dist_sum_5=0\n",
    "for i in comp_5_1:\n",
    "    dist = np.linalg.norm(i[0] -i[1])\n",
    "    dist_sum_5+=dist\n",
    "for i in comp_5_2:\n",
    "    dist = np.linalg.norm(i[0] -i[1])\n",
    "    dist_sum_5+=dist\n",
    "for i in comp_5_3:\n",
    "    dist = np.linalg.norm(i[0] -i[1])\n",
    "    dist_sum_5+=dist\n",
    "for i in comp_5_4:\n",
    "    dist = np.linalg.norm(i[0] -i[1])\n",
    "    dist_sum_5+=dist\n",
    "for i in comp_5_5:\n",
    "    dist = np.linalg.norm(i[0] -i[1])\n",
    "    dist_sum_5+=dist\n",
    "\n",
    "print('CBOW方式子集multi3紧凑度 compactness为',dist_sum_3.round(2))\n",
    "print('CBOW方式子集multi5紧凑度 compactness为',dist_sum_5.round(2))"
   ]
  },
  {
   "cell_type": "markdown",
   "metadata": {},
   "source": [
    "<div class=\"alert alert-success alertsuccess\" style=\"margin-top: 10px\">\n",
    "使用skipgram方式得到的紧凑度分别为19811.55和44940.47。\n",
    "    \n",
    "可以发现CBOW词向量方式的紧凑度要比skipgram大，接近两倍左右。"
   ]
  },
  {
   "cell_type": "markdown",
   "metadata": {},
   "source": [
    "#### g. 基于 sklearn 中的 TSNE 工具，进行可视化。具体用法参考课件例子。基于 skip-learn 和 TFIDF 用 TSNE 画出 2 维词嵌入结果并讨论。\n"
   ]
  },
  {
   "cell_type": "code",
   "execution_count": 49,
   "metadata": {},
   "outputs": [
    {
     "data": {
      "image/png": "[encoded data removed]",
      "text/plain": [
       "<Figure size 1008x576 with 1 Axes>"
      ]
     },
     "metadata": {
      "needs_background": "light"
     },
     "output_type": "display_data"
    }
   ],
   "source": [
    "similar_words={search_term:[item[0]\n",
    "              for item in w2v_model_3.wv.most_similar([search_term],topn=5)]\n",
    "                  for search_term in['god','water','man','woman']}\n",
    "words=sum([[k]+v for k,v in similar_words.items()],[])\n",
    "wvs=w2v_model_3.wv[words]\n",
    "tsne=TSNE(n_components=2,random_state=42,n_iter=10000,perplexity=2)\n",
    "np.set_printoptions(suppress=True)\n",
    "T=tsne.fit_transform(wvs)\n",
    "labels=words\n",
    "plt.figure(figsize=(14,8))\n",
    "plt.scatter(T[:,0],T[:,1],c='orange',edgecolors='r')\n",
    "for label,x,y in zip(labels,T[:,0],T[:,1]):\n",
    "    plt.annotate(label,xy=(x+1,y+1),xytext=(0,0),textcoords='offset points')"
   ]
  },
  {
   "cell_type": "markdown",
   "metadata": {},
   "source": [
    "### 2.基于词嵌入向量对 multi3 和 multi5 进行分类。"
   ]
  },
  {
   "cell_type": "code",
   "execution_count": 24,
   "metadata": {},
   "outputs": [],
   "source": [
    "from sklearn.svm import LinearSVC\n",
    "from sklearn.model_selection import train_test_split\n",
    "from sklearn.model_selection import cross_val_score\n",
    "from sklearn.feature_extraction.text import TfidfVectorizer"
   ]
  },
  {
   "cell_type": "markdown",
   "metadata": {},
   "source": [
    "#### a. 基于词嵌入向量（设定适当参数，文档向量为其所含词的词嵌入向量的平均），用 SVM 进行分类，得到 accuracy。\n"
   ]
  },
  {
   "cell_type": "code",
   "execution_count": 11,
   "metadata": {},
   "outputs": [],
   "source": [
    "feature_size=100\n",
    "window_context=5\n",
    "min_word_count=1\n",
    "sample=1e-3\n",
    "\n",
    "#去标点\n",
    "tokenized_corpus_3=[]\n",
    "clean_article=multi3['Clean Article'].tolist()\n",
    "for i in clean_article:\n",
    "    remove = str.maketrans('','',string.punctuation) \n",
    "    i = i.translate(remove)\n",
    "    a=word_tokenize(i)\n",
    "    text=' '.join(a)\n",
    "    tokenized_corpus_3.append(text)\n",
    "multi3['Clean Article remove punc']= tokenized_corpus_3\n",
    "\n",
    "tokenized_corpus_5=[]\n",
    "clean_article=multi5['Clean Article'].tolist()\n",
    "for i in clean_article:\n",
    "    remove = str.maketrans('','',string.punctuation) \n",
    "    i = i.translate(remove)\n",
    "    a=word_tokenize(i)\n",
    "    text=' '.join(a)\n",
    "    tokenized_corpus_5.append(text)\n",
    "multi5['Clean Article remove punc']= tokenized_corpus_5"
   ]
  },
  {
   "cell_type": "markdown",
   "metadata": {},
   "source": [
    "##### 1)multi3"
   ]
  },
  {
   "cell_type": "code",
   "execution_count": 59,
   "metadata": {},
   "outputs": [
    {
     "name": "stdout",
     "output_type": "stream",
     "text": [
      "multi3 Accuracy (5-fold): [0.65432099 0.64197531 0.675      0.575      0.5625    ]\n",
      "multi3 Mean Accuracy: 0.6217592592592592\n",
      "multi3 Test Accuracy: 0.6666666666666666\n"
     ]
    }
   ],
   "source": [
    "wpt= nltk.WordPunctTokenizer()\n",
    "\n",
    "feature_size=100\n",
    "window_context=5\n",
    "min_word_count=1\n",
    "sample=1e-3\n",
    "\n",
    "w2v_model_3=word2vec.Word2Vec(tokenized_corpus_3,\n",
    "                              vector_size=feature_size,\n",
    "                              window=window_context,\n",
    "                           min_count=min_word_count,\n",
    "                              sample=sample,sg=1)\n",
    "article_vector3=[]\n",
    "for article in tokenized_corpus_3: \n",
    "    tmp=np.empty(100)\n",
    "    if len(article)==0:\n",
    "        article_vector3.append(tmp.round(2))\n",
    "        continue\n",
    "    for word in article:\n",
    "        tmp=tmp+w2v_model_3.wv[word]\n",
    "    tmp=tmp/len(article)\n",
    "    article_vector3.append(tmp.round(2))\n",
    "\n",
    "\n",
    "train_features,test_features,train_label_names,test_label_names = train_test_split(np.array(article_vector3)\n",
    "                                                                        ,np.array(multi3['Target Name'])\n",
    "                                                                        ,test_size=0.33,random_state=42)\n",
    "\n",
    "\n",
    "\n",
    "svm = LinearSVC(penalty='l2',C=1,random_state=42)  # SVM模型\n",
    "svm.fit(train_features, train_label_names)\n",
    "svm_bow_scores = cross_val_score(svm,train_features,train_label_names,cv=5)\n",
    "svm_bow_mean_score = np.mean(svm_bow_scores)\n",
    "print('multi3 Accuracy (5-fold):',svm_bow_scores)\n",
    "print('multi3 Mean Accuracy:', svm_bow_mean_score)\n",
    "svm_bow_test_score = svm.score(test_features, test_label_names)\n",
    "print('multi3 Test Accuracy:', svm_bow_test_score)"
   ]
  },
  {
   "cell_type": "markdown",
   "metadata": {},
   "source": [
    "##### 2)multi5"
   ]
  },
  {
   "cell_type": "code",
   "execution_count": 61,
   "metadata": {},
   "outputs": [
    {
     "name": "stdout",
     "output_type": "stream",
     "text": [
      "multi5 Accuracy (5-fold): [0.58955224 0.57462687 0.56716418 0.52238806 0.57462687]\n",
      "multi5 Mean Accuracy: 0.5656716417910448\n",
      "multi5 Test Accuracy: 0.5757575757575758\n"
     ]
    }
   ],
   "source": [
    "wpt= nltk.WordPunctTokenizer()\n",
    "\n",
    "feature_size=100\n",
    "window_context=5\n",
    "min_word_count=1\n",
    "sample=1e-3\n",
    "\n",
    "w2v_model_5=word2vec.Word2Vec(tokenized_corpus_5,\n",
    "                              vector_size=feature_size,\n",
    "                              window=window_context,\n",
    "                           min_count=min_word_count,\n",
    "                              sample=sample,sg=1)\n",
    "article_vector5=[]\n",
    "for article in tokenized_corpus_5: \n",
    "    tmp=np.empty(100)\n",
    "    if len(article)==0:\n",
    "        article_vector5.append(tmp.round(2))\n",
    "        continue\n",
    "    for word in article:\n",
    "        tmp=tmp+w2v_model_5.wv[word]\n",
    "    tmp=tmp/len(article)\n",
    "    article_vector5.append(tmp.round(2))\n",
    "\n",
    "\n",
    "train_features,test_features,train_label_names,test_label_names = train_test_split(np.array(article_vector5)\n",
    "                                                                        ,np.array(multi5['Target Name'])\n",
    "                                                                        ,test_size=0.33,random_state=42)\n",
    "\n",
    "\n",
    "\n",
    "svm = LinearSVC(penalty='l2',C=1,random_state=42)  # SVM模型\n",
    "svm.fit(train_features, train_label_names)\n",
    "svm_bow_scores = cross_val_score(svm,train_features,train_label_names,cv=5)\n",
    "svm_bow_mean_score = np.mean(svm_bow_scores)\n",
    "print('multi5 Accuracy (5-fold):',svm_bow_scores)\n",
    "print('multi5 Mean Accuracy:', svm_bow_mean_score)\n",
    "svm_bow_test_score = svm.score(test_features, test_label_names)\n",
    "print('multi5 Test Accuracy:', svm_bow_test_score)"
   ]
  },
  {
   "cell_type": "markdown",
   "metadata": {},
   "source": [
    "<div class=\"alert alert-success alertsuccess\" style=\"margin-top: 10px\">\n",
    "结果展示：\n",
    "    \n",
    "对于multl3,词嵌入下svm的测试集准确率有0.67\n",
    "    \n",
    "对于multl5,词嵌入下svm的测试集准确率只有0.58"
   ]
  },
  {
   "cell_type": "markdown",
   "metadata": {},
   "source": [
    "#### b. 基于 TFIDF 词袋模型用 SVM 对上面两个数据集进行分类，对比a 中结果并讨论。\n"
   ]
  },
  {
   "cell_type": "code",
   "execution_count": 48,
   "metadata": {},
   "outputs": [
    {
     "name": "stdout",
     "output_type": "stream",
     "text": [
      "multi3 TV Accuracy (5-fold): [0.91358025 0.91358025 0.925      0.9        0.9       ]\n",
      "multi3 Mean TV Accuracy: 0.9104320987654321\n",
      "multi3 Test Accuracy: 0.8787878787878788\n",
      "\n",
      "multi5 TV Accuracy (5-fold): [0.86567164 0.82835821 0.82835821 0.88059701 0.84328358]\n",
      "multi5 Mean TV Accuracy: 0.8492537313432835\n",
      "multi5 Test Accuracy: 0.8666666666666667\n"
     ]
    }
   ],
   "source": [
    "#multi3\n",
    "train_corpus,test_corpus,train_label_names,test_label_names = train_test_split(np.array(multi3['Clean Article'])\n",
    "                                                                        ,np.array(multi3['Target Name'])\n",
    "                                                                        ,test_size=0.33,random_state=42)\n",
    "tv = TfidfVectorizer(min_df=0.0, max_df=1.0, norm='l2', use_idf=True, smooth_idf=True)\n",
    "tv_train_features = tv.fit_transform(train_corpus)\n",
    "tv_test_features = tv.transform(test_corpus)\n",
    "svm = LinearSVC(penalty='l2',C=1,random_state=42)  # SVM模型\n",
    "svm.fit(tv_train_features, train_label_names)\n",
    "svm_bow_tv_scores = cross_val_score(svm,tv_train_features,train_label_names,cv=5)\n",
    "svm_bow_tv_mean_score = np.mean(svm_bow_tv_scores)\n",
    "print('multi3 TV Accuracy (5-fold):',svm_bow_tv_scores)\n",
    "print('multi3 Mean TV Accuracy:', svm_bow_tv_mean_score)\n",
    "svm_bow_test_score = svm.score(tv_test_features, test_label_names)\n",
    "print('multi3 Test Accuracy:', svm_bow_test_score)\n",
    "print()\n",
    "\n",
    "#multi5\n",
    "train_corpus,test_corpus,train_label_names,test_label_names = train_test_split(np.array(multi5['Clean Article'])\n",
    "                                                                        ,np.array(multi5['Target Name'])\n",
    "                                                                        ,test_size=0.33,random_state=42)\n",
    "tv = TfidfVectorizer(min_df=0.0, max_df=1.0, norm='l2', use_idf=True, smooth_idf=True)\n",
    "tv_train_features = tv.fit_transform(train_corpus)\n",
    "tv_test_features = tv.transform(test_corpus)\n",
    "svm = LinearSVC(penalty='l2',C=1,random_state=42)  # SVM模型\n",
    "svm.fit(tv_train_features, train_label_names)\n",
    "svm_bow_tv_scores = cross_val_score(svm,tv_train_features,train_label_names,cv=5)\n",
    "svm_bow_tv_mean_score = np.mean(svm_bow_tv_scores)\n",
    "print('multi5 TV Accuracy (5-fold):',svm_bow_tv_scores)\n",
    "print('multi5 Mean TV Accuracy:', svm_bow_tv_mean_score)\n",
    "svm_bow_test_score = svm.score(tv_test_features, test_label_names)\n",
    "print('multi5 Test Accuracy:', svm_bow_test_score)"
   ]
  },
  {
   "cell_type": "markdown",
   "metadata": {},
   "source": [
    "<div class=\"alert alert-success alertsuccess\" style=\"margin-top: 10px\">\n",
    "结果展示：\n",
    "    \n",
    "对于multl3,TFIDF的测试集准确率有0.88\n",
    "    \n",
    "对于multl5,TFIDF的测试集准确率有0.87\n",
    "\n",
    "两个结果都远远超过了用词嵌入方法得到的准确率"
   ]
  },
  {
   "cell_type": "markdown",
   "metadata": {},
   "source": [
    "#### c. 把两种表示拼接起来得到新的文档表示后进行 SVM 分类，对比结果并讨论。\n"
   ]
  },
  {
   "cell_type": "code",
   "execution_count": 83,
   "metadata": {},
   "outputs": [
    {
     "name": "stdout",
     "output_type": "stream",
     "text": [
      "multi3 Accuracy (5-fold): [0.88888889 0.90123457 0.875      0.9        0.85      ]\n",
      "multi3 Mean Accuracy: 0.8830246913580246\n",
      "multi3 Test Accuracy: 0.8434343434343434\n",
      "multi5 Accuracy (5-fold): [0.82835821 0.79104478 0.79104478 0.88059701 0.85074627]\n",
      "multi5 Mean Accuracy: 0.8283582089552238\n",
      "multi5 Test Accuracy: 0.8636363636363636\n"
     ]
    }
   ],
   "source": [
    "#multi3\n",
    "train_corpus,test_corpus,train_label_names,test_label_names = train_test_split(np.array(multi3['Clean Article remove punc'])\n",
    "                                                                        ,np.array(multi3['Target Name'])\n",
    "                                                                        ,test_size=0.33,random_state=42)\n",
    "\n",
    "tv = TfidfVectorizer(min_df=0.0, max_df=1.0, norm='l2', use_idf=True, smooth_idf=True)\n",
    "tv_train_features = tv.fit_transform(train_corpus)\n",
    "tv_test_features = tv.transform(test_corpus)\n",
    "\n",
    "\n",
    "\n",
    "train_words=[word_tokenize(i) for i in train_corpus ]\n",
    "test_words=[word_tokenize(i) for i in test_corpus ]\n",
    "\n",
    "w2v_model_3=word2vec.Word2Vec(train_words+test_words,\n",
    "                              vector_size=feature_size,\n",
    "                              window=window_context,\n",
    "                           min_count=min_word_count,\n",
    "                              sample=sample,sg=1)\n",
    "\n",
    "\n",
    "train_article_vector3=[]\n",
    "for article in train_words: \n",
    "    tmp=np.empty(100)\n",
    "    if len(article)==0:\n",
    "        train_article_vector3.append(tmp.round(2))\n",
    "        continue\n",
    "    for word in article:\n",
    "        tmp=tmp+w2v_model_3.wv[word]\n",
    "    tmp=tmp/len(article)\n",
    "    train_article_vector3.append(tmp.round(2))\n",
    "    \n",
    "test_article_vector3=[]\n",
    "for article in test_words: \n",
    "    tmp=np.empty(100)\n",
    "    if len(article)==0:\n",
    "        test_article_vector3.append(tmp.round(2))\n",
    "        continue\n",
    "    for word in article:\n",
    "        tmp=tmp+w2v_model_3.wv[word]\n",
    "    tmp=tmp/len(article)\n",
    "    test_article_vector3.append(tmp.round(2))\n",
    "\n",
    "train_features=[]\n",
    "test_features=[]\n",
    "for i in range(len(train_article_vector3)):\n",
    "    train_features.append(np.hstack((train_article_vector3[i],tv_train_features.toarray()[i])))\n",
    "for i in range(len(test_article_vector3)):\n",
    "    test_features.append(np.hstack((test_article_vector3[i],tv_test_features.toarray()[i])))  \n",
    "    \n",
    "svm = LinearSVC(penalty='l2',C=1,random_state=42)  # SVM模型\n",
    "svm.fit(train_features, train_label_names)\n",
    "svm_bow_scores = cross_val_score(svm,train_features,train_label_names,cv=5)\n",
    "svm_bow_mean_score = np.mean(svm_bow_scores)\n",
    "print('multi3 Accuracy (5-fold):',svm_bow_scores)\n",
    "print('multi3 Mean Accuracy:', svm_bow_mean_score)\n",
    "svm_bow_test_score = svm.score(test_features, test_label_names)\n",
    "print('multi3 Test Accuracy:', svm_bow_test_score)\n",
    "\n",
    "#multi5\n",
    "train_corpus,test_corpus,train_label_names,test_label_names = train_test_split(np.array(multi5['Clean Article remove punc'])\n",
    "                                                                        ,np.array(multi5['Target Name'])\n",
    "                                                                        ,test_size=0.33,random_state=42)\n",
    "\n",
    "tv = TfidfVectorizer(min_df=0.0, max_df=1.0, norm='l2', use_idf=True, smooth_idf=True)\n",
    "tv_train_features = tv.fit_transform(train_corpus)\n",
    "tv_test_features = tv.transform(test_corpus)\n",
    "\n",
    "\n",
    "\n",
    "train_words=[word_tokenize(i) for i in train_corpus ]\n",
    "test_words=[word_tokenize(i) for i in test_corpus ]\n",
    "\n",
    "w2v_model_5=word2vec.Word2Vec(train_words+test_words,\n",
    "                              vector_size=feature_size,\n",
    "                              window=window_context,\n",
    "                           min_count=min_word_count,\n",
    "                              sample=sample,sg=1)\n",
    "\n",
    "\n",
    "train_article_vector5=[]\n",
    "for article in train_words: \n",
    "    tmp=np.empty(100)\n",
    "    if len(article)==0:\n",
    "        train_article_vector5.append(tmp.round(2))\n",
    "        continue\n",
    "    for word in article:\n",
    "        tmp=tmp+w2v_model_5.wv[word]\n",
    "    tmp=tmp/len(article)\n",
    "    train_article_vector5.append(tmp.round(2))\n",
    "    \n",
    "test_article_vector5=[]\n",
    "for article in test_words: \n",
    "    tmp=np.empty(100)\n",
    "    if len(article)==0:\n",
    "        test_article_vector5.append(tmp.round(2))\n",
    "        continue\n",
    "    for word in article:\n",
    "        tmp=tmp+w2v_model_5.wv[word]\n",
    "    tmp=tmp/len(article)\n",
    "    test_article_vector5.append(tmp.round(2))\n",
    "\n",
    "train_features=[]\n",
    "test_features=[]\n",
    "for i in range(len(train_article_vector5)):\n",
    "    train_features.append(np.hstack((train_article_vector5[i],tv_train_features.toarray()[i])))\n",
    "for i in range(len(test_article_vector5)):\n",
    "    test_features.append(np.hstack((test_article_vector5[i],tv_test_features.toarray()[i])))  \n",
    "    \n",
    "svm = LinearSVC(penalty='l2',C=1,random_state=42)  # SVM模型\n",
    "svm.fit(train_features, train_label_names)\n",
    "svm_bow_scores = cross_val_score(svm,train_features,train_label_names,cv=5)\n",
    "svm_bow_mean_score = np.mean(svm_bow_scores)\n",
    "print('multi5 Accuracy (5-fold):',svm_bow_scores)\n",
    "print('multi5 Mean Accuracy:', svm_bow_mean_score)\n",
    "svm_bow_test_score = svm.score(test_features, test_label_names)\n",
    "print('multi5 Test Accuracy:', svm_bow_test_score)"
   ]
  },
  {
   "cell_type": "markdown",
   "metadata": {},
   "source": [
    "<div class=\"alert alert-success alertsuccess\" style=\"margin-top: 10px\">\n",
    "结果分析和讨论：\n",
    "    \n",
    "对于multi3和multi5这两数据集，将两种表示拼接后得到的测试集准确率为0.85和0.86，比使用词嵌入方法的方式高，但较于TFIDF的方法，准确率却有略微的降低，能体现出拼接后，平均文档向量会一定程度上干扰判断。"
   ]
  },
  {
   "cell_type": "markdown",
   "metadata": {},
   "source": [
    "#### d. 以 TFIDF 为权重，对每个文档所含词向量进行加权平均得到文档向量，进行 SVM 分类，对比前面结果。"
   ]
  },
  {
   "cell_type": "code",
   "execution_count": 71,
   "metadata": {},
   "outputs": [],
   "source": [
    "#计算权重平均文档向量函数\n",
    "def tfidf_wtd_avg_word_vectors(words,tfidf_vector,tfidf_vocabulary,model,num_features):\n",
    "    word_tfidfs=[tfidf_vector[0,tfidf_vocabulary.get(word)] if tfidf_vocabulary.get(word) else 0 for word in words]\n",
    "    word_tfidf_map={word:tfidf_val for word,tfidf_val in zip(words,word_tfidfs)}\n",
    "    feature_vector=np.zeros((num_features,),dtype='float64')\n",
    "    vocabulary=set(model.wv.index_to_key)\n",
    "    wts=0\n",
    "    for word in words:\n",
    "        if word in vocabulary:\n",
    "            word_vector=model.wv[word]\n",
    "            weighted_word_vector=word_tfidf_map[word]*word_vector\n",
    "            wts=wts+word_tfidf_map[word]\n",
    "            feature_vector=np.add(feature_vector,weighted_word_vector)\n",
    "    if wts:\n",
    "        feature_vector=np.divide(feature_vector,wts)\n",
    "    return feature_vector\n",
    "\n",
    "def tfidf_weighted_averaged_word_vectorizer(corpus,tfidf_vectors,tfidf_vocabulary,model,num_features):\n",
    "    docs_tfidfs=[(doc,doc_tfidf) for doc,doc_tfidf in zip(corpus,tfidf_vectors)]\n",
    "    features=[tfidf_wtd_avg_word_vectors(tokenized_sentence,tfidf,tfidf_vocabulary,model,num_features) for tokenized_sentence,tfidf in docs_tfidfs]\n",
    "    return np.array(features)"
   ]
  },
  {
   "cell_type": "code",
   "execution_count": 32,
   "metadata": {},
   "outputs": [],
   "source": [
    "#multi3\n",
    "train_corpus_3,test_corpus_3,train_label_names_3,test_label_names_3 = train_test_split(np.array(multi3['Clean Article remove punc'])\n",
    "                                                                        ,np.array(multi3['Target Name'])\n",
    "                                                                        ,test_size=0.33,random_state=42)\n",
    "\n",
    "tv_3 = TfidfVectorizer(min_df=0.0, max_df=1.0, norm='l2', use_idf=True, smooth_idf=True)\n",
    "tv_train_features_3=tv_3.fit_transform(train_corpus_3)\n",
    "tv_test_features_3=tv_3.fit_transform(test_corpus_3)\n",
    "\n",
    "\n",
    "train_words_3=[word_tokenize(i) for i in train_corpus_3 ]\n",
    "test_words_3=[word_tokenize(i) for i in test_corpus_3 ]\n",
    "\n",
    "w2v_model_3=word2vec.Word2Vec(train_words_3+test_words_3,\n",
    "                              vector_size=feature_size,\n",
    "                              window=window_context,\n",
    "                           min_count=min_word_count,\n",
    "                              sample=sample,sg=1)"
   ]
  },
  {
   "cell_type": "code",
   "execution_count": 28,
   "metadata": {},
   "outputs": [],
   "source": [
    "#multi5\n",
    "train_corpus_5,test_corpus_5,train_label_names_5,test_label_names_5 = train_test_split(np.array(multi5['Clean Article remove punc'])\n",
    "                                                                        ,np.array(multi5['Target Name'])\n",
    "                                                                        ,test_size=0.33,random_state=42)\n",
    "\n",
    "tv_5 = TfidfVectorizer(min_df=0.0, max_df=1.0, norm='l2', use_idf=True, smooth_idf=True)\n",
    "tv_train_features_5=tv_5.fit_transform(train_corpus_5)\n",
    "tv_test_features_5=tv_5.fit_transform(test_corpus_5)\n",
    "\n",
    "\n",
    "train_words_5=[word_tokenize(i) for i in train_corpus_5 ]\n",
    "test_words_5=[word_tokenize(i) for i in test_corpus_5 ]\n",
    "\n",
    "w2v_model_5=word2vec.Word2Vec(train_words_5+test_words_5,\n",
    "                              vector_size=feature_size,\n",
    "                              window=window_context,\n",
    "                           min_count=min_word_count,\n",
    "                              sample=sample,sg=1)"
   ]
  },
  {
   "cell_type": "code",
   "execution_count": 33,
   "metadata": {},
   "outputs": [],
   "source": [
    "tv_3_voca=tv_3.vocabulary_\n",
    "train_features_3=tfidf_weighted_averaged_word_vectorizer(train_words_3,tv_train_features_3,tv_3_voca,w2v_model_3,100)\n",
    "test_features_3=tfidf_weighted_averaged_word_vectorizer(test_words_3,tv_test_features_3,tv_3_voca,w2v_model_3,100)"
   ]
  },
  {
   "cell_type": "code",
   "execution_count": 30,
   "metadata": {},
   "outputs": [],
   "source": [
    "tv_5_voca=tv_5.vocabulary_\n",
    "train_features_5=tfidf_weighted_averaged_word_vectorizer(train_words_5,tv_train_features_5,tv_5_voca,w2v_model_5,100)\n",
    "test_features_5=tfidf_weighted_averaged_word_vectorizer(test_words_5,tv_test_features_5,tv_5_voca,w2v_model_5,100)"
   ]
  },
  {
   "cell_type": "code",
   "execution_count": 31,
   "metadata": {},
   "outputs": [
    {
     "name": "stdout",
     "output_type": "stream",
     "text": [
      "multi3 Test Accuracy: 0.667\n",
      "multi5 Test Accuracy: 0.712\n"
     ]
    }
   ],
   "source": [
    "svm_3 = LinearSVC(penalty='l2',C=1,random_state=42)  # SVM模型\n",
    "svm_3.fit(train_features_3, train_label_names_3)\n",
    "svm_bow_test_score_3 = svm_3.score(test_features_3, test_label_names_3)\n",
    "print('multi3 Test Accuracy:', svm_bow_test_score_3.round(3))\n",
    "\n",
    "svm_5 = LinearSVC(penalty='l2',C=1,random_state=42)  # SVM模型\n",
    "svm_5.fit(train_features_5, train_label_names_5)\n",
    "svm_bow_test_score_5 = svm_5.score(test_features_5, test_label_names_5)\n",
    "print('multi5 Test Accuracy:', svm_bow_test_score_5.round(3))"
   ]
  },
  {
   "cell_type": "markdown",
   "metadata": {},
   "source": [
    "<div class=\"alert alert-success alertsuccess\" style=\"margin-top: 10px\">\n",
    "结果分析和讨论：\n",
    "    \n",
    "对每个文档所含词向量进行加权平均得到文档向量操作后，分类的准确度比单纯使用词向量和词向量与TFIDF拼接的效果都要好。"
   ]
  },
  {
   "cell_type": "markdown",
   "metadata": {},
   "source": [
    "### 3.预训练词向量 "
   ]
  },
  {
   "cell_type": "markdown",
   "metadata": {},
   "source": [
    "#### 基于 Glove 预训练词向量，重复上面 a,c,d 中的实验，根据结果讨论预训练词向量的适用范围"
   ]
  },
  {
   "cell_type": "code",
   "execution_count": 6,
   "metadata": {},
   "outputs": [],
   "source": [
    "from gensim.scripts.glove2word2vec import glove2word2vec\n",
    "from gensim.models import KeyedVectors"
   ]
  },
  {
   "cell_type": "code",
   "execution_count": 4,
   "metadata": {
    "scrolled": true
   },
   "outputs": [
    {
     "name": "stderr",
     "output_type": "stream",
     "text": [
      "<ipython-input-4-11c819397eb6>:5: DeprecationWarning: Call to deprecated `glove2word2vec` (KeyedVectors.load_word2vec_format(.., binary=False, no_header=True) loads GLoVE text vectors.).\n",
      "  (count, dimensions) = glove2word2vec(glove_input_file, word2vec_output_file)\n"
     ]
    },
    {
     "name": "stdout",
     "output_type": "stream",
     "text": [
      "1193514 \n",
      " 50\n"
     ]
    }
   ],
   "source": [
    "glove_input_file = 'glove.twitter.27B/glove.twitter.27B.50d.txt'\n",
    "word2vec_output_file = 'glove.twitter.27B/glove.twitter.27B..word2vec.txt'\n",
    "(count, dimensions) = glove2word2vec(glove_input_file, word2vec_output_file)\n",
    "print(count, '\\n', dimensions)\n"
   ]
  },
  {
   "cell_type": "code",
   "execution_count": 7,
   "metadata": {},
   "outputs": [
    {
     "name": "stdout",
     "output_type": "stream",
     "text": [
      "[-3.8646e-01 -3.4356e-01 -3.0380e-01 -2.2574e-01 -8.3226e-01 -5.0343e-01\n",
      "  5.5678e-01  1.5743e-01  8.8370e-02  1.4789e-01 -1.6460e-01  6.6234e-01\n",
      " -3.7069e+00 -1.8796e-01  2.5459e-04  5.1017e-01  3.0290e-01 -1.1149e+00\n",
      "  3.2269e-01 -2.3953e-01 -6.4404e-01  2.7223e-01  2.4307e-01 -2.7370e-01\n",
      " -1.1198e-01  4.2510e-01 -9.2354e-01  2.3444e-01  5.3379e-01  2.2733e-01\n",
      " -5.1808e-01  3.2424e-01  3.9646e-01 -5.5740e-01 -4.9668e-01 -6.1077e-02\n",
      "  2.3813e-01 -3.3908e-01  3.1550e-01 -3.6068e-01 -1.2946e+00 -1.5165e-01\n",
      " -8.9922e-01  4.0949e-01  6.3683e-01  1.1439e+00  7.2612e-01  2.4406e-01\n",
      " -3.1790e-01 -6.0281e-01]\n",
      "[('squirrel', 0.8802487254142761), ('monkey', 0.8800931572914124), ('lizard', 0.8797428607940674), ('unicorn', 0.8575026392936707), ('turtle', 0.8562190532684326), ('rabbit', 0.8355662822723389), ('elephant', 0.8345798850059509), ('dinosaur', 0.8336232304573059), ('toad', 0.8300161957740784), ('bunny', 0.8233627080917358)]\n"
     ]
    }
   ],
   "source": [
    "# 加载模型\n",
    "glove_model = KeyedVectors.load_word2vec_format(word2vec_output_file, binary=False)\n",
    "# 如果希望直接获取某个单词的向量表示，直接以下标方式访问即可\n",
    "cat_vec = glove_model['cat']\n",
    "print(cat_vec)\n",
    "# 获得单词frog的最相似向量的词汇\n",
    "print(glove_model.most_similar('frog'))\n"
   ]
  },
  {
   "cell_type": "markdown",
   "metadata": {},
   "source": [
    "#### a. 基于词嵌入向量（设定适当参数，文档向量为其所含词的词嵌入向量的平均），用 SVM 进行分类，得到 accuracy。"
   ]
  },
  {
   "cell_type": "code",
   "execution_count": 21,
   "metadata": {},
   "outputs": [],
   "source": [
    "#获取平均文档向量\n",
    "def average_word_vectors(words,model,vocabulary,num_features):\n",
    "    feature_vector=np.zeros((num_features,),dtype='float64')\n",
    "    nwords=0\n",
    "    for word in words:\n",
    "        if word in vocabulary:\n",
    "            nwords=nwords+1\n",
    "            feature_vector=np.add(feature_vector,model[word])\n",
    "    if nwords:\n",
    "        feature_vector=np.divide(feature_vector,nwords)\n",
    "    return feature_vector\n",
    "\n",
    "def averaged_word_vectorizer(corpus,model,num_features):\n",
    "    #get the all vocabulary\n",
    "    vocabulary=set(model.index_to_key)\n",
    "    features=[average_word_vectors(tokenized_sentence,model,vocabulary,num_features) for tokenized_sentence in corpus]\n",
    "    return np.array(features)\n"
   ]
  },
  {
   "cell_type": "code",
   "execution_count": 46,
   "metadata": {},
   "outputs": [],
   "source": [
    "train_corpus_3,test_corpus_3,train_label_names_3,test_label_names_3 = train_test_split(np.array(multi3['Clean Article remove punc'])\n",
    "                                                                        ,np.array(multi3['Target Name'])\n",
    "                                                                        ,test_size=0.33,random_state=42)\n",
    "train_corpus_5,test_corpus_5,train_label_names_5,test_label_names_5 = train_test_split(np.array(multi5['Clean Article remove punc'])\n",
    "                                                                        ,np.array(multi5['Target Name'])\n",
    "                                                                        ,test_size=0.33,random_state=42)"
   ]
  },
  {
   "cell_type": "code",
   "execution_count": 57,
   "metadata": {},
   "outputs": [
    {
     "name": "stdout",
     "output_type": "stream",
     "text": [
      "multi3 Test Accuracy: 0.556\n",
      "multi5 Test Accuracy: 0.482\n"
     ]
    },
    {
     "name": "stderr",
     "output_type": "stream",
     "text": [
      "D:\\app\\anaconda\\lib\\site-packages\\sklearn\\svm\\_base.py:985: ConvergenceWarning: Liblinear failed to converge, increase the number of iterations.\n",
      "  warnings.warn(\"Liblinear failed to converge, increase \"\n"
     ]
    }
   ],
   "source": [
    "train_features_3=averaged_word_vectorizer(train_corpus_3,model=glove_model,num_features=50)\n",
    "test_features_3=averaged_word_vectorizer(test_corpus_3,model=glove_model,num_features=50)\n",
    "\n",
    "train_features_5=averaged_word_vectorizer(train_corpus_5,model=glove_model,num_features=50)\n",
    "test_features_5=averaged_word_vectorizer(test_corpus_5,model=glove_model,num_features=50)\n",
    "\n",
    "svm_3 = LinearSVC(penalty='l2',C=1,random_state=42)  # SVM模型\n",
    "svm_3.fit(train_features_3, train_label_names_3)\n",
    "svm_bow_test_score_3 = svm_3.score(test_features_3, test_label_names_3)\n",
    "print('multi3 Test Accuracy:', svm_bow_test_score_3.round(3))\n",
    "\n",
    "svm_5 = LinearSVC(penalty='l2',C=1,random_state=42)  # SVM模型\n",
    "svm_5.fit(train_features_5, train_label_names_5)\n",
    "svm_bow_test_score_5 = svm_5.score(test_features_5, test_label_names_5)\n",
    "print('multi5 Test Accuracy:', svm_bow_test_score_5.round(3))"
   ]
  },
  {
   "cell_type": "markdown",
   "metadata": {},
   "source": [
    "#### c. 把两种表示拼接起来得到新的文档表示后进行 SVM 分类，对比结果并讨论。\n"
   ]
  },
  {
   "cell_type": "code",
   "execution_count": 66,
   "metadata": {},
   "outputs": [],
   "source": [
    "tv_3 = TfidfVectorizer(min_df=0.0, max_df=1.0, norm='l2', use_idf=True, smooth_idf=True)\n",
    "tv_train_features_3=tv_3.fit_transform(train_corpus_3)\n",
    "tv_test_features_3=tv_3.transform(test_corpus_3)\n",
    "\n",
    "\n",
    "tv_5 = TfidfVectorizer(min_df=0.0, max_df=1.0, norm='l2', use_idf=True, smooth_idf=True)\n",
    "tv_train_features_5=tv_5.fit_transform(train_corpus_5)\n",
    "tv_test_features_5=tv_5.transform(test_corpus_5)\n",
    "\n",
    "\n",
    "new_train_features_3=[]\n",
    "new_test_features_3=[]\n",
    "for i in range(len(train_features_3)):\n",
    "    new_train_features_3.append(np.hstack((train_features_3[i],tv_train_features_3.toarray()[i])))\n",
    "for i in range(len(test_features_3)):\n",
    "    new_test_features_3.append(np.hstack((test_features_3[i],tv_test_features_3.toarray()[i])))  \n",
    "    \n",
    "new_train_features_5=[]\n",
    "new_test_features_5=[]\n",
    "for i in range(len(train_features_5)):\n",
    "    new_train_features_5.append(np.hstack((train_features_5[i],tv_train_features_5.toarray()[i])))\n",
    "for i in range(len(test_features_5)):\n",
    "    new_test_features_5.append(np.hstack((test_features_5[i],tv_test_features_5.toarray()[i])))  "
   ]
  },
  {
   "cell_type": "code",
   "execution_count": 59,
   "metadata": {},
   "outputs": [
    {
     "name": "stdout",
     "output_type": "stream",
     "text": [
      "multi3 Test Accuracy: 0.869\n",
      "multi5 Test Accuracy: 0.83\n"
     ]
    }
   ],
   "source": [
    "svm_3 = LinearSVC(penalty='l2',C=1,random_state=42)  # SVM模型\n",
    "svm_3.fit(new_train_features_3, train_label_names_3)\n",
    "svm_bow_test_score_3 = svm_3.score(new_test_features_3, test_label_names_3)\n",
    "print('multi3 Test Accuracy:', svm_bow_test_score_3.round(3))\n",
    "\n",
    "svm_5 = LinearSVC(penalty='l2',C=1,random_state=42)  # SVM模型\n",
    "svm_5.fit(new_train_features_5, train_label_names_5)\n",
    "svm_bow_test_score_5 = svm_5.score(new_test_features_5, test_label_names_5)\n",
    "print('multi5 Test Accuracy:', svm_bow_test_score_5.round(3))"
   ]
  },
  {
   "cell_type": "markdown",
   "metadata": {},
   "source": [
    "#### d. 以 TFIDF 为权重，对每个文档所含词向量进行加权平均得到文档向量，进行 SVM 分类\n"
   ]
  },
  {
   "cell_type": "code",
   "execution_count": 73,
   "metadata": {},
   "outputs": [],
   "source": [
    "#计算权重平均文档向量函数\n",
    "def tfidf_wtd_avg_word_vectors(words,tfidf_vector,tfidf_vocabulary,model,num_features):\n",
    "    word_tfidfs=[tfidf_vector[0,tfidf_vocabulary.get(word)] if tfidf_vocabulary.get(word) else 0 for word in words]\n",
    "    word_tfidf_map={word:tfidf_val for word,tfidf_val in zip(words,word_tfidfs)}\n",
    "    feature_vector=np.zeros((num_features,),dtype='float64')\n",
    "    vocabulary=set(model.index_to_key)\n",
    "    wts=0\n",
    "    for word in words:\n",
    "        if word in vocabulary:\n",
    "            word_vector=model[word]\n",
    "            weighted_word_vector=word_tfidf_map[word]*word_vector\n",
    "            wts=wts+word_tfidf_map[word]\n",
    "            feature_vector=np.add(feature_vector,weighted_word_vector)\n",
    "    if wts:\n",
    "        feature_vector=np.divide(feature_vector,wts)\n",
    "    return feature_vector\n",
    "\n",
    "def tfidf_weighted_averaged_word_vectorizer(corpus,tfidf_vectors,tfidf_vocabulary,model,num_features):\n",
    "    docs_tfidfs=[(doc,doc_tfidf) for doc,doc_tfidf in zip(corpus,tfidf_vectors)]\n",
    "    features=[tfidf_wtd_avg_word_vectors(tokenized_sentence,tfidf,tfidf_vocabulary,model,num_features) for tokenized_sentence,tfidf in docs_tfidfs]\n",
    "    return np.array(features)"
   ]
  },
  {
   "cell_type": "code",
   "execution_count": 76,
   "metadata": {},
   "outputs": [],
   "source": [
    "vocabulary_3=tv_3.vocabulary_\n",
    "\n",
    "vocabulary_5=tv_5.vocabulary_\n",
    "\n",
    "train_words_3=[word_tokenize(i) for i in train_corpus_3 ]\n",
    "test_words_3=[word_tokenize(i) for i in test_corpus_3 ]\n",
    "\n",
    "train_words_5=[word_tokenize(i) for i in train_corpus_5 ]\n",
    "test_words_5=[word_tokenize(i) for i in test_corpus_5 ]\n",
    "\n",
    "\n",
    "train_features_3=tfidf_weighted_averaged_word_vectorizer(train_words_3,tv_train_features_3,vocabulary_3,glove_model,50)\n",
    "test_features_3=tfidf_weighted_averaged_word_vectorizer(test_words_3,tv_test_features_3,vocabulary_3,glove_model,50)\n",
    "\n",
    "train_features_5=tfidf_weighted_averaged_word_vectorizer(train_words_5,tv_train_features_5,vocabulary_5,glove_model,50)\n",
    "test_features_5=tfidf_weighted_averaged_word_vectorizer(test_words_5,tv_test_features_5,vocabulary_5,glove_model,50)"
   ]
  },
  {
   "cell_type": "code",
   "execution_count": 77,
   "metadata": {},
   "outputs": [
    {
     "name": "stdout",
     "output_type": "stream",
     "text": [
      "multi3 Test Accuracy: 0.758\n",
      "multi5 Test Accuracy: 0.727\n"
     ]
    }
   ],
   "source": [
    "svm_3 = LinearSVC(penalty='l2',C=1,random_state=42)  # SVM模型\n",
    "svm_3.fit(train_features_3, train_label_names_3)\n",
    "svm_bow_test_score_3 = svm_3.score(test_features_3, test_label_names_3)\n",
    "print('multi3 Test Accuracy:', svm_bow_test_score_3.round(3))\n",
    "\n",
    "svm_5 = LinearSVC(penalty='l2',C=1,random_state=42)  # SVM模型\n",
    "svm_5.fit(train_features_5, train_label_names_5)\n",
    "svm_bow_test_score_5 = svm_5.score(test_features_5, test_label_names_5)\n",
    "print('multi5 Test Accuracy:', svm_bow_test_score_5.round(3))"
   ]
  },
  {
   "cell_type": "markdown",
   "metadata": {},
   "source": [
    "<div class=\"alert alert-success alertsuccess\" style=\"margin-top: 10px\">\n",
    "结果分析和讨论：\n",
    "\n",
    "使用预训练的词向量后，预测的准确率都要较好于用自己的数据集训练出来的词向量，对于数据量较小的multi3，提升较明显；而对于multi5，准确率提升的不是特别大。\n",
    "\n",
    "由此可见，当自己拥有的数据集的规模较大时，可以不考虑使用预训练的词向量。\n",
    "    \n",
    "若数据集较少，且预训练的词向量内容与自己的数据相关度较高时，可以考虑使用预训练的词向量"
   ]
  }
 ],
 "metadata": {
  "kernelspec": {
   "display_name": "Python 3",
   "language": "python",
   "name": "python3"
  },
  "language_info": {
   "codemirror_mode": {
    "name": "ipython",
    "version": 3
   },
   "file_extension": ".py",
   "mimetype": "text/x-python",
   "name": "python",
   "nbconvert_exporter": "python",
   "pygments_lexer": "ipython3",
   "version": "3.8.5"
  }
 },
 "nbformat": 4,
 "nbformat_minor": 4
}
