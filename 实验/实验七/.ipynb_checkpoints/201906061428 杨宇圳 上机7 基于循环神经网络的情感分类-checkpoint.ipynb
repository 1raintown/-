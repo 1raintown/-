{
 "cells": [
  {
   "cell_type": "markdown",
   "metadata": {},
   "source": [
    "\n",
    "<h1 align=center><font size = 5> <center>文本分析与挖掘</center> </font></h1> \n",
    "\n",
    "<h2 align=center><font size = 4><center>实验七、基于循环神经网络的情感分类</center></font></h2>\n",
    "<h2 align=center><font size = 2><center>浙江工业大学计算机科学与技术学院</center></font></h2>"
   ]
  },
  {
   "cell_type": "markdown",
   "metadata": {},
   "source": [
    "## 一、实验目的"
   ]
  },
  {
   "cell_type": "markdown",
   "metadata": {},
   "source": [
    "<div class=\"alert alert-block alert-info\" style=\"margin-top: 20px\">\n",
    "<li>掌握基于进行分类的模型搭建和训练</li>\n",
    "<li>掌握不同 RNN 类型的调用</li>\n",
    "<li> 熟悉英文情感分类过程</li>"
   ]
  },
  {
   "cell_type": "markdown",
   "metadata": {},
   "source": [
    "## 二、实验内容\n",
    "<div class=\"alert alert-block alert-info\" style=\"margin-top: 20px\">\n",
    "<li>基于循环神经网络对英文影评 IMDB 数据集进行分类。</li>\n",
    "\n"
   ]
  },
  {
   "cell_type": "markdown",
   "metadata": {},
   "source": [
    "加载IMDB数据集，并划分训练集和测试集"
   ]
  },
  {
   "cell_type": "code",
   "execution_count": 1,
   "metadata": {},
   "outputs": [],
   "source": [
    "import  os\n",
    "import  tensorflow as tf\n",
    "import  numpy as np\n",
    "from    tensorflow import keras\n",
    "from    tensorflow.keras import layers, losses, optimizers, Sequential\n",
    "import pandas  as pd\n",
    "import matplotlib.pyplot as plt"
   ]
  },
  {
   "cell_type": "code",
   "execution_count": 2,
   "metadata": {},
   "outputs": [
    {
     "name": "stdout",
     "output_type": "stream",
     "text": [
      "训练集的形状: (25000,)\n",
      "测试集的形状: (25000,)\n"
     ]
    }
   ],
   "source": [
    "max_review_len = 80 # 句子最大长度s，大于的句子部分将截断，小于的将填充\n",
    "max_word_num=60#词汇表数量\n",
    "(x_train, y_train), (x_test, y_test) = keras.datasets.imdb.load_data(num_words=max_word_num)\n",
    "#打印输入的形状，标签的形状\n",
    "print(\"训练集的形状:\", x_train.shape)\n",
    "print(\"测试集的形状:\",x_test.shape)"
   ]
  },
  {
   "cell_type": "code",
   "execution_count": 3,
   "metadata": {},
   "outputs": [],
   "source": [
    "# 截断和填充句子，使得等长，此处长句子保留句子后面的部分，短句子在前面填充\n",
    "x_train = keras.preprocessing.sequence.pad_sequences(x_train, maxlen=max_review_len)\n",
    "x_test = keras.preprocessing.sequence.pad_sequences(x_test, maxlen=max_review_len)\n"
   ]
  },
  {
   "cell_type": "code",
   "execution_count": 4,
   "metadata": {},
   "outputs": [],
   "source": [
    "x_train=x_train.tolist()\n",
    "x_test=x_test.tolist()"
   ]
  },
  {
   "cell_type": "code",
   "execution_count": 5,
   "metadata": {
    "scrolled": true
   },
   "outputs": [],
   "source": [
    "for i in range(len(x_train)):\n",
    "    x_train[i]=tf.one_hot(x_train[i],max_word_num)\n",
    "for i in range(len(x_test)):\n",
    "    x_test[i]=tf.one_hot(x_test[i],max_word_num)"
   ]
  },
  {
   "cell_type": "markdown",
   "metadata": {},
   "source": [
    "### 1.单层GRU"
   ]
  },
  {
   "cell_type": "markdown",
   "metadata": {},
   "source": [
    "#### a) 模型 1：单层 GRU（节点个数 128，激活 tanh），全连接（1个节点,激活 sigmoid）。"
   ]
  },
  {
   "cell_type": "code",
   "execution_count": 7,
   "metadata": {},
   "outputs": [],
   "source": [
    "\n",
    "model=keras.models.Sequential(\n",
    "[\n",
    "\n",
    "keras.layers.GRU(128,input_shape=(max_review_len,max_word_num),activation=\"tanh\"),\n",
    "keras.layers.Dense(1,activation=\"sigmoid\")\n",
    "])7\n",
    "\n",
    "model.compile(optimizer = optimizers.RMSprop(0.001),\n",
    "                  loss = losses.BinaryCrossentropy(),\n",
    "                  metrics=['accuracy'])\n"
   ]
  },
  {
   "cell_type": "markdown",
   "metadata": {},
   "source": [
    "#### b) 设置 batchsize=32, 训练模型 1，得到测试集上的准确。"
   ]
  },
  {
   "cell_type": "code",
   "execution_count": 6,
   "metadata": {},
   "outputs": [],
   "source": [
    "batchsz = 32 # 批量大小\n",
    "# 构建数据集，打散，批量，并丢掉最后一个不够batchsz的batch\n",
    "db_train = tf.data.Dataset.from_tensor_slices((x_train, y_train))\n",
    "db_train = db_train.shuffle(1000).batch(batchsz, drop_remainder=True)\n",
    "db_test = tf.data.Dataset.from_tensor_slices((x_test, y_test))\n",
    "db_test = db_test.batch(batchsz, drop_remainder=True)\n"
   ]
  },
  {
   "cell_type": "code",
   "execution_count": 8,
   "metadata": {},
   "outputs": [
    {
     "name": "stdout",
     "output_type": "stream",
     "text": [
      "Epoch 1/10\n",
      "781/781 [==============================] - 4s 5ms/step - loss: 0.6723 - accuracy: 0.5839\n",
      "Epoch 2/10\n",
      "781/781 [==============================] - 3s 4ms/step - loss: 0.6481 - accuracy: 0.6254\n",
      "Epoch 3/10\n",
      "781/781 [==============================] - 3s 4ms/step - loss: 0.6394 - accuracy: 0.6331\n",
      "Epoch 4/10\n",
      "781/781 [==============================] - 3s 4ms/step - loss: 0.6304 - accuracy: 0.6413\n",
      "Epoch 5/10\n",
      "781/781 [==============================] - 4s 4ms/step - loss: 0.6215 - accuracy: 0.6497\n",
      "Epoch 6/10\n",
      "781/781 [==============================] - 4s 4ms/step - loss: 0.6142 - accuracy: 0.6578\n",
      "Epoch 7/10\n",
      "781/781 [==============================] - 3s 4ms/step - loss: 0.6064 - accuracy: 0.6663\n",
      "Epoch 8/10\n",
      "781/781 [==============================] - 4s 5ms/step - loss: 0.5997 - accuracy: 0.6734\n",
      "Epoch 9/10\n",
      "781/781 [==============================] - 4s 5ms/step - loss: 0.5913 - accuracy: 0.6808\n",
      "Epoch 10/10\n",
      "781/781 [==============================] - 4s 5ms/step - loss: 0.5834 - accuracy: 0.6890\n"
     ]
    }
   ],
   "source": [
    "history=model.fit(db_train,epochs=10)"
   ]
  },
  {
   "cell_type": "code",
   "execution_count": 14,
   "metadata": {},
   "outputs": [
    {
     "data": {
      "image/png": "[encoded data removed]",
      "text/plain": [
       "<Figure size 1080x576 with 1 Axes>"
      ]
     },
     "metadata": {
      "needs_background": "light"
     },
     "output_type": "display_data"
    }
   ],
   "source": [
    "pd.DataFrame(history.history).plot(figsize=(15,8))\n",
    "plt.grid(True)\n",
    "plt.gca().set_ylim(0,1)\n",
    "plt.xlabel(\"epochs\")\n",
    "plt.show()"
   ]
  },
  {
   "cell_type": "code",
   "execution_count": 15,
   "metadata": {},
   "outputs": [
    {
     "name": "stdout",
     "output_type": "stream",
     "text": [
      "781/781 [==============================] - 2s 2ms/step - loss: 0.6158 - accuracy: 0.6667\n"
     ]
    },
    {
     "data": {
      "text/plain": [
       "[0.6158457398414612, 0.6666933298110962]"
      ]
     },
     "execution_count": 15,
     "metadata": {},
     "output_type": "execute_result"
    }
   ],
   "source": [
    "model.evaluate(db_test)"
   ]
  },
  {
   "cell_type": "markdown",
   "metadata": {},
   "source": [
    "### 2.单层LSTM\n",
    "模型 2：把模型 1 中的 GRU 改成 LSTM，重复 1（b）实验，对比\n",
    "结果。"
   ]
  },
  {
   "cell_type": "code",
   "execution_count": 16,
   "metadata": {},
   "outputs": [
    {
     "name": "stdout",
     "output_type": "stream",
     "text": [
      "Epoch 1/10\n",
      "781/781 [==============================] - 4s 5ms/step - loss: 0.6660 - accuracy: 0.5968\n",
      "Epoch 2/10\n",
      "781/781 [==============================] - 4s 5ms/step - loss: 0.6460 - accuracy: 0.6283\n",
      "Epoch 3/10\n",
      "781/781 [==============================] - 4s 5ms/step - loss: 0.6411 - accuracy: 0.6337\n",
      "Epoch 4/10\n",
      "781/781 [==============================] - 4s 5ms/step - loss: 0.6386 - accuracy: 0.6370\n",
      "Epoch 5/10\n",
      "781/781 [==============================] - 4s 5ms/step - loss: 0.6344 - accuracy: 0.6408\n",
      "Epoch 6/10\n",
      "781/781 [==============================] - 4s 5ms/step - loss: 0.6285 - accuracy: 0.6450\n",
      "Epoch 7/10\n",
      "781/781 [==============================] - 4s 5ms/step - loss: 0.6238 - accuracy: 0.6475\n",
      "Epoch 8/10\n",
      "781/781 [==============================] - 4s 5ms/step - loss: 0.6156 - accuracy: 0.6579\n",
      "Epoch 9/10\n",
      "781/781 [==============================] - 4s 5ms/step - loss: 0.6105 - accuracy: 0.6617\n",
      "Epoch 10/10\n",
      "781/781 [==============================] - 4s 5ms/step - loss: 0.6017 - accuracy: 0.6696\n"
     ]
    }
   ],
   "source": [
    "model=keras.models.Sequential(\n",
    "[\n",
    "\n",
    "keras.layers.LSTM(128,input_shape=(max_review_len,max_word_num),activation=\"tanh\"),\n",
    "keras.layers.Dense(1,activation=\"sigmoid\")\n",
    "])\n",
    "\n",
    "model.compile(optimizer = optimizers.RMSprop(0.001),\n",
    "                  loss = losses.BinaryCrossentropy(),\n",
    "                  metrics=['accuracy'])\n",
    "history=model.fit(db_train,epochs=10)"
   ]
  },
  {
   "cell_type": "code",
   "execution_count": 17,
   "metadata": {},
   "outputs": [
    {
     "name": "stdout",
     "output_type": "stream",
     "text": [
      "781/781 [==============================] - 2s 3ms/step - loss: 0.6308 - accuracy: 0.6510\n"
     ]
    },
    {
     "data": {
      "text/plain": [
       "[0.6308274269104004, 0.6509683132171631]"
      ]
     },
     "execution_count": 17,
     "metadata": {},
     "output_type": "execute_result"
    }
   ],
   "source": [
    "model.evaluate(db_test)"
   ]
  },
  {
   "cell_type": "markdown",
   "metadata": {},
   "source": [
    "<div class=\"alert alert-success alertsuccess\" style=\"margin-top: 10px\">\n",
    "结果分析和讨论：\n",
    "准确率虽比单层GRU低，但总体性能类似。"
   ]
  },
  {
   "cell_type": "markdown",
   "metadata": {},
   "source": [
    "### 3. 双层 GRU\n",
    "模型 3：双层 GRU(每层节点个数 128，激活 tanh)，全连接（1\n",
    "个节点,激活 sigmoid）。重复 1（b）实验，对比结果。"
   ]
  },
  {
   "cell_type": "code",
   "execution_count": 19,
   "metadata": {},
   "outputs": [],
   "source": [
    "model=keras.models.Sequential(\n",
    "[\n",
    "\n",
    "keras.layers.GRU(128,input_shape=(max_review_len,max_word_num),activation=\"tanh\",return_sequences=True),\n",
    "keras.layers.GRU(128,activation=\"tanh\"),    \n",
    "keras.layers.Dense(1,activation=\"sigmoid\")\n",
    "])\n",
    "\n"
   ]
  },
  {
   "cell_type": "code",
   "execution_count": 20,
   "metadata": {},
   "outputs": [
    {
     "name": "stdout",
     "output_type": "stream",
     "text": [
      "Epoch 1/10\n",
      "781/781 [==============================] - 7s 8ms/step - loss: 0.6729 - accuracy: 0.5880\n",
      "Epoch 2/10\n",
      "781/781 [==============================] - 6s 8ms/step - loss: 0.6488 - accuracy: 0.6236\n",
      "Epoch 3/10\n",
      "781/781 [==============================] - 6s 8ms/step - loss: 0.6394 - accuracy: 0.6360\n",
      "Epoch 4/10\n",
      "781/781 [==============================] - 6s 8ms/step - loss: 0.6288 - accuracy: 0.6443\n",
      "Epoch 5/10\n",
      "781/781 [==============================] - 6s 8ms/step - loss: 0.6187 - accuracy: 0.6544\n",
      "Epoch 6/10\n",
      "781/781 [==============================] - 6s 8ms/step - loss: 0.6112 - accuracy: 0.6624\n",
      "Epoch 7/10\n",
      "781/781 [==============================] - 6s 8ms/step - loss: 0.6017 - accuracy: 0.6690\n",
      "Epoch 8/10\n",
      "781/781 [==============================] - 7s 8ms/step - loss: 0.5950 - accuracy: 0.6773\n",
      "Epoch 9/10\n",
      "781/781 [==============================] - 7s 8ms/step - loss: 0.5836 - accuracy: 0.6859\n",
      "Epoch 10/10\n",
      "781/781 [==============================] - 7s 8ms/step - loss: 0.5716 - accuracy: 0.6969\n"
     ]
    }
   ],
   "source": [
    "model.compile(optimizer = optimizers.RMSprop(0.001),\n",
    "                  loss = losses.BinaryCrossentropy(),\n",
    "                  metrics=['accuracy'])\n",
    "history=model.fit(db_train,epochs=10)"
   ]
  },
  {
   "cell_type": "code",
   "execution_count": 21,
   "metadata": {},
   "outputs": [
    {
     "name": "stdout",
     "output_type": "stream",
     "text": [
      "781/781 [==============================] - 3s 4ms/step - loss: 0.6113 - accuracy: 0.6660\n"
     ]
    },
    {
     "data": {
      "text/plain": [
       "[0.6113374829292297, 0.6659731268882751]"
      ]
     },
     "execution_count": 21,
     "metadata": {},
     "output_type": "execute_result"
    }
   ],
   "source": [
    "model.evaluate(db_test)"
   ]
  },
  {
   "cell_type": "markdown",
   "metadata": {},
   "source": [
    "<div class=\"alert alert-success alertsuccess\" style=\"margin-top: 10px\">\n",
    "结果分析和讨论：\n",
    "使用双层GRU与单层GRU相比，在训练集上准确率上提升了0.01，在测试集上反而略微下降，两个模型的性能基本差不多，且预测的精度都不是很高。\n",
    "    \n",
    "我推测，由于内存的限制，只能将词汇表限制在60，丢失了大量的特征，所以单层与双层GRU效果类似。"
   ]
  },
  {
   "cell_type": "markdown",
   "metadata": {},
   "source": [
    "### 4.分别设置 batchsize=16 和 64，重复 1（b）实验，对比结果。"
   ]
  },
  {
   "cell_type": "markdown",
   "metadata": {},
   "source": [
    "#### （a）batchsize=16"
   ]
  },
  {
   "cell_type": "code",
   "execution_count": 6,
   "metadata": {},
   "outputs": [],
   "source": [
    "batchsz = 16 # 批量大小\n",
    "# 构建数据集，打散，批量，并丢掉最后一个不够batchsz的batch\n",
    "db_train = tf.data.Dataset.from_tensor_slices((x_train, y_train))\n",
    "db_train = db_train.shuffle(1000).batch(batchsz, drop_remainder=True)\n",
    "db_test = tf.data.Dataset.from_tensor_slices((x_test, y_test))\n",
    "db_test = db_test.batch(batchsz, drop_remainder=True)"
   ]
  },
  {
   "cell_type": "code",
   "execution_count": 7,
   "metadata": {},
   "outputs": [],
   "source": [
    "model=keras.models.Sequential(\n",
    "[\n",
    "\n",
    "keras.layers.GRU(128,input_shape=(max_review_len,max_word_num),activation=\"tanh\"),\n",
    "keras.layers.Dense(1,activation=\"sigmoid\")\n",
    "])\n",
    "\n",
    "model.compile(optimizer = optimizers.RMSprop(0.001),\n",
    "                  loss = losses.BinaryCrossentropy(),\n",
    "                  metrics=['accuracy'])"
   ]
  },
  {
   "cell_type": "code",
   "execution_count": 8,
   "metadata": {},
   "outputs": [
    {
     "name": "stdout",
     "output_type": "stream",
     "text": [
      "Epoch 1/10\n",
      "1562/1562 [==============================] - 6s 4ms/step - loss: 0.6698 - accuracy: 0.5926\n",
      "Epoch 2/10\n",
      "1562/1562 [==============================] - 6s 4ms/step - loss: 0.6451 - accuracy: 0.6313\n",
      "Epoch 3/10\n",
      "1562/1562 [==============================] - 6s 4ms/step - loss: 0.6338 - accuracy: 0.6384\n",
      "Epoch 4/10\n",
      "1562/1562 [==============================] - 6s 4ms/step - loss: 0.6233 - accuracy: 0.6500\n",
      "Epoch 5/10\n",
      "1562/1562 [==============================] - 6s 4ms/step - loss: 0.6133 - accuracy: 0.6589\n",
      "Epoch 6/10\n",
      "1562/1562 [==============================] - 6s 4ms/step - loss: 0.6030 - accuracy: 0.6684\n",
      "Epoch 7/10\n",
      "1562/1562 [==============================] - 6s 4ms/step - loss: 0.5921 - accuracy: 0.6807\n",
      "Epoch 8/10\n",
      "1562/1562 [==============================] - 6s 4ms/step - loss: 0.5806 - accuracy: 0.6876\n",
      "Epoch 9/10\n",
      "1562/1562 [==============================] - 6s 4ms/step - loss: 0.5663 - accuracy: 0.6991\n",
      "Epoch 10/10\n",
      "1562/1562 [==============================] - 6s 4ms/step - loss: 0.5517 - accuracy: 0.7134\n"
     ]
    },
    {
     "data": {
      "text/plain": [
       "<tensorflow.python.keras.callbacks.History at 0x1a3b07eb550>"
      ]
     },
     "execution_count": 8,
     "metadata": {},
     "output_type": "execute_result"
    }
   ],
   "source": [
    "model.fit(db_train,epochs=10)"
   ]
  },
  {
   "cell_type": "code",
   "execution_count": 9,
   "metadata": {},
   "outputs": [
    {
     "name": "stdout",
     "output_type": "stream",
     "text": [
      "1562/1562 [==============================] - 3s 2ms/step - loss: 0.6346 - accuracy: 0.6709\n"
     ]
    },
    {
     "data": {
      "text/plain": [
       "[0.6346493363380432, 0.6709346771240234]"
      ]
     },
     "execution_count": 9,
     "metadata": {},
     "output_type": "execute_result"
    }
   ],
   "source": [
    "model.evaluate(db_test)"
   ]
  },
  {
   "cell_type": "markdown",
   "metadata": {},
   "source": [
    "<div class=\"alert alert-success alertsuccess\" style=\"margin-top: 10px\">\n",
    "结果分析和讨论：\n",
    "    \n",
    "缩小batchsize后，可以发现每个轮次的训练次数增加了，模型的性能有略微的提升"
   ]
  },
  {
   "cell_type": "markdown",
   "metadata": {},
   "source": [
    "#### （b）batchsize=64"
   ]
  },
  {
   "cell_type": "code",
   "execution_count": 6,
   "metadata": {},
   "outputs": [],
   "source": [
    "batchsz = 64 # 批量大小\n",
    "# 构建数据集，打散，批量，并丢掉最后一个不够batchsz的batch\n",
    "db_train = tf.data.Dataset.from_tensor_slices((x_train, y_train))\n",
    "db_train = db_train.shuffle(1000).batch(batchsz, drop_remainder=True)\n",
    "db_test = tf.data.Dataset.from_tensor_slices((x_test, y_test))\n",
    "db_test = db_test.batch(batchsz, drop_remainder=True)"
   ]
  },
  {
   "cell_type": "code",
   "execution_count": 7,
   "metadata": {},
   "outputs": [
    {
     "name": "stdout",
     "output_type": "stream",
     "text": [
      "Epoch 1/10\n",
      "390/390 [==============================] - 3s 7ms/step - loss: 0.6755 - accuracy: 0.5765\n",
      "Epoch 2/10\n",
      "390/390 [==============================] - 3s 7ms/step - loss: 0.6488 - accuracy: 0.6257\n",
      "Epoch 3/10\n",
      "390/390 [==============================] - 3s 7ms/step - loss: 0.6428 - accuracy: 0.6303\n",
      "Epoch 4/10\n",
      "390/390 [==============================] - 3s 7ms/step - loss: 0.6375 - accuracy: 0.6385\n",
      "Epoch 5/10\n",
      "390/390 [==============================] - 3s 7ms/step - loss: 0.6299 - accuracy: 0.6404\n",
      "Epoch 6/10\n",
      "390/390 [==============================] - 3s 7ms/step - loss: 0.6258 - accuracy: 0.6481\n",
      "Epoch 7/10\n",
      "390/390 [==============================] - 3s 7ms/step - loss: 0.6191 - accuracy: 0.6538\n",
      "Epoch 8/10\n",
      "390/390 [==============================] - 3s 7ms/step - loss: 0.6131 - accuracy: 0.6593\n",
      "Epoch 9/10\n",
      "390/390 [==============================] - 3s 7ms/step - loss: 0.6062 - accuracy: 0.6672\n",
      "Epoch 10/10\n",
      "390/390 [==============================] - 3s 7ms/step - loss: 0.6016 - accuracy: 0.6704\n"
     ]
    },
    {
     "data": {
      "text/plain": [
       "<tensorflow.python.keras.callbacks.History at 0x2c34d4c0eb0>"
      ]
     },
     "execution_count": 7,
     "metadata": {},
     "output_type": "execute_result"
    }
   ],
   "source": [
    "model=keras.models.Sequential(\n",
    "[\n",
    "\n",
    "keras.layers.GRU(128,input_shape=(max_review_len,max_word_num),activation=\"tanh\"),\n",
    "keras.layers.Dense(1,activation=\"sigmoid\")\n",
    "])\n",
    "\n",
    "model.compile(optimizer = optimizers.RMSprop(0.001),\n",
    "                  loss = losses.BinaryCrossentropy(),\n",
    "                  metrics=['accuracy'])\n",
    "model.fit(db_train,epochs=10)"
   ]
  },
  {
   "cell_type": "code",
   "execution_count": 8,
   "metadata": {},
   "outputs": [
    {
     "name": "stdout",
     "output_type": "stream",
     "text": [
      "390/390 [==============================] - 1s 4ms/step - loss: 0.6134 - accuracy: 0.6619\n"
     ]
    },
    {
     "data": {
      "text/plain": [
       "[0.613368570804596, 0.6618990302085876]"
      ]
     },
     "execution_count": 8,
     "metadata": {},
     "output_type": "execute_result"
    }
   ],
   "source": [
    "model.evaluate(db_test)"
   ]
  },
  {
   "cell_type": "markdown",
   "metadata": {},
   "source": [
    "<div class=\"alert alert-success alertsuccess\" style=\"margin-top: 10px\">\n",
    "结果分析和讨论：\n",
    "增大bitchsize后，每一轮训练次数变少了，训练的时间也降低了，但准确率提升不是很高。"
   ]
  },
  {
   "cell_type": "markdown",
   "metadata": {},
   "source": [
    "### 5. 模型 4：embedding 层（128 个节点），单层 GRU（节点个数 128，激活 tanh），全连接（1 个节点,激活 sigmoid）。重复 1（b）实验，对比结果，讨论降维的作用。"
   ]
  },
  {
   "cell_type": "code",
   "execution_count": 9,
   "metadata": {},
   "outputs": [],
   "source": [
    "max_review_len = 120 # 句子最大长度s，大于的句子部分将截断，小于的将填充\n",
    "max_word_num=10000#词汇表数量\n",
    "\n",
    "(x_train, y_train), (x_test, y_test) = keras.datasets.imdb.load_data(num_words=max_word_num)\n",
    "# 截断和填充句子，使得等长，此处长句子保留句子后面的部分，短句子在前面填充\n",
    "x_train = keras.preprocessing.sequence.pad_sequences(x_train, maxlen=max_review_len)\n",
    "x_test = keras.preprocessing.sequence.pad_sequences(x_test, maxlen=max_review_len)\n",
    "\n",
    "batchsz = 128 # 批量大小\n",
    "# 构建数据集，打散，批量，并丢掉最后一个不够batchsz的batch\n",
    "db_train = tf.data.Dataset.from_tensor_slices((x_train, y_train))\n",
    "db_train = db_train.shuffle(1000).batch(batchsz, drop_remainder=True)\n",
    "db_test = tf.data.Dataset.from_tensor_slices((x_test, y_test))\n",
    "db_test = db_test.batch(batchsz, drop_remainder=True)"
   ]
  },
  {
   "cell_type": "code",
   "execution_count": 11,
   "metadata": {},
   "outputs": [
    {
     "name": "stdout",
     "output_type": "stream",
     "text": [
      "Epoch 1/10\n",
      "195/195 [==============================] - 5s 24ms/step - loss: 0.4968 - accuracy: 0.7690\n",
      "Epoch 2/10\n",
      "195/195 [==============================] - 5s 24ms/step - loss: 0.3121 - accuracy: 0.8685\n",
      "Epoch 3/10\n",
      "195/195 [==============================] - 5s 24ms/step - loss: 0.2575 - accuracy: 0.8966\n",
      "Epoch 4/10\n",
      "195/195 [==============================] - 5s 24ms/step - loss: 0.2173 - accuracy: 0.9156\n",
      "Epoch 5/10\n",
      "195/195 [==============================] - 5s 24ms/step - loss: 0.1831 - accuracy: 0.9312\n",
      "Epoch 6/10\n",
      "195/195 [==============================] - 5s 25ms/step - loss: 0.1505 - accuracy: 0.9447\n",
      "Epoch 7/10\n",
      "195/195 [==============================] - 5s 24ms/step - loss: 0.1167 - accuracy: 0.9582\n",
      "Epoch 8/10\n",
      "195/195 [==============================] - 5s 24ms/step - loss: 0.0890 - accuracy: 0.9693\n",
      "Epoch 9/10\n",
      "195/195 [==============================] - 5s 24ms/step - loss: 0.0680 - accuracy: 0.9778\n",
      "Epoch 10/10\n",
      "195/195 [==============================] - 5s 24ms/step - loss: 0.0520 - accuracy: 0.9830\n"
     ]
    },
    {
     "data": {
      "text/plain": [
       "<tensorflow.python.keras.callbacks.History at 0x2c357cfa580>"
      ]
     },
     "execution_count": 11,
     "metadata": {},
     "output_type": "execute_result"
    }
   ],
   "source": [
    "model=keras.models.Sequential(\n",
    "[\n",
    "keras.layers.Embedding(max_word_num,128,input_length=max_review_len),\n",
    "keras.layers.GRU(128,activation=\"tanh\"),\n",
    "keras.layers.Dense(1,activation=\"sigmoid\")\n",
    "])\n",
    "\n",
    "model.compile(optimizer = optimizers.RMSprop(0.001),\n",
    "                  loss = losses.BinaryCrossentropy(),\n",
    "                  metrics=['accuracy'])\n",
    "model.fit(db_train,epochs=10)"
   ]
  },
  {
   "cell_type": "code",
   "execution_count": 12,
   "metadata": {},
   "outputs": [
    {
     "name": "stdout",
     "output_type": "stream",
     "text": [
      "195/195 [==============================] - 1s 8ms/step - loss: 0.6117 - accuracy: 0.8328\n"
     ]
    },
    {
     "data": {
      "text/plain": [
       "[0.6116817593574524, 0.832772433757782]"
      ]
     },
     "execution_count": 12,
     "metadata": {},
     "output_type": "execute_result"
    }
   ],
   "source": [
    "model.evaluate(db_test)"
   ]
  },
  {
   "cell_type": "markdown",
   "metadata": {},
   "source": [
    "<div class=\"alert alert-success alertsuccess\" style=\"margin-top: 10px\">\n",
    "结果分析和讨论：\n",
    "加入embedding 层后，进行了降维，词汇表的数量和句子的长度都能扩大，信息丢失的少。\n",
    "    \n",
    "测试的准确率也远远超过了模型1。\n",
    "    \n",
    "但训练集的准确率很高，存在过拟合现象。"
   ]
  },
  {
   "cell_type": "markdown",
   "metadata": {},
   "source": [
    "### 6. 尝试其他调参：学习率、优化器等，观察并讨论结果。"
   ]
  },
  {
   "cell_type": "code",
   "execution_count": 20,
   "metadata": {},
   "outputs": [
    {
     "name": "stdout",
     "output_type": "stream",
     "text": [
      "Epoch 1/10\n",
      "195/195 [==============================] - 8s 40ms/step - loss: 0.5165 - accuracy: 0.7375\n",
      "Epoch 2/10\n",
      "195/195 [==============================] - 8s 40ms/step - loss: 0.3369 - accuracy: 0.8591\n",
      "Epoch 3/10\n",
      "195/195 [==============================] - 8s 40ms/step - loss: 0.2806 - accuracy: 0.8873\n",
      "Epoch 4/10\n",
      "195/195 [==============================] - 8s 40ms/step - loss: 0.2495 - accuracy: 0.9013\n",
      "Epoch 5/10\n",
      "195/195 [==============================] - 8s 40ms/step - loss: 0.2189 - accuracy: 0.9149\n",
      "Epoch 6/10\n",
      "195/195 [==============================] - 8s 40ms/step - loss: 0.1943 - accuracy: 0.9261\n",
      "Epoch 7/10\n",
      "195/195 [==============================] - 8s 40ms/step - loss: 0.1725 - accuracy: 0.9354\n",
      "Epoch 8/10\n",
      "195/195 [==============================] - 8s 40ms/step - loss: 0.1539 - accuracy: 0.9439\n",
      "Epoch 9/10\n",
      "195/195 [==============================] - 8s 40ms/step - loss: 0.1358 - accuracy: 0.9504\n",
      "Epoch 10/10\n",
      "195/195 [==============================] - 8s 40ms/step - loss: 0.1209 - accuracy: 0.9569\n"
     ]
    },
    {
     "data": {
      "text/plain": [
       "<tensorflow.python.keras.callbacks.History at 0x2c3ebcbc5e0>"
      ]
     },
     "execution_count": 20,
     "metadata": {},
     "output_type": "execute_result"
    }
   ],
   "source": [
    "model=keras.models.Sequential(\n",
    "[\n",
    "keras.layers.Embedding(max_word_num,128,input_length=max_review_len),\n",
    "keras.layers.GRU(128,activation=\"tanh\",return_sequences=True, dropout=0.5),\n",
    "keras.layers.GRU(128,activation=\"tanh\", dropout=0.5),\n",
    "keras.layers.Dense(1,activation=\"sigmoid\")\n",
    "])\n",
    "\n",
    "model.compile(optimizer = optimizers.RMSprop(0.001),\n",
    "                  loss = losses.BinaryCrossentropy(),\n",
    "                  metrics=['accuracy'])\n",
    "model.fit(db_train,epochs=10)"
   ]
  },
  {
   "cell_type": "code",
   "execution_count": 21,
   "metadata": {},
   "outputs": [
    {
     "name": "stdout",
     "output_type": "stream",
     "text": [
      "195/195 [==============================] - 2s 13ms/step - loss: 0.3799 - accuracy: 0.8568\n"
     ]
    },
    {
     "data": {
      "text/plain": [
       "[0.3798908293247223, 0.8568108677864075]"
      ]
     },
     "execution_count": 21,
     "metadata": {},
     "output_type": "execute_result"
    }
   ],
   "source": [
    "model.evaluate(db_test)"
   ]
  },
  {
   "cell_type": "markdown",
   "metadata": {},
   "source": [
    "<div class=\"alert alert-success alertsuccess\" style=\"margin-top: 10px\">\n",
    "结果分析和讨论：\n",
    "在加入一层GRU，并且设置dropout=0.5后，测试集准确率提高了2个百分点。"
   ]
  },
  {
   "cell_type": "markdown",
   "metadata": {},
   "source": [
    "### 7.尝试用预训练词嵌入作为模型 1 的输入，对比模型 4 的结果。"
   ]
  },
  {
   "cell_type": "code",
   "execution_count": 4,
   "metadata": {},
   "outputs": [],
   "source": [
    "max_review_len = 120 # 句子最大长度s，大于的句子部分将截断，小于的将填充\n",
    "max_word_num=10000#词汇表数量\n",
    "\n",
    "(x_train, y_train), (x_test, y_test) = keras.datasets.imdb.load_data(num_words=max_word_num)\n",
    "# 截断和填充句子，使得等长，此处长句子保留句子后面的部分，短句子在前面填充\n",
    "x_train = keras.preprocessing.sequence.pad_sequences(x_train, maxlen=max_review_len)\n",
    "x_test = keras.preprocessing.sequence.pad_sequences(x_test, maxlen=max_review_len)\n",
    "\n",
    "batchsz = 128 # 批量大小\n",
    "# 构建数据集，打散，批量，并丢掉最后一个不够batchsz的batch\n",
    "db_train = tf.data.Dataset.from_tensor_slices((x_train, y_train))\n",
    "db_train = db_train.shuffle(1000).batch(batchsz, drop_remainder=True)\n",
    "db_test = tf.data.Dataset.from_tensor_slices((x_test, y_test))\n",
    "db_test = db_test.batch(batchsz, drop_remainder=True)\n"
   ]
  },
  {
   "cell_type": "code",
   "execution_count": 9,
   "metadata": {},
   "outputs": [
    {
     "name": "stdout",
     "output_type": "stream",
     "text": [
      "Found 400000 word vectors.\n",
      "所用词向量数量及词向量矩阵形状： 9796 (10000, 100)\n"
     ]
    }
   ],
   "source": [
    "word_index = keras.datasets.imdb.get_word_index()\n",
    "embeddings_index = {}\n",
    "GLOVE_DIR = r'.\\glove.6B'\n",
    "with open(os.path.join(GLOVE_DIR, 'glove.6B.100d.txt'),encoding='utf-8') as f:\n",
    "    for line in f:\n",
    "        values = line.split()\n",
    "        word = values[0]\n",
    "        coefs = np.asarray(values[1:], dtype='float32')\n",
    "        embeddings_index[word] = coefs\n",
    "\n",
    "print('Found %s word vectors.' % len(embeddings_index))\n",
    "MAX_NUM_WORDS = max_word_num\n",
    "# prepare embedding matrix\n",
    "num_words = min(MAX_NUM_WORDS, len(word_index))\n",
    "embedding_matrix = np.zeros((num_words, 100))\n",
    "applied_vec_count = 0\n",
    "for word, i in word_index.items():\n",
    "    if i >= MAX_NUM_WORDS:\n",
    "        continue\n",
    "    embedding_vector = embeddings_index.get(word)\n",
    "    # print(word,embedding_vector)\n",
    "    if embedding_vector is not None:\n",
    "        # words not found in embedding index will be all-zeros.\n",
    "        embedding_matrix[i] = embedding_vector\n",
    "        applied_vec_count += 1\n",
    "print(\"所用词向量数量及词向量矩阵形状：\",applied_vec_count, embedding_matrix.shape)"
   ]
  },
  {
   "cell_type": "code",
   "execution_count": 28,
   "metadata": {},
   "outputs": [
    {
     "name": "stdout",
     "output_type": "stream",
     "text": [
      "Epoch 1/10\n",
      "195/195 [==============================] - 5s 24ms/step - loss: 0.6635 - accuracy: 0.5840\n",
      "Epoch 2/10\n",
      "195/195 [==============================] - 5s 24ms/step - loss: 0.4028 - accuracy: 0.8125\n",
      "Epoch 3/10\n",
      "195/195 [==============================] - 5s 24ms/step - loss: 0.2875 - accuracy: 0.8800\n",
      "Epoch 4/10\n",
      "195/195 [==============================] - 5s 25ms/step - loss: 0.2407 - accuracy: 0.9007\n",
      "Epoch 5/10\n",
      "195/195 [==============================] - 5s 25ms/step - loss: 0.2055 - accuracy: 0.9166\n",
      "Epoch 6/10\n",
      "195/195 [==============================] - 5s 26ms/step - loss: 0.1809 - accuracy: 0.9281\n",
      "Epoch 7/10\n",
      "195/195 [==============================] - 5s 25ms/step - loss: 0.1589 - accuracy: 0.9383\n",
      "Epoch 8/10\n",
      "195/195 [==============================] - 5s 25ms/step - loss: 0.1431 - accuracy: 0.9448\n",
      "Epoch 9/10\n",
      "195/195 [==============================] - 5s 25ms/step - loss: 0.1268 - accuracy: 0.9507\n",
      "Epoch 10/10\n",
      "195/195 [==============================] - 5s 25ms/step - loss: 0.1121 - accuracy: 0.9556\n"
     ]
    },
    {
     "data": {
      "text/plain": [
       "<tensorflow.python.keras.callbacks.History at 0x1cab3900d00>"
      ]
     },
     "execution_count": 28,
     "metadata": {},
     "output_type": "execute_result"
    }
   ],
   "source": [
    "model=keras.models.Sequential(\n",
    "[\n",
    "keras.layers.Embedding(max_word_num,100,input_length=max_review_len,trainable=True,weights=[embedding_matrix]),\n",
    "keras.layers.GRU(128,activation=\"tanh\",dropout=0.5),\n",
    "keras.layers.Dense(1,activation=\"sigmoid\")\n",
    "])\n",
    "\n",
    "model.compile(optimizer = optimizers.Adam(0.002),\n",
    "                  loss = losses.BinaryCrossentropy(),\n",
    "                  metrics=['accuracy'])\n",
    "model.fit(db_train,epochs=10)"
   ]
  },
  {
   "cell_type": "code",
   "execution_count": 29,
   "metadata": {},
   "outputs": [
    {
     "name": "stdout",
     "output_type": "stream",
     "text": [
      "  1/195 [..............................] - ETA: 0s - loss: 0.4006 - accuracy: 0.8672WARNING:tensorflow:Callbacks method `on_test_batch_end` is slow compared to the batch time (batch time: 0.0030s vs `on_test_batch_end` time: 0.0050s). Check your callbacks.\n",
      "195/195 [==============================] - 1s 7ms/step - loss: 0.4184 - accuracy: 0.8628\n"
     ]
    },
    {
     "data": {
      "text/plain": [
       "[0.41843679547309875, 0.8627804517745972]"
      ]
     },
     "execution_count": 29,
     "metadata": {},
     "output_type": "execute_result"
    }
   ],
   "source": [
    "model.evaluate(db_test)"
   ]
  },
  {
   "cell_type": "markdown",
   "metadata": {},
   "source": [
    "<div class=\"alert alert-success alertsuccess\" style=\"margin-top: 10px\">\n",
    "结果分析和讨论：\n",
    "    \n",
    "使用预训练的词向量加载Embedding层，可以发现训练的初期，在第3个epoch左右时，模型的准确率就已经很高了。\n",
    "    \n",
    "最终测试集的准确率也相比模型4提升了3个百分点。"
   ]
  }
 ],
 "metadata": {
  "kernelspec": {
   "display_name": "Python 3",
   "language": "python",
   "name": "python3"
  },
  "language_info": {
   "codemirror_mode": {
    "name": "ipython",
    "version": 3
   },
   "file_extension": ".py",
   "mimetype": "text/x-python",
   "name": "python",
   "nbconvert_exporter": "python",
   "pygments_lexer": "ipython3",
   "version": "3.8.5"
  }
 },
 "nbformat": 4,
 "nbformat_minor": 4
}
