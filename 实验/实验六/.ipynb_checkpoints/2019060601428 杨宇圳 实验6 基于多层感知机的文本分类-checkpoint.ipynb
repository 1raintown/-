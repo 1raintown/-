{
 "cells": [
  {
   "cell_type": "markdown",
   "metadata": {},
   "source": [
    "\n",
    "<h1 align=center><font size = 5> <center>文本分析与挖掘</center> </font></h1> \n",
    "\n",
    "<h2 align=center><font size = 4><center>实验六、基于多层感知机的文本分类</center></font></h2>\n",
    "<h2 align=center><font size = 2><center>浙江工业大学计算机科学与技术学院</center></font></h2>"
   ]
  },
  {
   "cell_type": "markdown",
   "metadata": {},
   "source": [
    "## 一、实验目的"
   ]
  },
  {
   "cell_type": "markdown",
   "metadata": {},
   "source": [
    "<div class=\"alert alert-block alert-info\" style=\"margin-top: 20px\">\n",
    "<li>使用多层感知机对文本数据进行分类，对比不同预处理和参数对分类结果的影响。</li>\n",
    "<li> 熟悉多层感知机的分类过程。</li>\n",
    "    "
   ]
  },
  {
   "cell_type": "markdown",
   "metadata": {},
   "source": [
    "## 二、实验内容\n",
    "<div class=\"alert alert-block alert-info\" style=\"margin-top: 20px\">\n",
    "<li>基于词袋表示为输入的多层感知机分类</li>\n",
    "<li>基于词嵌入为输入的多层感知机分类 </li>\n",
    "\n"
   ]
  },
  {
   "cell_type": "code",
   "execution_count": 19,
   "metadata": {},
   "outputs": [],
   "source": [
    "from sklearn.datasets import fetch_20newsgroups\n",
    "import pandas  as pd\n",
    "from sklearn.model_selection import train_test_split\n",
    "import tensorflow as tf\n",
    "from tensorflow import keras\n",
    "import spacy\n",
    "import nltk\n",
    "import numpy as np\n",
    "from sklearn.feature_extraction.text import TfidfVectorizer\n",
    "import matplotlib.pyplot as plt\n",
    "\n",
    "from matplotlib.ticker import MultipleLocator"
   ]
  },
  {
   "cell_type": "markdown",
   "metadata": {},
   "source": [
    "### 把 20newsgroups（全部 20 个类）按 4：1 分成训练和测试集。再从训练集里面分出 10%作为验证集。"
   ]
  },
  {
   "cell_type": "code",
   "execution_count": 2,
   "metadata": {},
   "outputs": [],
   "source": [
    "data_df=pd.read_csv('./data.csv')"
   ]
  },
  {
   "cell_type": "code",
   "execution_count": 3,
   "metadata": {},
   "outputs": [
    {
     "data": {
      "text/html": [
       "<div>\n",
       "<style scoped>\n",
       "    .dataframe tbody tr th:only-of-type {\n",
       "        vertical-align: middle;\n",
       "    }\n",
       "\n",
       "    .dataframe tbody tr th {\n",
       "        vertical-align: top;\n",
       "    }\n",
       "\n",
       "    .dataframe thead th {\n",
       "        text-align: right;\n",
       "    }\n",
       "</style>\n",
       "<table border=\"1\" class=\"dataframe\">\n",
       "  <thead>\n",
       "    <tr style=\"text-align: right;\">\n",
       "      <th></th>\n",
       "      <th>Article</th>\n",
       "      <th>Clean Article</th>\n",
       "      <th>Target Label</th>\n",
       "      <th>Target Name</th>\n",
       "    </tr>\n",
       "  </thead>\n",
       "  <tbody>\n",
       "    <tr>\n",
       "      <th>0</th>\n",
       "      <td>\\n\\nI am sure some bashers of Pens fans are pr...</td>\n",
       "      <td>sure basher pen fan pretti confus lack ani kin...</td>\n",
       "      <td>10</td>\n",
       "      <td>rec.sport.hockey</td>\n",
       "    </tr>\n",
       "    <tr>\n",
       "      <th>1</th>\n",
       "      <td>My brother is in the market for a high-perform...</td>\n",
       "      <td>brother market high-perform video card support...</td>\n",
       "      <td>3</td>\n",
       "      <td>comp.sys.ibm.pc.hardware</td>\n",
       "    </tr>\n",
       "    <tr>\n",
       "      <th>2</th>\n",
       "      <td>\\n\\n\\n\\n\\tFinally you said what you dream abou...</td>\n",
       "      <td>&amp;#9 ; final said dream about. mediterranean?? ...</td>\n",
       "      <td>17</td>\n",
       "      <td>talk.politics.mideast</td>\n",
       "    </tr>\n",
       "    <tr>\n",
       "      <th>3</th>\n",
       "      <td>\\nThink!\\n\\nIt's the SCSI card doing the DMA t...</td>\n",
       "      <td>think ! ' scsi card dma transfer disk ... scsi...</td>\n",
       "      <td>3</td>\n",
       "      <td>comp.sys.ibm.pc.hardware</td>\n",
       "    </tr>\n",
       "    <tr>\n",
       "      <th>4</th>\n",
       "      <td>1)    I have an old Jasmine drive which I cann...</td>\n",
       "      <td>1 ) old jasmin drive cannot use new system. un...</td>\n",
       "      <td>4</td>\n",
       "      <td>comp.sys.mac.hardware</td>\n",
       "    </tr>\n",
       "    <tr>\n",
       "      <th>...</th>\n",
       "      <td>...</td>\n",
       "      <td>...</td>\n",
       "      <td>...</td>\n",
       "      <td>...</td>\n",
       "    </tr>\n",
       "    <tr>\n",
       "      <th>18325</th>\n",
       "      <td>DN&gt; From: nyeda@cnsvax.uwec.edu (David Nye)\\nD...</td>\n",
       "      <td>dn&gt; : nyeda@cnsvax.uwec.edu ( david nye ) dn&gt; ...</td>\n",
       "      <td>13</td>\n",
       "      <td>sci.med</td>\n",
       "    </tr>\n",
       "    <tr>\n",
       "      <th>18326</th>\n",
       "      <td>\\nNot in isolated ground recepticles (usually ...</td>\n",
       "      <td>isol ground recepticl ( usual unusu color , or...</td>\n",
       "      <td>12</td>\n",
       "      <td>sci.electronics</td>\n",
       "    </tr>\n",
       "    <tr>\n",
       "      <th>18327</th>\n",
       "      <td>I just installed a DX2-66 CPU in a clone mothe...</td>\n",
       "      <td>instal dx2-66 cpu clone motherboard , tri moun...</td>\n",
       "      <td>3</td>\n",
       "      <td>comp.sys.ibm.pc.hardware</td>\n",
       "    </tr>\n",
       "    <tr>\n",
       "      <th>18328</th>\n",
       "      <td>\\nWouldn't this require a hyper-sphere.  In 3-...</td>\n",
       "      <td>' thi requir hyper-sphere. 3-space , 4 point s...</td>\n",
       "      <td>1</td>\n",
       "      <td>comp.graphics</td>\n",
       "    </tr>\n",
       "    <tr>\n",
       "      <th>18329</th>\n",
       "      <td>After a tip from Gary Crum (crum@fcom.cc.utah....</td>\n",
       "      <td>tip gari crum ( crum@fcom.cc.utah.edu ) got ph...</td>\n",
       "      <td>7</td>\n",
       "      <td>rec.autos</td>\n",
       "    </tr>\n",
       "  </tbody>\n",
       "</table>\n",
       "<p>18330 rows × 4 columns</p>\n",
       "</div>"
      ],
      "text/plain": [
       "                                                 Article  \\\n",
       "0      \\n\\nI am sure some bashers of Pens fans are pr...   \n",
       "1      My brother is in the market for a high-perform...   \n",
       "2      \\n\\n\\n\\n\\tFinally you said what you dream abou...   \n",
       "3      \\nThink!\\n\\nIt's the SCSI card doing the DMA t...   \n",
       "4      1)    I have an old Jasmine drive which I cann...   \n",
       "...                                                  ...   \n",
       "18325  DN> From: nyeda@cnsvax.uwec.edu (David Nye)\\nD...   \n",
       "18326  \\nNot in isolated ground recepticles (usually ...   \n",
       "18327  I just installed a DX2-66 CPU in a clone mothe...   \n",
       "18328  \\nWouldn't this require a hyper-sphere.  In 3-...   \n",
       "18329  After a tip from Gary Crum (crum@fcom.cc.utah....   \n",
       "\n",
       "                                           Clean Article  Target Label  \\\n",
       "0      sure basher pen fan pretti confus lack ani kin...            10   \n",
       "1      brother market high-perform video card support...             3   \n",
       "2      &#9 ; final said dream about. mediterranean?? ...            17   \n",
       "3      think ! ' scsi card dma transfer disk ... scsi...             3   \n",
       "4      1 ) old jasmin drive cannot use new system. un...             4   \n",
       "...                                                  ...           ...   \n",
       "18325  dn> : nyeda@cnsvax.uwec.edu ( david nye ) dn> ...            13   \n",
       "18326  isol ground recepticl ( usual unusu color , or...            12   \n",
       "18327  instal dx2-66 cpu clone motherboard , tri moun...             3   \n",
       "18328  ' thi requir hyper-sphere. 3-space , 4 point s...             1   \n",
       "18329  tip gari crum ( crum@fcom.cc.utah.edu ) got ph...             7   \n",
       "\n",
       "                    Target Name  \n",
       "0              rec.sport.hockey  \n",
       "1      comp.sys.ibm.pc.hardware  \n",
       "2         talk.politics.mideast  \n",
       "3      comp.sys.ibm.pc.hardware  \n",
       "4         comp.sys.mac.hardware  \n",
       "...                         ...  \n",
       "18325                   sci.med  \n",
       "18326           sci.electronics  \n",
       "18327  comp.sys.ibm.pc.hardware  \n",
       "18328             comp.graphics  \n",
       "18329                 rec.autos  \n",
       "\n",
       "[18330 rows x 4 columns]"
      ]
     },
     "execution_count": 3,
     "metadata": {},
     "output_type": "execute_result"
    }
   ],
   "source": [
    "data_df"
   ]
  },
  {
   "cell_type": "code",
   "execution_count": 4,
   "metadata": {},
   "outputs": [],
   "source": [
    "x_train_vali, x_test, y_train_vali, y_test = train_test_split(data_df['Clean Article'],data_df['Target Label'] , test_size = 0.20, random_state = 42)\n",
    "x_train,x_vali, y_train, y_vali = train_test_split(x_train_vali, y_train_vali, test_size = 0.1, random_state = 42)"
   ]
  },
  {
   "cell_type": "markdown",
   "metadata": {},
   "source": [
    "### 1.基于词袋表示为输入的多层感知机分类"
   ]
  },
  {
   "cell_type": "markdown",
   "metadata": {},
   "source": [
    "#### a. 采用实验 3 中的预处理对训练集和测试集进行预处理并得到词袋表示。"
   ]
  },
  {
   "cell_type": "code",
   "execution_count": 5,
   "metadata": {},
   "outputs": [],
   "source": [
    "tv = TfidfVectorizer(norm='l2', use_idf=True, smooth_idf=True) \n",
    "\n",
    "\n",
    "tv_train_features = tv.fit_transform(x_train) \n",
    "\n",
    "tv_test_features=tv.transform(x_test)\n",
    "tv_vail_features=tv.transform(x_vali)"
   ]
  },
  {
   "cell_type": "code",
   "execution_count": 28,
   "metadata": {},
   "outputs": [
    {
     "data": {
      "text/plain": [
       "(13197, 103025)"
      ]
     },
     "execution_count": 28,
     "metadata": {},
     "output_type": "execute_result"
    }
   ],
   "source": [
    "tv_train_features.shape"
   ]
  },
  {
   "cell_type": "markdown",
   "metadata": {},
   "source": [
    "#### b. 创建具有单层隐藏层（256 个节点）的多层感知机，设置激活函数为 ReLu，初始学习率为 0.001，轮数 epoch 为 50,用训练集对模型进行训练，画出学习曲线（训练、验证损失以及准确率）。观察曲线，讨论模型的学习情况（欠拟合、过拟合）\n"
   ]
  },
  {
   "cell_type": "code",
   "execution_count": 39,
   "metadata": {},
   "outputs": [],
   "source": [
    "batch_size =100\n",
    "epochs =50\n",
    "learn_rate=0.001\n",
    "input_shape=(103025,)"
   ]
  },
  {
   "cell_type": "code",
   "execution_count": 43,
   "metadata": {},
   "outputs": [
    {
     "name": "stdout",
     "output_type": "stream",
     "text": [
      "Model: \"sequential_6\"\n",
      "_________________________________________________________________\n",
      "Layer (type)                 Output Shape              Param #   \n",
      "=================================================================\n",
      "dense_6 (Dense)              (None, 256)               26374656  \n",
      "_________________________________________________________________\n",
      "dense_7 (Dense)              (None, 20)                5140      \n",
      "=================================================================\n",
      "Total params: 26,379,796\n",
      "Trainable params: 26,379,796\n",
      "Non-trainable params: 0\n",
      "_________________________________________________________________\n"
     ]
    }
   ],
   "source": [
    "model=keras.models.Sequential()\n",
    "model.add(keras.layers.Dense(256,activation='relu',input_dim=103025))\n",
    "model.add(keras.layers.Dense(20,activation='softmax'))\n",
    "model.summary()"
   ]
  },
  {
   "cell_type": "code",
   "execution_count": 44,
   "metadata": {},
   "outputs": [],
   "source": [
    "model.compile(loss=\"sparse_categorical_crossentropy\",optimizer=\"sgd\",metrics=['accuracy'])"
   ]
  },
  {
   "cell_type": "code",
   "execution_count": 46,
   "metadata": {
    "scrolled": true
   },
   "outputs": [
    {
     "name": "stdout",
     "output_type": "stream",
     "text": [
      "Epoch 1/50\n",
      "413/413 [==============================] - 17s 40ms/step - loss: 2.9931 - accuracy: 0.0666 - val_loss: 2.9897 - val_accuracy: 0.0682\n",
      "Epoch 2/50\n",
      "413/413 [==============================] - 7s 17ms/step - loss: 2.9874 - accuracy: 0.0755 - val_loss: 2.9841 - val_accuracy: 0.0818\n",
      "Epoch 3/50\n",
      "413/413 [==============================] - 7s 17ms/step - loss: 2.9819 - accuracy: 0.0999 - val_loss: 2.9787 - val_accuracy: 0.1166\n",
      "Epoch 4/50\n",
      "413/413 [==============================] - 7s 17ms/step - loss: 2.9764 - accuracy: 0.1458 - val_loss: 2.9735 - val_accuracy: 0.1234\n",
      "Epoch 5/50\n",
      "413/413 [==============================] - 7s 17ms/step - loss: 2.9709 - accuracy: 0.1641 - val_loss: 2.9680 - val_accuracy: 0.1677\n",
      "Epoch 6/50\n",
      "413/413 [==============================] - 7s 17ms/step - loss: 2.9653 - accuracy: 0.1891 - val_loss: 2.9625 - val_accuracy: 0.2284\n",
      "Epoch 7/50\n",
      "413/413 [==============================] - 7s 17ms/step - loss: 2.9596 - accuracy: 0.2348 - val_loss: 2.9571 - val_accuracy: 0.2604\n",
      "Epoch 8/50\n",
      "413/413 [==============================] - 7s 17ms/step - loss: 2.9537 - accuracy: 0.2832 - val_loss: 2.9516 - val_accuracy: 0.2938\n",
      "Epoch 9/50\n",
      "413/413 [==============================] - 7s 17ms/step - loss: 2.9477 - accuracy: 0.3222 - val_loss: 2.9461 - val_accuracy: 0.3108\n",
      "Epoch 10/50\n",
      "413/413 [==============================] - 7s 17ms/step - loss: 2.9415 - accuracy: 0.3513 - val_loss: 2.9401 - val_accuracy: 0.3381\n",
      "Epoch 11/50\n",
      "413/413 [==============================] - 7s 17ms/step - loss: 2.9350 - accuracy: 0.3706 - val_loss: 2.9338 - val_accuracy: 0.3770\n",
      "Epoch 12/50\n",
      "413/413 [==============================] - 7s 17ms/step - loss: 2.9283 - accuracy: 0.4302 - val_loss: 2.9275 - val_accuracy: 0.3606\n",
      "Epoch 13/50\n",
      "413/413 [==============================] - 7s 16ms/step - loss: 2.9213 - accuracy: 0.4240 - val_loss: 2.9211 - val_accuracy: 0.4097\n",
      "Epoch 14/50\n",
      "413/413 [==============================] - 7s 16ms/step - loss: 2.9141 - accuracy: 0.4180 - val_loss: 2.9139 - val_accuracy: 0.4608\n",
      "Epoch 15/50\n",
      "413/413 [==============================] - 7s 16ms/step - loss: 2.9065 - accuracy: 0.4792 - val_loss: 2.9066 - val_accuracy: 0.4731\n",
      "Epoch 16/50\n",
      "413/413 [==============================] - 7s 16ms/step - loss: 2.8985 - accuracy: 0.4886 - val_loss: 2.8992 - val_accuracy: 0.5037\n",
      "Epoch 17/50\n",
      "413/413 [==============================] - 7s 16ms/step - loss: 2.8903 - accuracy: 0.5487 - val_loss: 2.8914 - val_accuracy: 0.4908\n",
      "Epoch 18/50\n",
      "413/413 [==============================] - 7s 16ms/step - loss: 2.8816 - accuracy: 0.5460 - val_loss: 2.8830 - val_accuracy: 0.4833\n",
      "Epoch 19/50\n",
      "413/413 [==============================] - 7s 16ms/step - loss: 2.8724 - accuracy: 0.5367 - val_loss: 2.8743 - val_accuracy: 0.5119\n",
      "Epoch 20/50\n",
      "413/413 [==============================] - 7s 16ms/step - loss: 2.8628 - accuracy: 0.5569 - val_loss: 2.8647 - val_accuracy: 0.5187\n",
      "Epoch 21/50\n",
      "413/413 [==============================] - 7s 16ms/step - loss: 2.8526 - accuracy: 0.5663 - val_loss: 2.8554 - val_accuracy: 0.5419\n",
      "Epoch 22/50\n",
      "413/413 [==============================] - 7s 16ms/step - loss: 2.8420 - accuracy: 0.5844 - val_loss: 2.8450 - val_accuracy: 0.5487\n",
      "Epoch 23/50\n",
      "413/413 [==============================] - 7s 17ms/step - loss: 2.8307 - accuracy: 0.6004 - val_loss: 2.8344 - val_accuracy: 0.5290\n",
      "Epoch 24/50\n",
      "413/413 [==============================] - 7s 16ms/step - loss: 2.8189 - accuracy: 0.5777 - val_loss: 2.8227 - val_accuracy: 0.5603\n",
      "Epoch 25/50\n",
      "413/413 [==============================] - 7s 16ms/step - loss: 2.8064 - accuracy: 0.6174 - val_loss: 2.8106 - val_accuracy: 0.5460\n",
      "Epoch 26/50\n",
      "413/413 [==============================] - 7s 16ms/step - loss: 2.7931 - accuracy: 0.5921 - val_loss: 2.7980 - val_accuracy: 0.5671\n",
      "Epoch 27/50\n",
      "413/413 [==============================] - 7s 16ms/step - loss: 2.7792 - accuracy: 0.6222 - val_loss: 2.7847 - val_accuracy: 0.5569\n",
      "Epoch 28/50\n",
      "413/413 [==============================] - 7s 16ms/step - loss: 2.7646 - accuracy: 0.6092 - val_loss: 2.7702 - val_accuracy: 0.5651\n",
      "Epoch 29/50\n",
      "413/413 [==============================] - 7s 16ms/step - loss: 2.7491 - accuracy: 0.6259 - val_loss: 2.7560 - val_accuracy: 0.5665\n",
      "Epoch 30/50\n",
      "413/413 [==============================] - 7s 16ms/step - loss: 2.7330 - accuracy: 0.6142 - val_loss: 2.7402 - val_accuracy: 0.5753\n",
      "Epoch 31/50\n",
      "413/413 [==============================] - 7s 16ms/step - loss: 2.7161 - accuracy: 0.6295 - val_loss: 2.7238 - val_accuracy: 0.5760\n",
      "Epoch 32/50\n",
      "413/413 [==============================] - 7s 16ms/step - loss: 2.6983 - accuracy: 0.6352 - val_loss: 2.7065 - val_accuracy: 0.5692\n",
      "Epoch 33/50\n",
      "413/413 [==============================] - 7s 16ms/step - loss: 2.6797 - accuracy: 0.6349 - val_loss: 2.6890 - val_accuracy: 0.5658\n",
      "Epoch 34/50\n",
      "413/413 [==============================] - 7s 16ms/step - loss: 2.6603 - accuracy: 0.6274 - val_loss: 2.6709 - val_accuracy: 0.5801\n",
      "Epoch 35/50\n",
      "413/413 [==============================] - 7s 16ms/step - loss: 2.6401 - accuracy: 0.6432 - val_loss: 2.6507 - val_accuracy: 0.5671\n",
      "Epoch 36/50\n",
      "413/413 [==============================] - 7s 16ms/step - loss: 2.6190 - accuracy: 0.6348 - val_loss: 2.6304 - val_accuracy: 0.5658\n",
      "Epoch 37/50\n",
      "413/413 [==============================] - 7s 17ms/step - loss: 2.5974 - accuracy: 0.6417 - val_loss: 2.6097 - val_accuracy: 0.5712\n",
      "Epoch 38/50\n",
      "413/413 [==============================] - 7s 17ms/step - loss: 2.5748 - accuracy: 0.6409 - val_loss: 2.5875 - val_accuracy: 0.5828\n",
      "Epoch 39/50\n",
      "413/413 [==============================] - 7s 16ms/step - loss: 2.5515 - accuracy: 0.6429 - val_loss: 2.5654 - val_accuracy: 0.5787\n",
      "Epoch 40/50\n",
      "413/413 [==============================] - 7s 16ms/step - loss: 2.5277 - accuracy: 0.6408 - val_loss: 2.5424 - val_accuracy: 0.5917\n",
      "Epoch 41/50\n",
      "413/413 [==============================] - 7s 16ms/step - loss: 2.5031 - accuracy: 0.6562 - val_loss: 2.5189 - val_accuracy: 0.5903\n",
      "Epoch 42/50\n",
      "413/413 [==============================] - 7s 16ms/step - loss: 2.4779 - accuracy: 0.6496 - val_loss: 2.4952 - val_accuracy: 0.5876\n",
      "Epoch 43/50\n",
      "413/413 [==============================] - 7s 16ms/step - loss: 2.4524 - accuracy: 0.6525 - val_loss: 2.4713 - val_accuracy: 0.5992\n",
      "Epoch 44/50\n",
      "413/413 [==============================] - 7s 16ms/step - loss: 2.4263 - accuracy: 0.6561 - val_loss: 2.4473 - val_accuracy: 0.5930\n",
      "Epoch 45/50\n",
      "413/413 [==============================] - 7s 16ms/step - loss: 2.3998 - accuracy: 0.6576 - val_loss: 2.4220 - val_accuracy: 0.5910\n",
      "Epoch 46/50\n",
      "413/413 [==============================] - 7s 16ms/step - loss: 2.3732 - accuracy: 0.6560 - val_loss: 2.3957 - val_accuracy: 0.5944\n",
      "Epoch 47/50\n",
      "413/413 [==============================] - 7s 16ms/step - loss: 2.3461 - accuracy: 0.6605 - val_loss: 2.3712 - val_accuracy: 0.5992\n",
      "Epoch 48/50\n",
      "413/413 [==============================] - 7s 17ms/step - loss: 2.3189 - accuracy: 0.6674 - val_loss: 2.3451 - val_accuracy: 0.5971\n",
      "Epoch 49/50\n",
      "413/413 [==============================] - 7s 17ms/step - loss: 2.2915 - accuracy: 0.6640 - val_loss: 2.3193 - val_accuracy: 0.6005\n",
      "Epoch 50/50\n",
      "413/413 [==============================] - 7s 17ms/step - loss: 2.2641 - accuracy: 0.6654 - val_loss: 2.2941 - val_accuracy: 0.6115\n"
     ]
    }
   ],
   "source": [
    "history=model.fit(tv_train_features.toarray(),y_train,epochs=epochs,validation_data=(tv_vail_features.toarray(),y_vali))"
   ]
  },
  {
   "cell_type": "code",
   "execution_count": 61,
   "metadata": {},
   "outputs": [
    {
     "data": {
      "image/png": "[encoded data removed]",
      "text/plain": [
       "<Figure size 1080x576 with 1 Axes>"
      ]
     },
     "metadata": {
      "needs_background": "light"
     },
     "output_type": "display_data"
    }
   ],
   "source": [
    "pd.DataFrame(history.history).plot(figsize=(15,8))\n",
    "plt.grid(True)\n",
    "plt.gca().set_ylim(0,3)\n",
    "plt.xlabel(\"epochs\")\n",
    "plt.show()"
   ]
  },
  {
   "cell_type": "markdown",
   "metadata": {},
   "source": [
    "<div class=\"alert alert-success alertsuccess\" style=\"margin-top: 10px\">\n",
    "结果分析和讨论：\n",
    "随着训练轮次的增加，模型的精度除了有些轻微抖动外，总趋势在上升，loss在总趋势下也在下降，最后在将近25epoch左右模型的精度趋于平等。未发现明显的过拟合和欠拟合现象。"
   ]
  },
  {
   "cell_type": "markdown",
   "metadata": {},
   "source": [
    "#### c. 得到测试集准确率，并对比实验 3 中基于朴素贝叶斯算法的结果。"
   ]
  },
  {
   "cell_type": "code",
   "execution_count": 64,
   "metadata": {},
   "outputs": [
    {
     "name": "stdout",
     "output_type": "stream",
     "text": [
      "115/115 [==============================] - 1s 10ms/step - loss: 2.3025 - accuracy: 0.6143\n"
     ]
    },
    {
     "data": {
      "text/plain": [
       "[2.302476406097412, 0.6142935156822205]"
      ]
     },
     "execution_count": 64,
     "metadata": {},
     "output_type": "execute_result"
    }
   ],
   "source": [
    "model.evaluate(tv_test_features.toarray(),y_test)"
   ]
  },
  {
   "cell_type": "markdown",
   "metadata": {},
   "source": [
    "<div class=\"alert alert-success alertsuccess\" style=\"margin-top: 10px\">\n",
    "结果分析和讨论：\n",
    "实验3基于朴素贝叶斯算法的准确率为0.71左右，说明这个模型的性能还不是很强，需要调整。"
   ]
  },
  {
   "cell_type": "markdown",
   "metadata": {},
   "source": [
    "#### d. 尝试改变实验设置（增加隐藏层节点个数、增加层数、初始学习率、优化器、增加 epoch 数目等）来提升测试集准确率并讨论结果。"
   ]
  },
  {
   "cell_type": "code",
   "execution_count": 6,
   "metadata": {},
   "outputs": [
    {
     "name": "stdout",
     "output_type": "stream",
     "text": [
      "Model: \"sequential\"\n",
      "_________________________________________________________________\n",
      "Layer (type)                 Output Shape              Param #   \n",
      "=================================================================\n",
      "dense (Dense)                (None, 512)               52749312  \n",
      "_________________________________________________________________\n",
      "dense_1 (Dense)              (None, 256)               131328    \n",
      "_________________________________________________________________\n",
      "dense_2 (Dense)              (None, 80)                20560     \n",
      "_________________________________________________________________\n",
      "dense_3 (Dense)              (None, 20)                1620      \n",
      "=================================================================\n",
      "Total params: 52,902,820\n",
      "Trainable params: 52,902,820\n",
      "Non-trainable params: 0\n",
      "_________________________________________________________________\n"
     ]
    }
   ],
   "source": [
    "\n",
    "batch_size =100\n",
    "epochs =100\n",
    "learn_rate=0.001\n",
    "\n",
    "input_shape=(103025,)\n",
    "model=keras.models.Sequential()\n",
    "model.add(keras.layers.Dense(512,activation='relu',input_dim=103025))\n",
    "model.add(keras.layers.Dense(256,activation='relu'))\n",
    "model.add(keras.layers.Dense(80,activation='relu'))\n",
    "model.add(keras.layers.Dense(20,activation='softmax'))\n",
    "model.summary()\n",
    "\n"
   ]
  },
  {
   "cell_type": "code",
   "execution_count": 7,
   "metadata": {
    "scrolled": true
   },
   "outputs": [
    {
     "name": "stdout",
     "output_type": "stream",
     "text": [
      "Epoch 1/100\n",
      "132/132 [==============================] - 29s 219ms/step - loss: 2.9951 - accuracy: 0.0563 - val_loss: 2.9942 - val_accuracy: 0.0729\n",
      "Epoch 2/100\n",
      "132/132 [==============================] - 6s 46ms/step - loss: 2.9937 - accuracy: 0.0713 - val_loss: 2.9927 - val_accuracy: 0.0954\n",
      "Epoch 3/100\n",
      "132/132 [==============================] - 6s 44ms/step - loss: 2.9924 - accuracy: 0.0912 - val_loss: 2.9912 - val_accuracy: 0.1022\n",
      "Epoch 4/100\n",
      "132/132 [==============================] - 6s 44ms/step - loss: 2.9911 - accuracy: 0.0972 - val_loss: 2.9898 - val_accuracy: 0.1029\n",
      "Epoch 5/100\n",
      "132/132 [==============================] - 6s 43ms/step - loss: 2.9898 - accuracy: 0.1123 - val_loss: 2.9885 - val_accuracy: 0.1247\n",
      "Epoch 6/100\n",
      "132/132 [==============================] - 6s 45ms/step - loss: 2.9885 - accuracy: 0.1211 - val_loss: 2.9871 - val_accuracy: 0.1486\n",
      "Epoch 7/100\n",
      "132/132 [==============================] - 6s 46ms/step - loss: 2.9871 - accuracy: 0.1395 - val_loss: 2.9857 - val_accuracy: 0.1472\n",
      "Epoch 8/100\n",
      "132/132 [==============================] - 6s 45ms/step - loss: 2.9856 - accuracy: 0.1559 - val_loss: 2.9843 - val_accuracy: 0.1656\n",
      "Epoch 9/100\n",
      "132/132 [==============================] - 6s 45ms/step - loss: 2.9840 - accuracy: 0.1801 - val_loss: 2.9826 - val_accuracy: 0.1847\n",
      "Epoch 10/100\n",
      "132/132 [==============================] - 6s 43ms/step - loss: 2.9823 - accuracy: 0.1982 - val_loss: 2.9810 - val_accuracy: 0.1902\n",
      "Epoch 11/100\n",
      "132/132 [==============================] - 6s 43ms/step - loss: 2.9805 - accuracy: 0.2108 - val_loss: 2.9792 - val_accuracy: 0.1956\n",
      "Epoch 12/100\n",
      "132/132 [==============================] - 6s 44ms/step - loss: 2.9786 - accuracy: 0.2078 - val_loss: 2.9774 - val_accuracy: 0.2222\n",
      "Epoch 13/100\n",
      "132/132 [==============================] - 6s 42ms/step - loss: 2.9766 - accuracy: 0.2442 - val_loss: 2.9755 - val_accuracy: 0.1854\n",
      "Epoch 14/100\n",
      "132/132 [==============================] - 6s 42ms/step - loss: 2.9745 - accuracy: 0.2285 - val_loss: 2.9734 - val_accuracy: 0.2181\n",
      "Epoch 15/100\n",
      "132/132 [==============================] - 6s 42ms/step - loss: 2.9723 - accuracy: 0.2642 - val_loss: 2.9715 - val_accuracy: 0.1997\n",
      "Epoch 16/100\n",
      "132/132 [==============================] - 6s 42ms/step - loss: 2.9700 - accuracy: 0.2374 - val_loss: 2.9690 - val_accuracy: 0.2495\n",
      "Epoch 17/100\n",
      "132/132 [==============================] - 6s 42ms/step - loss: 2.9677 - accuracy: 0.2598 - val_loss: 2.9669 - val_accuracy: 0.2713\n",
      "Epoch 18/100\n",
      "132/132 [==============================] - 6s 43ms/step - loss: 2.9652 - accuracy: 0.2503 - val_loss: 2.9642 - val_accuracy: 0.3006\n",
      "Epoch 19/100\n",
      "132/132 [==============================] - 6s 45ms/step - loss: 2.9626 - accuracy: 0.3104 - val_loss: 2.9619 - val_accuracy: 0.2672\n",
      "Epoch 20/100\n",
      "132/132 [==============================] - 7s 51ms/step - loss: 2.9599 - accuracy: 0.2884 - val_loss: 2.9594 - val_accuracy: 0.2911\n",
      "Epoch 21/100\n",
      "132/132 [==============================] - 6s 46ms/step - loss: 2.9571 - accuracy: 0.3336 - val_loss: 2.9568 - val_accuracy: 0.2495\n",
      "Epoch 22/100\n",
      "132/132 [==============================] - 6s 48ms/step - loss: 2.9542 - accuracy: 0.3364 - val_loss: 2.9539 - val_accuracy: 0.2522\n",
      "Epoch 23/100\n",
      "132/132 [==============================] - 6s 46ms/step - loss: 2.9511 - accuracy: 0.2970 - val_loss: 2.9509 - val_accuracy: 0.3190\n",
      "Epoch 24/100\n",
      "132/132 [==============================] - 6s 45ms/step - loss: 2.9479 - accuracy: 0.3349 - val_loss: 2.9476 - val_accuracy: 0.3245\n",
      "Epoch 25/100\n",
      "132/132 [==============================] - 6s 46ms/step - loss: 2.9444 - accuracy: 0.3574 - val_loss: 2.9445 - val_accuracy: 0.3081\n",
      "Epoch 26/100\n",
      "132/132 [==============================] - 6s 45ms/step - loss: 2.9409 - accuracy: 0.3475 - val_loss: 2.9409 - val_accuracy: 0.3415\n",
      "Epoch 27/100\n",
      "132/132 [==============================] - 6s 45ms/step - loss: 2.9371 - accuracy: 0.3904 - val_loss: 2.9374 - val_accuracy: 0.3156\n",
      "Epoch 28/100\n",
      "132/132 [==============================] - 6s 44ms/step - loss: 2.9330 - accuracy: 0.3565 - val_loss: 2.9334 - val_accuracy: 0.3586\n",
      "Epoch 29/100\n",
      "132/132 [==============================] - 6s 45ms/step - loss: 2.9288 - accuracy: 0.3999 - val_loss: 2.9292 - val_accuracy: 0.3408\n",
      "Epoch 30/100\n",
      "132/132 [==============================] - 6s 43ms/step - loss: 2.9242 - accuracy: 0.3857 - val_loss: 2.9249 - val_accuracy: 0.3667\n",
      "Epoch 31/100\n",
      "132/132 [==============================] - 6s 43ms/step - loss: 2.9193 - accuracy: 0.3840 - val_loss: 2.9201 - val_accuracy: 0.3851\n",
      "Epoch 32/100\n",
      "132/132 [==============================] - 6s 43ms/step - loss: 2.9141 - accuracy: 0.4179 - val_loss: 2.9150 - val_accuracy: 0.3763\n",
      "Epoch 33/100\n",
      "132/132 [==============================] - 6s 44ms/step - loss: 2.9083 - accuracy: 0.4264 - val_loss: 2.9096 - val_accuracy: 0.3354\n",
      "Epoch 34/100\n",
      "132/132 [==============================] - 6s 44ms/step - loss: 2.9023 - accuracy: 0.4040 - val_loss: 2.9037 - val_accuracy: 0.3749\n",
      "Epoch 35/100\n",
      "132/132 [==============================] - 6s 44ms/step - loss: 2.8955 - accuracy: 0.4130 - val_loss: 2.8971 - val_accuracy: 0.3933\n",
      "Epoch 36/100\n",
      "132/132 [==============================] - 6s 43ms/step - loss: 2.8882 - accuracy: 0.4249 - val_loss: 2.8899 - val_accuracy: 0.3763\n",
      "Epoch 37/100\n",
      "132/132 [==============================] - 6s 43ms/step - loss: 2.8804 - accuracy: 0.4268 - val_loss: 2.8821 - val_accuracy: 0.3736\n",
      "Epoch 38/100\n",
      "132/132 [==============================] - 6s 45ms/step - loss: 2.8716 - accuracy: 0.4320 - val_loss: 2.8737 - val_accuracy: 0.3640\n",
      "Epoch 39/100\n",
      "132/132 [==============================] - 6s 44ms/step - loss: 2.8622 - accuracy: 0.4268 - val_loss: 2.8641 - val_accuracy: 0.3722\n",
      "Epoch 40/100\n",
      "132/132 [==============================] - 6s 44ms/step - loss: 2.8517 - accuracy: 0.4289 - val_loss: 2.8538 - val_accuracy: 0.3742\n",
      "Epoch 41/100\n",
      "132/132 [==============================] - 6s 44ms/step - loss: 2.8402 - accuracy: 0.4380 - val_loss: 2.8423 - val_accuracy: 0.3736\n",
      "Epoch 42/100\n",
      "132/132 [==============================] - 6s 44ms/step - loss: 2.8272 - accuracy: 0.4115 - val_loss: 2.8292 - val_accuracy: 0.4001\n",
      "Epoch 43/100\n",
      "132/132 [==============================] - 6s 44ms/step - loss: 2.8130 - accuracy: 0.4418 - val_loss: 2.8156 - val_accuracy: 0.3770\n",
      "Epoch 44/100\n",
      "132/132 [==============================] - 6s 43ms/step - loss: 2.7971 - accuracy: 0.4143 - val_loss: 2.7991 - val_accuracy: 0.3947\n",
      "Epoch 45/100\n",
      "132/132 [==============================] - 6s 42ms/step - loss: 2.7791 - accuracy: 0.4152 - val_loss: 2.7810 - val_accuracy: 0.4008\n",
      "Epoch 46/100\n",
      "132/132 [==============================] - 6s 43ms/step - loss: 2.7591 - accuracy: 0.4321 - val_loss: 2.7617 - val_accuracy: 0.3647\n",
      "Epoch 47/100\n",
      "132/132 [==============================] - 6s 44ms/step - loss: 2.7368 - accuracy: 0.4218 - val_loss: 2.7384 - val_accuracy: 0.3592\n",
      "Epoch 48/100\n",
      "132/132 [==============================] - 6s 42ms/step - loss: 2.7117 - accuracy: 0.4055 - val_loss: 2.7134 - val_accuracy: 0.3899\n",
      "Epoch 49/100\n",
      "132/132 [==============================] - 6s 42ms/step - loss: 2.6835 - accuracy: 0.4262 - val_loss: 2.6849 - val_accuracy: 0.3661\n",
      "Epoch 50/100\n",
      "132/132 [==============================] - 6s 42ms/step - loss: 2.6519 - accuracy: 0.4155 - val_loss: 2.6530 - val_accuracy: 0.3770\n",
      "Epoch 51/100\n",
      "132/132 [==============================] - 6s 42ms/step - loss: 2.6172 - accuracy: 0.4195 - val_loss: 2.6191 - val_accuracy: 0.3783\n",
      "Epoch 52/100\n",
      "132/132 [==============================] - 6s 42ms/step - loss: 2.5795 - accuracy: 0.4228 - val_loss: 2.5817 - val_accuracy: 0.3858\n",
      "Epoch 53/100\n",
      "132/132 [==============================] - 5s 42ms/step - loss: 2.5383 - accuracy: 0.4268 - val_loss: 2.5407 - val_accuracy: 0.3892\n",
      "Epoch 54/100\n",
      "132/132 [==============================] - 6s 42ms/step - loss: 2.4946 - accuracy: 0.4327 - val_loss: 2.4982 - val_accuracy: 0.3967\n",
      "Epoch 55/100\n",
      "132/132 [==============================] - 6s 42ms/step - loss: 2.4480 - accuracy: 0.4387 - val_loss: 2.4540 - val_accuracy: 0.4049\n",
      "Epoch 56/100\n",
      "132/132 [==============================] - 6s 42ms/step - loss: 2.4001 - accuracy: 0.4610 - val_loss: 2.4074 - val_accuracy: 0.4049\n",
      "Epoch 57/100\n"
     ]
    },
    {
     "name": "stdout",
     "output_type": "stream",
     "text": [
      "132/132 [==============================] - 6s 43ms/step - loss: 2.3512 - accuracy: 0.4625 - val_loss: 2.3615 - val_accuracy: 0.4199\n",
      "Epoch 58/100\n",
      "132/132 [==============================] - 6s 42ms/step - loss: 2.3016 - accuracy: 0.4797 - val_loss: 2.3139 - val_accuracy: 0.4329\n",
      "Epoch 59/100\n",
      "132/132 [==============================] - 6s 43ms/step - loss: 2.2515 - accuracy: 0.4918 - val_loss: 2.2690 - val_accuracy: 0.4397\n",
      "Epoch 60/100\n",
      "132/132 [==============================] - 6s 42ms/step - loss: 2.2021 - accuracy: 0.5050 - val_loss: 2.2232 - val_accuracy: 0.4526\n",
      "Epoch 61/100\n",
      "132/132 [==============================] - 6s 43ms/step - loss: 2.1535 - accuracy: 0.5182 - val_loss: 2.1821 - val_accuracy: 0.4622\n",
      "Epoch 62/100\n",
      "132/132 [==============================] - 6s 46ms/step - loss: 2.1054 - accuracy: 0.5325 - val_loss: 2.1383 - val_accuracy: 0.4724\n",
      "Epoch 63/100\n",
      "132/132 [==============================] - 6s 45ms/step - loss: 2.0585 - accuracy: 0.5386 - val_loss: 2.0954 - val_accuracy: 0.4785\n",
      "Epoch 64/100\n",
      "132/132 [==============================] - 6s 43ms/step - loss: 2.0126 - accuracy: 0.5548 - val_loss: 2.0561 - val_accuracy: 0.4819\n",
      "Epoch 65/100\n",
      "132/132 [==============================] - 6s 46ms/step - loss: 1.9678 - accuracy: 0.5587 - val_loss: 2.0158 - val_accuracy: 0.4867\n",
      "Epoch 66/100\n",
      "132/132 [==============================] - 6s 44ms/step - loss: 1.9247 - accuracy: 0.5712 - val_loss: 1.9826 - val_accuracy: 0.4840\n",
      "Epoch 67/100\n",
      "132/132 [==============================] - 6s 44ms/step - loss: 1.8819 - accuracy: 0.5716 - val_loss: 1.9416 - val_accuracy: 0.5181\n",
      "Epoch 68/100\n",
      "132/132 [==============================] - 6s 44ms/step - loss: 1.8398 - accuracy: 0.5849 - val_loss: 1.9060 - val_accuracy: 0.5290\n",
      "Epoch 69/100\n",
      "132/132 [==============================] - 6s 44ms/step - loss: 1.7991 - accuracy: 0.5891 - val_loss: 1.8755 - val_accuracy: 0.5222\n",
      "Epoch 70/100\n",
      "132/132 [==============================] - 6s 44ms/step - loss: 1.7584 - accuracy: 0.5904 - val_loss: 1.8396 - val_accuracy: 0.5446\n",
      "Epoch 71/100\n",
      "132/132 [==============================] - 6s 43ms/step - loss: 1.7185 - accuracy: 0.6023 - val_loss: 1.8055 - val_accuracy: 0.5378\n",
      "Epoch 72/100\n",
      "132/132 [==============================] - 6s 44ms/step - loss: 1.6794 - accuracy: 0.6089 - val_loss: 1.7760 - val_accuracy: 0.5392\n",
      "Epoch 73/100\n",
      "132/132 [==============================] - 6s 44ms/step - loss: 1.6405 - accuracy: 0.6183 - val_loss: 1.7430 - val_accuracy: 0.5508\n",
      "Epoch 74/100\n",
      "132/132 [==============================] - 6s 44ms/step - loss: 1.6013 - accuracy: 0.6262 - val_loss: 1.7148 - val_accuracy: 0.5624\n",
      "Epoch 75/100\n",
      "132/132 [==============================] - 6s 43ms/step - loss: 1.5634 - accuracy: 0.6347 - val_loss: 1.6841 - val_accuracy: 0.5583\n",
      "Epoch 76/100\n",
      "132/132 [==============================] - 6s 43ms/step - loss: 1.5255 - accuracy: 0.6415 - val_loss: 1.6532 - val_accuracy: 0.5726\n",
      "Epoch 77/100\n",
      "132/132 [==============================] - 6s 43ms/step - loss: 1.4869 - accuracy: 0.6495 - val_loss: 1.6254 - val_accuracy: 0.5787\n",
      "Epoch 78/100\n",
      "132/132 [==============================] - 6s 42ms/step - loss: 1.4500 - accuracy: 0.6580 - val_loss: 1.5953 - val_accuracy: 0.5815\n",
      "Epoch 79/100\n",
      "132/132 [==============================] - 6s 42ms/step - loss: 1.4126 - accuracy: 0.6633 - val_loss: 1.5686 - val_accuracy: 0.5930\n",
      "Epoch 80/100\n",
      "132/132 [==============================] - 6s 43ms/step - loss: 1.3773 - accuracy: 0.6708 - val_loss: 1.5423 - val_accuracy: 0.5883\n",
      "Epoch 81/100\n",
      "132/132 [==============================] - 6s 43ms/step - loss: 1.3403 - accuracy: 0.6794 - val_loss: 1.5161 - val_accuracy: 0.5958\n",
      "Epoch 82/100\n",
      "132/132 [==============================] - 6s 43ms/step - loss: 1.3056 - accuracy: 0.6870 - val_loss: 1.4873 - val_accuracy: 0.6053\n",
      "Epoch 83/100\n",
      "132/132 [==============================] - 6s 42ms/step - loss: 1.2700 - accuracy: 0.6940 - val_loss: 1.4662 - val_accuracy: 0.6108\n",
      "Epoch 84/100\n",
      "132/132 [==============================] - 6s 42ms/step - loss: 1.2356 - accuracy: 0.7005 - val_loss: 1.4495 - val_accuracy: 0.6005\n",
      "Epoch 85/100\n",
      "132/132 [==============================] - 6s 42ms/step - loss: 1.2014 - accuracy: 0.7069 - val_loss: 1.4127 - val_accuracy: 0.6278\n",
      "Epoch 86/100\n",
      "132/132 [==============================] - 6s 42ms/step - loss: 1.1698 - accuracy: 0.7121 - val_loss: 1.4069 - val_accuracy: 0.6155\n",
      "Epoch 87/100\n",
      "132/132 [==============================] - 5s 42ms/step - loss: 1.1387 - accuracy: 0.7200 - val_loss: 1.3714 - val_accuracy: 0.6312\n",
      "Epoch 88/100\n",
      "132/132 [==============================] - 6s 42ms/step - loss: 1.1065 - accuracy: 0.7256 - val_loss: 1.3535 - val_accuracy: 0.6339\n",
      "Epoch 89/100\n",
      "132/132 [==============================] - 5s 42ms/step - loss: 1.0758 - accuracy: 0.7321 - val_loss: 1.3450 - val_accuracy: 0.6339\n",
      "Epoch 90/100\n",
      "132/132 [==============================] - 6s 42ms/step - loss: 1.0467 - accuracy: 0.7390 - val_loss: 1.3137 - val_accuracy: 0.6414\n",
      "Epoch 91/100\n",
      "132/132 [==============================] - 6s 42ms/step - loss: 1.0172 - accuracy: 0.7487 - val_loss: 1.3010 - val_accuracy: 0.6414\n",
      "Epoch 92/100\n",
      "132/132 [==============================] - 6s 42ms/step - loss: 0.9892 - accuracy: 0.7543 - val_loss: 1.2895 - val_accuracy: 0.6353\n",
      "Epoch 93/100\n",
      "132/132 [==============================] - 6s 42ms/step - loss: 0.9636 - accuracy: 0.7593 - val_loss: 1.2677 - val_accuracy: 0.6449\n",
      "Epoch 94/100\n",
      "132/132 [==============================] - 6s 43ms/step - loss: 0.9368 - accuracy: 0.7643 - val_loss: 1.2492 - val_accuracy: 0.6469\n",
      "Epoch 95/100\n",
      "132/132 [==============================] - 6s 43ms/step - loss: 0.9116 - accuracy: 0.7715 - val_loss: 1.2401 - val_accuracy: 0.6564\n",
      "Epoch 96/100\n",
      "132/132 [==============================] - 6s 45ms/step - loss: 0.8862 - accuracy: 0.7742 - val_loss: 1.2254 - val_accuracy: 0.6639\n",
      "Epoch 97/100\n",
      "132/132 [==============================] - 6s 43ms/step - loss: 0.8630 - accuracy: 0.7828 - val_loss: 1.2122 - val_accuracy: 0.6619\n",
      "Epoch 98/100\n",
      "132/132 [==============================] - 6s 42ms/step - loss: 0.8383 - accuracy: 0.7889 - val_loss: 1.2091 - val_accuracy: 0.6639\n",
      "Epoch 99/100\n",
      "132/132 [==============================] - 6s 42ms/step - loss: 0.8155 - accuracy: 0.7959 - val_loss: 1.1961 - val_accuracy: 0.6619\n",
      "Epoch 100/100\n",
      "132/132 [==============================] - 6s 43ms/step - loss: 0.7935 - accuracy: 0.8003 - val_loss: 1.1919 - val_accuracy: 0.6694\n"
     ]
    }
   ],
   "source": [
    "keras.optimizers.SGD(lr=learn_rate)\n",
    "model.compile(loss=\"sparse_categorical_crossentropy\",optimizer=\"sgd\",metrics=['accuracy'])\n",
    "history=model.fit(tv_train_features.toarray(),y_train,batch_size=batch_size,epochs=epochs,validation_data=(tv_vail_features.toarray(),y_vali))"
   ]
  },
  {
   "cell_type": "markdown",
   "metadata": {},
   "source": [
    "<div class=\"alert alert-success alertsuccess\" style=\"margin-top: 10px\">\n",
    " 发现仍有上升空间，继续训练20轮"
   ]
  },
  {
   "cell_type": "code",
   "execution_count": 10,
   "metadata": {
    "scrolled": true
   },
   "outputs": [
    {
     "name": "stdout",
     "output_type": "stream",
     "text": [
      "Epoch 1/20\n",
      "207/207 [==============================] - 23s 109ms/step - loss: 0.7738 - accuracy: 0.8061 - val_loss: 1.2318 - val_accuracy: 0.6428\n",
      "Epoch 2/20\n",
      "207/207 [==============================] - 7s 32ms/step - loss: 0.7419 - accuracy: 0.8122 - val_loss: 1.1659 - val_accuracy: 0.6817\n",
      "Epoch 3/20\n",
      "207/207 [==============================] - 6s 31ms/step - loss: 0.7130 - accuracy: 0.8181 - val_loss: 1.1968 - val_accuracy: 0.6680\n",
      "Epoch 4/20\n",
      "207/207 [==============================] - 6s 31ms/step - loss: 0.6826 - accuracy: 0.8289 - val_loss: 1.1623 - val_accuracy: 0.6755\n",
      "Epoch 5/20\n",
      "207/207 [==============================] - 6s 31ms/step - loss: 0.6535 - accuracy: 0.8348 - val_loss: 1.2351 - val_accuracy: 0.6387\n",
      "Epoch 6/20\n",
      "207/207 [==============================] - 6s 31ms/step - loss: 0.6232 - accuracy: 0.8451 - val_loss: 1.2599 - val_accuracy: 0.6496\n",
      "Epoch 7/20\n",
      "207/207 [==============================] - 6s 31ms/step - loss: 0.5982 - accuracy: 0.8545 - val_loss: 1.2225 - val_accuracy: 0.6530\n",
      "Epoch 8/20\n",
      "207/207 [==============================] - 6s 31ms/step - loss: 0.5736 - accuracy: 0.8585 - val_loss: 1.1111 - val_accuracy: 0.6946\n",
      "Epoch 9/20\n",
      "207/207 [==============================] - 6s 31ms/step - loss: 0.5466 - accuracy: 0.8669 - val_loss: 1.1182 - val_accuracy: 0.6837\n",
      "Epoch 10/20\n",
      "207/207 [==============================] - 6s 31ms/step - loss: 0.5258 - accuracy: 0.8750 - val_loss: 1.1277 - val_accuracy: 0.6912\n",
      "Epoch 11/20\n",
      "207/207 [==============================] - 6s 31ms/step - loss: 0.5015 - accuracy: 0.8819 - val_loss: 1.1511 - val_accuracy: 0.6810\n",
      "Epoch 12/20\n",
      "207/207 [==============================] - 6s 31ms/step - loss: 0.4813 - accuracy: 0.8871 - val_loss: 1.0987 - val_accuracy: 0.7007\n",
      "Epoch 13/20\n",
      "207/207 [==============================] - 7s 32ms/step - loss: 0.4583 - accuracy: 0.8957 - val_loss: 1.1802 - val_accuracy: 0.6673\n",
      "Epoch 14/20\n",
      "207/207 [==============================] - 7s 33ms/step - loss: 0.4390 - accuracy: 0.8995 - val_loss: 1.1536 - val_accuracy: 0.6871\n",
      "Epoch 15/20\n",
      "207/207 [==============================] - 7s 32ms/step - loss: 0.4185 - accuracy: 0.9085 - val_loss: 1.1904 - val_accuracy: 0.6694\n",
      "Epoch 16/20\n",
      "207/207 [==============================] - 7s 32ms/step - loss: 0.4013 - accuracy: 0.9148 - val_loss: 1.1201 - val_accuracy: 0.6905\n",
      "Epoch 17/20\n",
      "207/207 [==============================] - 7s 32ms/step - loss: 0.3810 - accuracy: 0.9179 - val_loss: 1.1374 - val_accuracy: 0.6912\n",
      "Epoch 18/20\n",
      "207/207 [==============================] - 6s 31ms/step - loss: 0.3647 - accuracy: 0.9218 - val_loss: 1.1379 - val_accuracy: 0.6953\n",
      "Epoch 19/20\n",
      "207/207 [==============================] - 6s 31ms/step - loss: 0.3466 - accuracy: 0.9293 - val_loss: 1.1589 - val_accuracy: 0.6864\n",
      "Epoch 20/20\n",
      "207/207 [==============================] - 6s 31ms/step - loss: 0.3311 - accuracy: 0.9324 - val_loss: 1.1804 - val_accuracy: 0.6837\n"
     ]
    }
   ],
   "source": [
    "history=model.fit(tv_train_features.toarray(),y_train,batch_size=64,epochs=20,validation_data=(tv_vail_features.toarray(),y_vali))"
   ]
  },
  {
   "cell_type": "code",
   "execution_count": 22,
   "metadata": {},
   "outputs": [
    {
     "data": {
      "image/png": "[encoded data removed]",
      "text/plain": [
       "<Figure size 1296x576 with 1 Axes>"
      ]
     },
     "metadata": {
      "needs_background": "light"
     },
     "output_type": "display_data"
    }
   ],
   "source": [
    "pd.DataFrame(history.history).plot(figsize=(18,8))\n",
    "plt.grid(True)\n",
    "\n",
    "plt.gca().set_ylim(0,2)\n",
    "\n",
    "xy = MultipleLocator(2)    # y轴每2一个刻度\n",
    "ax = plt.gca()\n",
    "ax.xaxis.set_major_locator(y)\n",
    "plt.xlabel(\"epochs\")\n",
    "plt.show()"
   ]
  },
  {
   "cell_type": "markdown",
   "metadata": {},
   "source": [
    "<div class=\"alert alert-success alertsuccess\" style=\"margin-top: 10px\">\n",
    " 存在过拟合的现象，停止训练"
   ]
  },
  {
   "cell_type": "code",
   "execution_count": 13,
   "metadata": {},
   "outputs": [
    {
     "name": "stdout",
     "output_type": "stream",
     "text": [
      "115/115 [==============================] - 1s 9ms/step - loss: 1.1686 - accuracy: 0.6732\n"
     ]
    },
    {
     "data": {
      "text/plain": [
       "[1.1685729026794434, 0.6732133030891418]"
      ]
     },
     "execution_count": 13,
     "metadata": {},
     "output_type": "execute_result"
    }
   ],
   "source": [
    "model.evaluate(tv_test_features.toarray(),y_test)"
   ]
  },
  {
   "cell_type": "markdown",
   "metadata": {},
   "source": [
    "<div class=\"alert alert-success alertsuccess\" style=\"margin-top: 10px\">\n",
    " 在调整了网络结构（增加两层隐层和节点个数）和训练轮次后，测试集准确率为0.67左右，比原先提高了6个百分点。说明层数和训练轮次的增加可以在一定程度上提高模型的性能。"
   ]
  },
  {
   "cell_type": "markdown",
   "metadata": {},
   "source": [
    "### 2.基于词嵌入为输入的多层感知机分类"
   ]
  },
  {
   "cell_type": "markdown",
   "metadata": {},
   "source": [
    "#### a.得到训练集和测试集中每个词的 100 维词嵌入向量"
   ]
  },
  {
   "cell_type": "code",
   "execution_count": 25,
   "metadata": {},
   "outputs": [],
   "source": [
    "from gensim.scripts.glove2word2vec import glove2word2vec\n",
    "from gensim.models import KeyedVectors"
   ]
  },
  {
   "cell_type": "code",
   "execution_count": 28,
   "metadata": {},
   "outputs": [
    {
     "name": "stderr",
     "output_type": "stream",
     "text": [
      "<ipython-input-28-3001969eed75>:3: DeprecationWarning: Call to deprecated `glove2word2vec` (KeyedVectors.load_word2vec_format(.., binary=False, no_header=True) loads GLoVE text vectors.).\n",
      "  (count, dimensions) = glove2word2vec(glove_input_file, word2vec_output_file)\n"
     ]
    }
   ],
   "source": [
    "glove_input_file = 'glove.6B/glove.6B.100d.txt'\n",
    "word2vec_output_file = 'glove.6B/glove.6B.100d.word2vec.txt'\n",
    "(count, dimensions) = glove2word2vec(glove_input_file, word2vec_output_file)\n",
    " #加载模型\n",
    "glove_model = KeyedVectors.load_word2vec_format(word2vec_output_file, binary=False)"
   ]
  },
  {
   "cell_type": "markdown",
   "metadata": {},
   "source": [
    "#### b.基于词向量得到的文档表示（直接对包含的词的向量平均）作为输入，创建具有单层隐藏层（256 个节点）的多层感知机，设置激活函数为 ReLu，初始学习率为 0.001，轮数 epoch 为 50,用训练集对模型进行训练，画出学习曲线（训练、验证损失以及准确率）， 得到测试集准确率"
   ]
  },
  {
   "cell_type": "code",
   "execution_count": 30,
   "metadata": {},
   "outputs": [],
   "source": [
    "#获取平均文档向量\n",
    "def average_word_vectors(words,model,vocabulary,num_features):\n",
    "    feature_vector=np.zeros((num_features,),dtype='float64')\n",
    "    nwords=0\n",
    "    for word in words:\n",
    "        if word in vocabulary:\n",
    "            nwords=nwords+1\n",
    "            feature_vector=np.add(feature_vector,model[word])\n",
    "    if nwords:\n",
    "        feature_vector=np.divide(feature_vector,nwords)\n",
    "    return feature_vector\n",
    "\n",
    "def averaged_word_vectorizer(corpus,model,num_features):\n",
    "    #get the all vocabulary\n",
    "    vocabulary=set(model.index_to_key)\n",
    "    features=[average_word_vectors(tokenized_sentence,model,vocabulary,num_features) for tokenized_sentence in corpus]\n",
    "    return np.array(features)"
   ]
  },
  {
   "cell_type": "code",
   "execution_count": 31,
   "metadata": {},
   "outputs": [],
   "source": [
    "train_features=averaged_word_vectorizer(x_train,model=glove_model,num_features=100)\n",
    "test_features=averaged_word_vectorizer(x_test,model=glove_model,num_features=100)\n",
    "vali_features=averaged_word_vectorizer(x_vali,model=glove_model,num_features=100)"
   ]
  },
  {
   "cell_type": "code",
   "execution_count": 37,
   "metadata": {},
   "outputs": [
    {
     "name": "stdout",
     "output_type": "stream",
     "text": [
      "Model: \"sequential_2\"\n",
      "_________________________________________________________________\n",
      "Layer (type)                 Output Shape              Param #   \n",
      "=================================================================\n",
      "dense_6 (Dense)              (None, 256)               25856     \n",
      "_________________________________________________________________\n",
      "dense_7 (Dense)              (None, 20)                5140      \n",
      "=================================================================\n",
      "Total params: 30,996\n",
      "Trainable params: 30,996\n",
      "Non-trainable params: 0\n",
      "_________________________________________________________________\n"
     ]
    }
   ],
   "source": [
    "batch_size =64\n",
    "epochs =50\n",
    "learn_rate=0.001\n",
    "input_shape=(103025,)\n",
    "\n",
    "model=keras.models.Sequential()\n",
    "model.add(keras.layers.Dense(256,activation='relu',input_dim=100))\n",
    "model.add(keras.layers.Dense(20,activation='softmax'))\n",
    "model.summary()\n"
   ]
  },
  {
   "cell_type": "code",
   "execution_count": 38,
   "metadata": {},
   "outputs": [
    {
     "name": "stdout",
     "output_type": "stream",
     "text": [
      "Epoch 1/50\n",
      "413/413 [==============================] - 1s 2ms/step - loss: 2.9939 - accuracy: 0.0586 - val_loss: 2.9877 - val_accuracy: 0.0566\n",
      "Epoch 2/50\n",
      "413/413 [==============================] - 1s 1ms/step - loss: 2.9840 - accuracy: 0.0661 - val_loss: 2.9779 - val_accuracy: 0.0763\n",
      "Epoch 3/50\n",
      "413/413 [==============================] - 1s 1ms/step - loss: 2.9795 - accuracy: 0.0725 - val_loss: 2.9771 - val_accuracy: 0.0763\n",
      "Epoch 4/50\n",
      "413/413 [==============================] - 1s 1ms/step - loss: 2.9754 - accuracy: 0.0784 - val_loss: 2.9729 - val_accuracy: 0.0845\n",
      "Epoch 5/50\n",
      "413/413 [==============================] - 1s 1ms/step - loss: 2.9717 - accuracy: 0.0903 - val_loss: 2.9683 - val_accuracy: 0.0879\n",
      "Epoch 6/50\n",
      "413/413 [==============================] - 1s 1ms/step - loss: 2.9669 - accuracy: 0.0852 - val_loss: 2.9636 - val_accuracy: 0.0941\n",
      "Epoch 7/50\n",
      "413/413 [==============================] - 1s 1ms/step - loss: 2.9630 - accuracy: 0.0940 - val_loss: 2.9581 - val_accuracy: 0.0873\n",
      "Epoch 8/50\n",
      "413/413 [==============================] - 1s 1ms/step - loss: 2.9583 - accuracy: 0.0924 - val_loss: 2.9571 - val_accuracy: 0.0838\n",
      "Epoch 9/50\n",
      "413/413 [==============================] - 1s 1ms/step - loss: 2.9546 - accuracy: 0.1015 - val_loss: 2.9509 - val_accuracy: 0.1111\n",
      "Epoch 10/50\n",
      "413/413 [==============================] - 1s 1ms/step - loss: 2.9500 - accuracy: 0.0984 - val_loss: 2.9470 - val_accuracy: 0.1111\n",
      "Epoch 11/50\n",
      "413/413 [==============================] - 1s 1ms/step - loss: 2.9458 - accuracy: 0.1072 - val_loss: 2.9432 - val_accuracy: 0.1138\n",
      "Epoch 12/50\n",
      "413/413 [==============================] - 1s 1ms/step - loss: 2.9415 - accuracy: 0.1043 - val_loss: 2.9396 - val_accuracy: 0.1057\n",
      "Epoch 13/50\n",
      "413/413 [==============================] - 1s 2ms/step - loss: 2.9369 - accuracy: 0.1068 - val_loss: 2.9378 - val_accuracy: 0.0900\n",
      "Epoch 14/50\n",
      "413/413 [==============================] - 1s 1ms/step - loss: 2.9334 - accuracy: 0.1064 - val_loss: 2.9308 - val_accuracy: 0.1145\n",
      "Epoch 15/50\n",
      "413/413 [==============================] - 1s 1ms/step - loss: 2.9293 - accuracy: 0.1125 - val_loss: 2.9305 - val_accuracy: 0.0893\n",
      "Epoch 16/50\n",
      "413/413 [==============================] - 1s 1ms/step - loss: 2.9252 - accuracy: 0.1154 - val_loss: 2.9291 - val_accuracy: 0.1200\n",
      "Epoch 17/50\n",
      "413/413 [==============================] - 1s 1ms/step - loss: 2.9211 - accuracy: 0.1246 - val_loss: 2.9222 - val_accuracy: 0.1220\n",
      "Epoch 18/50\n",
      "413/413 [==============================] - 1s 1ms/step - loss: 2.9177 - accuracy: 0.1214 - val_loss: 2.9191 - val_accuracy: 0.1247\n",
      "Epoch 19/50\n",
      "413/413 [==============================] - 1s 1ms/step - loss: 2.9139 - accuracy: 0.1189 - val_loss: 2.9137 - val_accuracy: 0.1241\n",
      "Epoch 20/50\n",
      "413/413 [==============================] - 1s 1ms/step - loss: 2.9102 - accuracy: 0.1239 - val_loss: 2.9086 - val_accuracy: 0.1186\n",
      "Epoch 21/50\n",
      "413/413 [==============================] - 1s 1ms/step - loss: 2.9071 - accuracy: 0.1256 - val_loss: 2.9067 - val_accuracy: 0.1370\n",
      "Epoch 22/50\n",
      "413/413 [==============================] - 1s 1ms/step - loss: 2.9032 - accuracy: 0.1327 - val_loss: 2.9050 - val_accuracy: 0.1309\n",
      "Epoch 23/50\n",
      "413/413 [==============================] - 1s 1ms/step - loss: 2.8997 - accuracy: 0.1282 - val_loss: 2.9019 - val_accuracy: 0.1275\n",
      "Epoch 24/50\n",
      "413/413 [==============================] - 1s 1ms/step - loss: 2.8967 - accuracy: 0.1281 - val_loss: 2.8978 - val_accuracy: 0.1302\n",
      "Epoch 25/50\n",
      "413/413 [==============================] - 1s 1ms/step - loss: 2.8929 - accuracy: 0.1289 - val_loss: 2.8948 - val_accuracy: 0.1322\n",
      "Epoch 26/50\n",
      "413/413 [==============================] - 1s 1ms/step - loss: 2.8896 - accuracy: 0.1332 - val_loss: 2.8921 - val_accuracy: 0.1322\n",
      "Epoch 27/50\n",
      "413/413 [==============================] - 1s 1ms/step - loss: 2.8867 - accuracy: 0.1363 - val_loss: 2.8881 - val_accuracy: 0.1288\n",
      "Epoch 28/50\n",
      "413/413 [==============================] - 1s 1ms/step - loss: 2.8831 - accuracy: 0.1322 - val_loss: 2.8856 - val_accuracy: 0.1268\n",
      "Epoch 29/50\n",
      "413/413 [==============================] - 1s 1ms/step - loss: 2.8801 - accuracy: 0.1350 - val_loss: 2.8835 - val_accuracy: 0.1295\n",
      "Epoch 30/50\n",
      "413/413 [==============================] - 1s 1ms/step - loss: 2.8769 - accuracy: 0.1390 - val_loss: 2.8800 - val_accuracy: 0.1234\n",
      "Epoch 31/50\n",
      "413/413 [==============================] - 1s 1ms/step - loss: 2.8738 - accuracy: 0.1400 - val_loss: 2.8763 - val_accuracy: 0.1343\n",
      "Epoch 32/50\n",
      "413/413 [==============================] - 1s 1ms/step - loss: 2.8704 - accuracy: 0.1407 - val_loss: 2.8756 - val_accuracy: 0.1431\n",
      "Epoch 33/50\n",
      "413/413 [==============================] - 1s 1ms/step - loss: 2.8671 - accuracy: 0.1472 - val_loss: 2.8762 - val_accuracy: 0.1125\n",
      "Epoch 34/50\n",
      "413/413 [==============================] - 1s 1ms/step - loss: 2.8644 - accuracy: 0.1418 - val_loss: 2.8667 - val_accuracy: 0.1431\n",
      "Epoch 35/50\n",
      "413/413 [==============================] - 1s 1ms/step - loss: 2.8612 - accuracy: 0.1457 - val_loss: 2.8665 - val_accuracy: 0.1309\n",
      "Epoch 36/50\n",
      "413/413 [==============================] - 1s 1ms/step - loss: 2.8580 - accuracy: 0.1460 - val_loss: 2.8625 - val_accuracy: 0.1520\n",
      "Epoch 37/50\n",
      "413/413 [==============================] - 1s 1ms/step - loss: 2.8545 - accuracy: 0.1440 - val_loss: 2.8588 - val_accuracy: 0.1425\n",
      "Epoch 38/50\n",
      "413/413 [==============================] - 1s 1ms/step - loss: 2.8521 - accuracy: 0.1477 - val_loss: 2.8610 - val_accuracy: 0.1343\n",
      "Epoch 39/50\n",
      "413/413 [==============================] - 1s 1ms/step - loss: 2.8493 - accuracy: 0.1487 - val_loss: 2.8514 - val_accuracy: 0.1316\n",
      "Epoch 40/50\n",
      "413/413 [==============================] - 1s 1ms/step - loss: 2.8462 - accuracy: 0.1481 - val_loss: 2.8509 - val_accuracy: 0.1506\n",
      "Epoch 41/50\n",
      "413/413 [==============================] - 1s 1ms/step - loss: 2.8428 - accuracy: 0.1511 - val_loss: 2.8520 - val_accuracy: 0.1459\n",
      "Epoch 42/50\n",
      "413/413 [==============================] - 1s 1ms/step - loss: 2.8398 - accuracy: 0.1515 - val_loss: 2.8469 - val_accuracy: 0.1466\n",
      "Epoch 43/50\n",
      "413/413 [==============================] - 1s 1ms/step - loss: 2.8372 - accuracy: 0.1517 - val_loss: 2.8447 - val_accuracy: 0.1445\n",
      "Epoch 44/50\n",
      "413/413 [==============================] - 1s 1ms/step - loss: 2.8338 - accuracy: 0.1509 - val_loss: 2.8434 - val_accuracy: 0.1493\n",
      "Epoch 45/50\n",
      "413/413 [==============================] - 1s 1ms/step - loss: 2.8313 - accuracy: 0.1528 - val_loss: 2.8372 - val_accuracy: 0.1520\n",
      "Epoch 46/50\n",
      "413/413 [==============================] - 1s 1ms/step - loss: 2.8279 - accuracy: 0.1559 - val_loss: 2.8335 - val_accuracy: 0.1445\n",
      "Epoch 47/50\n",
      "413/413 [==============================] - 1s 1ms/step - loss: 2.8253 - accuracy: 0.1564 - val_loss: 2.8335 - val_accuracy: 0.1452\n",
      "Epoch 48/50\n",
      "413/413 [==============================] - 1s 1ms/step - loss: 2.8226 - accuracy: 0.1552 - val_loss: 2.8293 - val_accuracy: 0.1520\n",
      "Epoch 49/50\n",
      "413/413 [==============================] - 1s 1ms/step - loss: 2.8193 - accuracy: 0.1553 - val_loss: 2.8272 - val_accuracy: 0.1520\n",
      "Epoch 50/50\n",
      "413/413 [==============================] - 1s 1ms/step - loss: 2.8169 - accuracy: 0.1590 - val_loss: 2.8262 - val_accuracy: 0.1500\n"
     ]
    }
   ],
   "source": [
    "keras.optimizers.SGD(lr=learn_rate)\n",
    "model.compile(loss=\"sparse_categorical_crossentropy\",optimizer=\"sgd\",metrics=['accuracy'])\n",
    "history=model.fit(train_features,y_train,epochs=epochs,validation_data=(vali_features,y_vali))"
   ]
  },
  {
   "cell_type": "code",
   "execution_count": 39,
   "metadata": {},
   "outputs": [
    {
     "data": {
      "image/png": "[encoded data removed]",
      "text/plain": [
       "<Figure size 1080x576 with 1 Axes>"
      ]
     },
     "metadata": {
      "needs_background": "light"
     },
     "output_type": "display_data"
    }
   ],
   "source": [
    "pd.DataFrame(history.history).plot(figsize=(15,8))\n",
    "plt.grid(True)\n",
    "plt.gca().set_ylim(0,3)\n",
    "plt.xlabel(\"epochs\")\n",
    "plt.show()"
   ]
  },
  {
   "cell_type": "code",
   "execution_count": 41,
   "metadata": {},
   "outputs": [
    {
     "name": "stdout",
     "output_type": "stream",
     "text": [
      "115/115 [==============================] - 0s 1ms/step - loss: 2.8121 - accuracy: 0.1514\n"
     ]
    },
    {
     "data": {
      "text/plain": [
       "[2.812105178833008, 0.1513911634683609]"
      ]
     },
     "execution_count": 41,
     "metadata": {},
     "output_type": "execute_result"
    }
   ],
   "source": [
    "model.evaluate(test_features,y_test)\n"
   ]
  },
  {
   "cell_type": "markdown",
   "metadata": {},
   "source": [
    "<div class=\"alert alert-success alertsuccess\" style=\"margin-top: 10px\">\n",
    "结果分析和讨论：\n",
    "准确率极低，存在欠拟合的现象，需要调整特征或者模型"
   ]
  },
  {
   "cell_type": "markdown",
   "metadata": {},
   "source": [
    "#### c.改变实验设置： 以 TFIDF 为权重，对每个文档所含词向量进行加权平均得到文档向量，更改模型，增加训练次数，提高训练集准确率。\n"
   ]
  },
  {
   "cell_type": "code",
   "execution_count": 44,
   "metadata": {},
   "outputs": [],
   "source": [
    "#计算权重平均文档向量函数\n",
    "from nltk import word_tokenize\n",
    "def tfidf_wtd_avg_word_vectors(words,tfidf_vector,tfidf_vocabulary,model,num_features):\n",
    "    word_tfidfs=[tfidf_vector[0,tfidf_vocabulary.get(word)] if tfidf_vocabulary.get(word) else 0 for word in words]\n",
    "    word_tfidf_map={word:tfidf_val for word,tfidf_val in zip(words,word_tfidfs)}\n",
    "    feature_vector=np.zeros((num_features,),dtype='float64')\n",
    "    vocabulary=set(model.index_to_key)\n",
    "    wts=0\n",
    "    for word in words:\n",
    "        if word in vocabulary:\n",
    "            word_vector=model[word]\n",
    "            weighted_word_vector=word_tfidf_map[word]*word_vector\n",
    "            wts=wts+word_tfidf_map[word]\n",
    "            feature_vector=np.add(feature_vector,weighted_word_vector)\n",
    "    if wts:\n",
    "        feature_vector=np.divide(feature_vector,wts)\n",
    "    return feature_vector\n",
    "\n",
    "def tfidf_weighted_averaged_word_vectorizer(corpus,tfidf_vectors,tfidf_vocabulary,model,num_features):\n",
    "    docs_tfidfs=[(doc,doc_tfidf) for doc,doc_tfidf in zip(corpus,tfidf_vectors)]\n",
    "    features=[tfidf_wtd_avg_word_vectors(tokenized_sentence,tfidf,tfidf_vocabulary,model,num_features) for tokenized_sentence,tfidf in docs_tfidfs]\n",
    "    return np.array(features)"
   ]
  },
  {
   "cell_type": "code",
   "execution_count": 42,
   "metadata": {},
   "outputs": [],
   "source": [
    "tv = TfidfVectorizer(norm='l2', use_idf=True, smooth_idf=True) \n",
    "\n",
    "\n",
    "tv_train_features = tv.fit_transform(x_train) \n",
    "tv_test_features=tv.transform(x_test)\n",
    "tv_vail_features=tv.transform(x_vali)"
   ]
  },
  {
   "cell_type": "code",
   "execution_count": 45,
   "metadata": {},
   "outputs": [],
   "source": [
    "vocabulary=tv.vocabulary_\n",
    "\n",
    "train_words=[word_tokenize(i) for i in x_train ]\n",
    "test_words=[word_tokenize(i) for i in x_test ]\n",
    "vail_words=[word_tokenize(i) for i in x_vali ]"
   ]
  },
  {
   "cell_type": "code",
   "execution_count": 46,
   "metadata": {},
   "outputs": [],
   "source": [
    "train_features=tfidf_weighted_averaged_word_vectorizer(train_words,tv_train_features,vocabulary,glove_model,100)\n",
    "test_features=tfidf_weighted_averaged_word_vectorizer(test_words,tv_test_features,vocabulary,glove_model,100)\n",
    "vali_features=tfidf_weighted_averaged_word_vectorizer(vail_words,tv_vail_features,vocabulary,glove_model,100)"
   ]
  },
  {
   "cell_type": "code",
   "execution_count": 47,
   "metadata": {},
   "outputs": [
    {
     "name": "stdout",
     "output_type": "stream",
     "text": [
      "Model: \"sequential_3\"\n",
      "_________________________________________________________________\n",
      "Layer (type)                 Output Shape              Param #   \n",
      "=================================================================\n",
      "dense_8 (Dense)              (None, 512)               51712     \n",
      "_________________________________________________________________\n",
      "dense_9 (Dense)              (None, 256)               131328    \n",
      "_________________________________________________________________\n",
      "dense_10 (Dense)             (None, 80)                20560     \n",
      "_________________________________________________________________\n",
      "dense_11 (Dense)             (None, 20)                1620      \n",
      "=================================================================\n",
      "Total params: 205,220\n",
      "Trainable params: 205,220\n",
      "Non-trainable params: 0\n",
      "_________________________________________________________________\n"
     ]
    }
   ],
   "source": [
    "input_shape=(103025,)\n",
    "model=keras.models.Sequential()\n",
    "model.add(keras.layers.Dense(512,activation='relu',input_dim=100))\n",
    "model.add(keras.layers.Dense(256,activation='relu'))\n",
    "model.add(keras.layers.Dense(80,activation='relu'))\n",
    "model.add(keras.layers.Dense(20,activation='softmax'))\n",
    "model.summary()\n"
   ]
  },
  {
   "cell_type": "code",
   "execution_count": 48,
   "metadata": {},
   "outputs": [
    {
     "name": "stdout",
     "output_type": "stream",
     "text": [
      "Epoch 1/50\n",
      "207/207 [==============================] - 0s 2ms/step - loss: 2.9818 - accuracy: 0.0876 - val_loss: 2.9618 - val_accuracy: 0.1172\n",
      "Epoch 2/50\n",
      "207/207 [==============================] - 0s 1ms/step - loss: 2.9421 - accuracy: 0.1537 - val_loss: 2.9173 - val_accuracy: 0.1725\n",
      "Epoch 3/50\n",
      "207/207 [==============================] - 0s 2ms/step - loss: 2.8905 - accuracy: 0.2025 - val_loss: 2.8528 - val_accuracy: 0.2140\n",
      "Epoch 4/50\n",
      "207/207 [==============================] - 0s 1ms/step - loss: 2.8096 - accuracy: 0.2399 - val_loss: 2.7467 - val_accuracy: 0.2618\n",
      "Epoch 5/50\n",
      "207/207 [==============================] - 0s 1ms/step - loss: 2.6822 - accuracy: 0.2773 - val_loss: 2.5908 - val_accuracy: 0.2911\n",
      "Epoch 6/50\n",
      "207/207 [==============================] - 0s 2ms/step - loss: 2.5159 - accuracy: 0.3164 - val_loss: 2.4126 - val_accuracy: 0.3217\n",
      "Epoch 7/50\n",
      "207/207 [==============================] - 0s 1ms/step - loss: 2.3409 - accuracy: 0.3564 - val_loss: 2.2487 - val_accuracy: 0.3695\n",
      "Epoch 8/50\n",
      "207/207 [==============================] - 0s 1ms/step - loss: 2.1906 - accuracy: 0.3827 - val_loss: 2.1138 - val_accuracy: 0.3770\n",
      "Epoch 9/50\n",
      "207/207 [==============================] - 0s 1ms/step - loss: 2.0768 - accuracy: 0.3992 - val_loss: 2.0249 - val_accuracy: 0.3960\n",
      "Epoch 10/50\n",
      "207/207 [==============================] - 0s 2ms/step - loss: 1.9925 - accuracy: 0.4096 - val_loss: 1.9550 - val_accuracy: 0.4090\n",
      "Epoch 11/50\n",
      "207/207 [==============================] - 0s 1ms/step - loss: 1.9303 - accuracy: 0.4235 - val_loss: 1.9112 - val_accuracy: 0.4104\n",
      "Epoch 12/50\n",
      "207/207 [==============================] - 0s 1ms/step - loss: 1.8800 - accuracy: 0.4352 - val_loss: 1.8594 - val_accuracy: 0.4301\n",
      "Epoch 13/50\n",
      "207/207 [==============================] - 0s 1ms/step - loss: 1.8409 - accuracy: 0.4437 - val_loss: 1.8330 - val_accuracy: 0.4492\n",
      "Epoch 14/50\n",
      "207/207 [==============================] - 0s 2ms/step - loss: 1.8062 - accuracy: 0.4540 - val_loss: 1.8120 - val_accuracy: 0.4608\n",
      "Epoch 15/50\n",
      "207/207 [==============================] - 0s 2ms/step - loss: 1.7803 - accuracy: 0.4627 - val_loss: 1.7697 - val_accuracy: 0.4676\n",
      "Epoch 16/50\n",
      "207/207 [==============================] - 0s 1ms/step - loss: 1.7542 - accuracy: 0.4687 - val_loss: 1.7659 - val_accuracy: 0.4574\n",
      "Epoch 17/50\n",
      "207/207 [==============================] - 0s 2ms/step - loss: 1.7330 - accuracy: 0.4746 - val_loss: 1.7386 - val_accuracy: 0.4792\n",
      "Epoch 18/50\n",
      "207/207 [==============================] - 0s 1ms/step - loss: 1.7141 - accuracy: 0.4860 - val_loss: 1.7497 - val_accuracy: 0.4717\n",
      "Epoch 19/50\n",
      "207/207 [==============================] - 0s 1ms/step - loss: 1.6957 - accuracy: 0.4892 - val_loss: 1.7162 - val_accuracy: 0.4813\n",
      "Epoch 20/50\n",
      "207/207 [==============================] - 0s 1ms/step - loss: 1.6803 - accuracy: 0.4906 - val_loss: 1.7117 - val_accuracy: 0.4901\n",
      "Epoch 21/50\n",
      "207/207 [==============================] - 0s 1ms/step - loss: 1.6657 - accuracy: 0.4981 - val_loss: 1.6900 - val_accuracy: 0.4894\n",
      "Epoch 22/50\n",
      "207/207 [==============================] - 0s 1ms/step - loss: 1.6520 - accuracy: 0.5031 - val_loss: 1.6956 - val_accuracy: 0.4819\n",
      "Epoch 23/50\n",
      "207/207 [==============================] - 0s 1ms/step - loss: 1.6398 - accuracy: 0.5059 - val_loss: 1.6578 - val_accuracy: 0.5119\n",
      "Epoch 24/50\n",
      "207/207 [==============================] - 0s 2ms/step - loss: 1.6261 - accuracy: 0.5084 - val_loss: 1.6873 - val_accuracy: 0.4915\n",
      "Epoch 25/50\n",
      "207/207 [==============================] - 0s 1ms/step - loss: 1.6174 - accuracy: 0.5124 - val_loss: 1.6436 - val_accuracy: 0.5085\n",
      "Epoch 26/50\n",
      "207/207 [==============================] - 0s 1ms/step - loss: 1.6056 - accuracy: 0.5183 - val_loss: 1.6386 - val_accuracy: 0.5126\n",
      "Epoch 27/50\n",
      "207/207 [==============================] - 0s 1ms/step - loss: 1.5967 - accuracy: 0.5182 - val_loss: 1.6631 - val_accuracy: 0.4997\n",
      "Epoch 28/50\n",
      "207/207 [==============================] - 0s 1ms/step - loss: 1.5880 - accuracy: 0.5251 - val_loss: 1.6532 - val_accuracy: 0.5140\n",
      "Epoch 29/50\n",
      "207/207 [==============================] - 0s 1ms/step - loss: 1.5777 - accuracy: 0.5261 - val_loss: 1.6215 - val_accuracy: 0.5133\n",
      "Epoch 30/50\n",
      "207/207 [==============================] - 0s 2ms/step - loss: 1.5689 - accuracy: 0.5294 - val_loss: 1.6377 - val_accuracy: 0.5065\n",
      "Epoch 31/50\n",
      "207/207 [==============================] - 0s 1ms/step - loss: 1.5620 - accuracy: 0.5272 - val_loss: 1.6072 - val_accuracy: 0.5331\n",
      "Epoch 32/50\n",
      "207/207 [==============================] - 0s 1ms/step - loss: 1.5537 - accuracy: 0.5295 - val_loss: 1.6051 - val_accuracy: 0.5201\n",
      "Epoch 33/50\n",
      "207/207 [==============================] - 0s 1ms/step - loss: 1.5467 - accuracy: 0.5345 - val_loss: 1.5934 - val_accuracy: 0.5303\n",
      "Epoch 34/50\n",
      "207/207 [==============================] - 0s 1ms/step - loss: 1.5392 - accuracy: 0.5348 - val_loss: 1.6011 - val_accuracy: 0.5297\n",
      "Epoch 35/50\n",
      "207/207 [==============================] - 0s 1ms/step - loss: 1.5321 - accuracy: 0.5400 - val_loss: 1.5965 - val_accuracy: 0.5392\n",
      "Epoch 36/50\n",
      "207/207 [==============================] - 0s 1ms/step - loss: 1.5254 - accuracy: 0.5407 - val_loss: 1.5859 - val_accuracy: 0.5262\n",
      "Epoch 37/50\n",
      "207/207 [==============================] - 0s 2ms/step - loss: 1.5183 - accuracy: 0.5401 - val_loss: 1.6151 - val_accuracy: 0.5140\n",
      "Epoch 38/50\n",
      "207/207 [==============================] - 0s 1ms/step - loss: 1.5143 - accuracy: 0.5414 - val_loss: 1.5917 - val_accuracy: 0.5337\n",
      "Epoch 39/50\n",
      "207/207 [==============================] - 0s 2ms/step - loss: 1.5073 - accuracy: 0.5461 - val_loss: 1.6198 - val_accuracy: 0.5262\n",
      "Epoch 40/50\n",
      "207/207 [==============================] - 0s 2ms/step - loss: 1.5010 - accuracy: 0.5464 - val_loss: 1.5824 - val_accuracy: 0.5283\n",
      "Epoch 41/50\n",
      "207/207 [==============================] - 0s 2ms/step - loss: 1.4956 - accuracy: 0.5480 - val_loss: 1.5692 - val_accuracy: 0.5406\n",
      "Epoch 42/50\n",
      "207/207 [==============================] - 0s 1ms/step - loss: 1.4896 - accuracy: 0.5484 - val_loss: 1.5861 - val_accuracy: 0.5324\n",
      "Epoch 43/50\n",
      "207/207 [==============================] - 0s 2ms/step - loss: 1.4827 - accuracy: 0.5526 - val_loss: 1.5799 - val_accuracy: 0.5385\n",
      "Epoch 44/50\n",
      "207/207 [==============================] - 0s 1ms/step - loss: 1.4782 - accuracy: 0.5522 - val_loss: 1.5665 - val_accuracy: 0.5453\n",
      "Epoch 45/50\n",
      "207/207 [==============================] - 0s 1ms/step - loss: 1.4728 - accuracy: 0.5554 - val_loss: 1.5832 - val_accuracy: 0.5297\n",
      "Epoch 46/50\n",
      "207/207 [==============================] - 0s 2ms/step - loss: 1.4690 - accuracy: 0.5557 - val_loss: 1.5641 - val_accuracy: 0.5337\n",
      "Epoch 47/50\n",
      "207/207 [==============================] - 0s 2ms/step - loss: 1.4637 - accuracy: 0.5579 - val_loss: 1.5549 - val_accuracy: 0.5501\n",
      "Epoch 48/50\n",
      "207/207 [==============================] - 0s 2ms/step - loss: 1.4579 - accuracy: 0.5603 - val_loss: 1.5549 - val_accuracy: 0.5494\n",
      "Epoch 49/50\n",
      "207/207 [==============================] - 0s 2ms/step - loss: 1.4528 - accuracy: 0.5589 - val_loss: 1.5669 - val_accuracy: 0.5310\n",
      "Epoch 50/50\n",
      "207/207 [==============================] - 0s 1ms/step - loss: 1.4498 - accuracy: 0.5600 - val_loss: 1.5643 - val_accuracy: 0.5426\n"
     ]
    }
   ],
   "source": [
    "keras.optimizers.SGD(lr=learn_rate)\n",
    "model.compile(loss=\"sparse_categorical_crossentropy\",optimizer=\"sgd\",metrics=['accuracy'])\n",
    "history=model.fit(train_features,y_train,batch_size=batch_size,epochs=epochs,validation_data=(vali_features,y_vali))"
   ]
  },
  {
   "cell_type": "code",
   "execution_count": 49,
   "metadata": {
    "scrolled": true
   },
   "outputs": [
    {
     "name": "stdout",
     "output_type": "stream",
     "text": [
      "Epoch 1/30\n",
      "185/207 [=========================>....] - ETA: 0s - loss: 1.4472 - accuracy: 0.5620WARNING:tensorflow:Callbacks method `on_test_batch_end` is slow compared to the batch time (batch time: 0.0000s vs `on_test_batch_end` time: 0.0010s). Check your callbacks.\n",
      "207/207 [==============================] - 2s 8ms/step - loss: 1.4447 - accuracy: 0.5626 - val_loss: 1.5435 - val_accuracy: 0.5576\n",
      "Epoch 2/30\n",
      "207/207 [==============================] - 0s 2ms/step - loss: 1.4391 - accuracy: 0.5601 - val_loss: 1.5447 - val_accuracy: 0.5617\n",
      "Epoch 3/30\n",
      "207/207 [==============================] - 0s 2ms/step - loss: 1.4351 - accuracy: 0.5648 - val_loss: 1.5707 - val_accuracy: 0.5412\n",
      "Epoch 4/30\n",
      "207/207 [==============================] - 0s 2ms/step - loss: 1.4308 - accuracy: 0.5632 - val_loss: 1.5511 - val_accuracy: 0.5508\n",
      "Epoch 5/30\n",
      "207/207 [==============================] - 0s 1ms/step - loss: 1.4270 - accuracy: 0.5665 - val_loss: 1.5772 - val_accuracy: 0.5256\n",
      "Epoch 6/30\n",
      "207/207 [==============================] - 0s 1ms/step - loss: 1.4231 - accuracy: 0.5657 - val_loss: 1.5610 - val_accuracy: 0.5528\n",
      "Epoch 7/30\n",
      "207/207 [==============================] - 0s 1ms/step - loss: 1.4173 - accuracy: 0.5677 - val_loss: 1.5404 - val_accuracy: 0.5474\n",
      "Epoch 8/30\n",
      "207/207 [==============================] - 0s 2ms/step - loss: 1.4134 - accuracy: 0.5717 - val_loss: 1.5500 - val_accuracy: 0.5412\n",
      "Epoch 9/30\n",
      "207/207 [==============================] - 0s 2ms/step - loss: 1.4095 - accuracy: 0.5716 - val_loss: 1.5439 - val_accuracy: 0.5494\n",
      "Epoch 10/30\n",
      "207/207 [==============================] - 0s 1ms/step - loss: 1.4046 - accuracy: 0.5734 - val_loss: 1.5402 - val_accuracy: 0.5494\n",
      "Epoch 11/30\n",
      "207/207 [==============================] - 0s 1ms/step - loss: 1.4016 - accuracy: 0.5723 - val_loss: 1.5303 - val_accuracy: 0.5535\n",
      "Epoch 12/30\n",
      "207/207 [==============================] - 0s 1ms/step - loss: 1.3966 - accuracy: 0.5750 - val_loss: 1.5299 - val_accuracy: 0.5535\n",
      "Epoch 13/30\n",
      "207/207 [==============================] - 0s 2ms/step - loss: 1.3931 - accuracy: 0.5747 - val_loss: 1.5377 - val_accuracy: 0.5453\n",
      "Epoch 14/30\n",
      "207/207 [==============================] - 0s 1ms/step - loss: 1.3880 - accuracy: 0.5741 - val_loss: 1.5361 - val_accuracy: 0.5535\n",
      "Epoch 15/30\n",
      "207/207 [==============================] - 0s 1ms/step - loss: 1.3856 - accuracy: 0.5779 - val_loss: 1.5507 - val_accuracy: 0.5562\n",
      "Epoch 16/30\n",
      "207/207 [==============================] - 0s 2ms/step - loss: 1.3812 - accuracy: 0.5805 - val_loss: 1.5513 - val_accuracy: 0.5440\n",
      "Epoch 17/30\n",
      "207/207 [==============================] - 0s 2ms/step - loss: 1.3766 - accuracy: 0.5807 - val_loss: 1.5308 - val_accuracy: 0.5515\n",
      "Epoch 18/30\n",
      "207/207 [==============================] - 0s 1ms/step - loss: 1.3727 - accuracy: 0.5808 - val_loss: 1.5241 - val_accuracy: 0.5610\n",
      "Epoch 19/30\n",
      "207/207 [==============================] - 0s 2ms/step - loss: 1.3691 - accuracy: 0.5806 - val_loss: 1.5411 - val_accuracy: 0.5508\n",
      "Epoch 20/30\n",
      "207/207 [==============================] - 0s 2ms/step - loss: 1.3643 - accuracy: 0.5815 - val_loss: 1.5469 - val_accuracy: 0.5487\n",
      "Epoch 21/30\n",
      "207/207 [==============================] - 0s 2ms/step - loss: 1.3600 - accuracy: 0.5826 - val_loss: 1.5352 - val_accuracy: 0.5453\n",
      "Epoch 22/30\n",
      "207/207 [==============================] - 0s 1ms/step - loss: 1.3586 - accuracy: 0.5824 - val_loss: 1.5246 - val_accuracy: 0.5549\n",
      "Epoch 23/30\n",
      "207/207 [==============================] - 0s 2ms/step - loss: 1.3533 - accuracy: 0.5838 - val_loss: 1.5314 - val_accuracy: 0.5631\n",
      "Epoch 24/30\n",
      "207/207 [==============================] - 0s 2ms/step - loss: 1.3497 - accuracy: 0.5857 - val_loss: 1.5369 - val_accuracy: 0.5521\n",
      "Epoch 25/30\n",
      "207/207 [==============================] - 0s 1ms/step - loss: 1.3469 - accuracy: 0.5871 - val_loss: 1.5444 - val_accuracy: 0.5542\n",
      "Epoch 26/30\n",
      "207/207 [==============================] - 0s 1ms/step - loss: 1.3422 - accuracy: 0.5888 - val_loss: 1.5173 - val_accuracy: 0.5583\n",
      "Epoch 27/30\n",
      "207/207 [==============================] - 0s 1ms/step - loss: 1.3387 - accuracy: 0.5869 - val_loss: 1.6105 - val_accuracy: 0.5194\n",
      "Epoch 28/30\n",
      "207/207 [==============================] - 0s 1ms/step - loss: 1.3349 - accuracy: 0.5893 - val_loss: 1.5293 - val_accuracy: 0.5569\n",
      "Epoch 29/30\n",
      "207/207 [==============================] - 0s 2ms/step - loss: 1.3318 - accuracy: 0.5889 - val_loss: 1.5217 - val_accuracy: 0.5590\n",
      "Epoch 30/30\n",
      "207/207 [==============================] - 0s 1ms/step - loss: 1.3265 - accuracy: 0.5948 - val_loss: 1.5220 - val_accuracy: 0.5515\n"
     ]
    }
   ],
   "source": [
    "history2=model.fit(train_features,y_train,batch_size=batch_size,epochs=30,validation_data=(vali_features,y_vali))"
   ]
  },
  {
   "cell_type": "code",
   "execution_count": 50,
   "metadata": {
    "scrolled": true
   },
   "outputs": [
    {
     "name": "stdout",
     "output_type": "stream",
     "text": [
      "Epoch 1/30\n",
      "207/207 [==============================] - 0s 2ms/step - loss: 1.3227 - accuracy: 0.5948 - val_loss: 1.5151 - val_accuracy: 0.5508\n",
      "Epoch 2/30\n",
      "207/207 [==============================] - 0s 1ms/step - loss: 1.3185 - accuracy: 0.5948 - val_loss: 1.5130 - val_accuracy: 0.5658\n",
      "Epoch 3/30\n",
      "207/207 [==============================] - 0s 2ms/step - loss: 1.3139 - accuracy: 0.5942 - val_loss: 1.5246 - val_accuracy: 0.5576\n",
      "Epoch 4/30\n",
      "207/207 [==============================] - 0s 1ms/step - loss: 1.3126 - accuracy: 0.5952 - val_loss: 1.5251 - val_accuracy: 0.5576\n",
      "Epoch 5/30\n",
      "207/207 [==============================] - 0s 2ms/step - loss: 1.3075 - accuracy: 0.5983 - val_loss: 1.5339 - val_accuracy: 0.5637\n",
      "Epoch 6/30\n",
      "207/207 [==============================] - 0s 1ms/step - loss: 1.3052 - accuracy: 0.6014 - val_loss: 1.5100 - val_accuracy: 0.5726\n",
      "Epoch 7/30\n",
      "207/207 [==============================] - 0s 1ms/step - loss: 1.3003 - accuracy: 0.5990 - val_loss: 1.5189 - val_accuracy: 0.5583\n",
      "Epoch 8/30\n",
      "207/207 [==============================] - 0s 2ms/step - loss: 1.2966 - accuracy: 0.6023 - val_loss: 1.5323 - val_accuracy: 0.5521\n",
      "Epoch 9/30\n",
      "207/207 [==============================] - 0s 1ms/step - loss: 1.2929 - accuracy: 0.6011 - val_loss: 1.5165 - val_accuracy: 0.5481\n",
      "Epoch 10/30\n",
      "207/207 [==============================] - 0s 1ms/step - loss: 1.2912 - accuracy: 0.6007 - val_loss: 1.5300 - val_accuracy: 0.5481\n",
      "Epoch 11/30\n",
      "207/207 [==============================] - 0s 1ms/step - loss: 1.2841 - accuracy: 0.6035 - val_loss: 1.5248 - val_accuracy: 0.5562\n",
      "Epoch 12/30\n",
      "207/207 [==============================] - 0s 1ms/step - loss: 1.2811 - accuracy: 0.6021 - val_loss: 1.5183 - val_accuracy: 0.5610\n",
      "Epoch 13/30\n",
      "207/207 [==============================] - 0s 2ms/step - loss: 1.2778 - accuracy: 0.6039 - val_loss: 1.5043 - val_accuracy: 0.5610\n",
      "Epoch 14/30\n",
      "207/207 [==============================] - 0s 1ms/step - loss: 1.2724 - accuracy: 0.6068 - val_loss: 1.5069 - val_accuracy: 0.5658\n",
      "Epoch 15/30\n",
      "207/207 [==============================] - 0s 1ms/step - loss: 1.2687 - accuracy: 0.6088 - val_loss: 1.5238 - val_accuracy: 0.5637\n",
      "Epoch 16/30\n",
      "207/207 [==============================] - 0s 1ms/step - loss: 1.2659 - accuracy: 0.6095 - val_loss: 1.5141 - val_accuracy: 0.5576\n",
      "Epoch 17/30\n",
      "207/207 [==============================] - 0s 2ms/step - loss: 1.2615 - accuracy: 0.6116 - val_loss: 1.5385 - val_accuracy: 0.5535\n",
      "Epoch 18/30\n",
      "207/207 [==============================] - 0s 1ms/step - loss: 1.2581 - accuracy: 0.6113 - val_loss: 1.5159 - val_accuracy: 0.5637\n",
      "Epoch 19/30\n",
      "207/207 [==============================] - 0s 1ms/step - loss: 1.2549 - accuracy: 0.6129 - val_loss: 1.5009 - val_accuracy: 0.5665\n",
      "Epoch 20/30\n",
      "207/207 [==============================] - 0s 1ms/step - loss: 1.2510 - accuracy: 0.6126 - val_loss: 1.5048 - val_accuracy: 0.5624\n",
      "Epoch 21/30\n",
      "207/207 [==============================] - 0s 1ms/step - loss: 1.2473 - accuracy: 0.6129 - val_loss: 1.5123 - val_accuracy: 0.5590\n",
      "Epoch 22/30\n",
      "207/207 [==============================] - 0s 2ms/step - loss: 1.2422 - accuracy: 0.6173 - val_loss: 1.5254 - val_accuracy: 0.5562\n",
      "Epoch 23/30\n",
      "207/207 [==============================] - 0s 2ms/step - loss: 1.2386 - accuracy: 0.6141 - val_loss: 1.4987 - val_accuracy: 0.5658\n",
      "Epoch 24/30\n",
      "207/207 [==============================] - 0s 1ms/step - loss: 1.2331 - accuracy: 0.6166 - val_loss: 1.5034 - val_accuracy: 0.5678\n",
      "Epoch 25/30\n",
      "207/207 [==============================] - 0s 2ms/step - loss: 1.2300 - accuracy: 0.6177 - val_loss: 1.5137 - val_accuracy: 0.5665\n",
      "Epoch 26/30\n",
      "207/207 [==============================] - 0s 2ms/step - loss: 1.2256 - accuracy: 0.6204 - val_loss: 1.5019 - val_accuracy: 0.5719\n",
      "Epoch 27/30\n",
      "207/207 [==============================] - 0s 1ms/step - loss: 1.2216 - accuracy: 0.6207 - val_loss: 1.5226 - val_accuracy: 0.5583\n",
      "Epoch 28/30\n",
      "207/207 [==============================] - 0s 1ms/step - loss: 1.2180 - accuracy: 0.6217 - val_loss: 1.5046 - val_accuracy: 0.5590\n",
      "Epoch 29/30\n",
      "207/207 [==============================] - 0s 1ms/step - loss: 1.2124 - accuracy: 0.6221 - val_loss: 1.5272 - val_accuracy: 0.5508\n",
      "Epoch 30/30\n",
      "207/207 [==============================] - 0s 1ms/step - loss: 1.2087 - accuracy: 0.6232 - val_loss: 1.5172 - val_accuracy: 0.5556\n"
     ]
    }
   ],
   "source": [
    "history3=model.fit(train_features,y_train,batch_size=batch_size,epochs=30,validation_data=(vali_features,y_vali))"
   ]
  },
  {
   "cell_type": "code",
   "execution_count": 97,
   "metadata": {},
   "outputs": [],
   "source": [
    "loss=history.history['loss']+history2.history['loss']+history3.history['loss']\n",
    "accuracy=history.history['accuracy']+history2.history['accuracy']+history3.history['accuracy']\n",
    "val_loss=history.history['val_loss']+history2.history['val_loss']+history3.history['val_loss']\n",
    "val_accuracy=history.history['val_accuracy']+history2.history['val_accuracy']+history3.history['val_accuracy']\n",
    "\n",
    "mydict = {'loss': loss, 'accuracy': accuracy, 'val_loss': val_loss,'val_accuracy':val_accuracy} "
   ]
  },
  {
   "cell_type": "code",
   "execution_count": 99,
   "metadata": {},
   "outputs": [
    {
     "data": {
      "image/png": "[encoded data removed]",
      "text/plain": [
       "<Figure size 1296x576 with 1 Axes>"
      ]
     },
     "metadata": {
      "needs_background": "light"
     },
     "output_type": "display_data"
    }
   ],
   "source": [
    "pd.DataFrame(mydict).plot(figsize=(18,8))\n",
    "plt.grid(True)\n",
    "\n",
    "plt.gca().set_ylim(0,2)\n",
    "\n",
    "# xy = MultipleLocator(2)    # y轴每2一个刻度\n",
    "# ax = plt.gca()\n",
    "# ax.xaxis.set_major_locator(y)\n",
    "plt.xlabel(\"epochs\")\n",
    "plt.show()"
   ]
  },
  {
   "cell_type": "code",
   "execution_count": 100,
   "metadata": {},
   "outputs": [
    {
     "name": "stdout",
     "output_type": "stream",
     "text": [
      "115/115 [==============================] - 0s 1ms/step - loss: 1.5410 - accuracy: 0.5458\n"
     ]
    },
    {
     "data": {
      "text/plain": [
       "[1.540981411933899, 0.5458264946937561]"
      ]
     },
     "execution_count": 100,
     "metadata": {},
     "output_type": "execute_result"
    }
   ],
   "source": [
    "model.evaluate(test_features,y_test)"
   ]
  },
  {
   "cell_type": "markdown",
   "metadata": {},
   "source": [
    "<div class=\"alert alert-success alertsuccess\" style=\"margin-top: 10px\">\n",
    "结果分析和讨论：\n",
    " 经过修改后，有些过拟合的情况。\n",
    " 在使用TFIDF 为权重加权平均文档向量以及调整模型后，准确率从原先的0.15上升至0.55。"
   ]
  }
 ],
 "metadata": {
  "kernelspec": {
   "display_name": "Python 3",
   "language": "python",
   "name": "python3"
  },
  "language_info": {
   "codemirror_mode": {
    "name": "ipython",
    "version": 3
   },
   "file_extension": ".py",
   "mimetype": "text/x-python",
   "name": "python",
   "nbconvert_exporter": "python",
   "pygments_lexer": "ipython3",
   "version": "3.8.5"
  }
 },
 "nbformat": 4,
 "nbformat_minor": 4
}
