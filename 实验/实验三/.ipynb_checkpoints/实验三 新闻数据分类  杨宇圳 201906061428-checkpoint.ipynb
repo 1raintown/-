{
 "cells": [
  {
   "cell_type": "markdown",
   "metadata": {},
   "source": [
    "\n",
    "<h1 align=center><font size = 5> <center>文本分析与挖掘</center> </font></h1> \n",
    "\n",
    "<h2 align=center><font size = 4><center>实验三、新闻数据分类 </center></font></h2>\n",
    "<h2 align=center><font size = 2><center>浙江工业大学计算机科学与技术学院</center></font></h2>"
   ]
  },
  {
   "cell_type": "markdown",
   "metadata": {},
   "source": [
    "## 一、实验目的"
   ]
  },
  {
   "cell_type": "markdown",
   "metadata": {},
   "source": [
    "<div class=\"alert alert-block alert-info\" style=\"margin-top: 20px\">\n",
    "\n",
    "<li>对新闻数据进行适当预处理和表示；</li>\n",
    "<li>通过降维和可视化对新闻数据的分布进行初步探索；</li>\n",
    "<li>对新闻数据进行分类，对比不同分类算法、不同表示模型对分类\n",
    "结果的有效性。</li>"
   ]
  },
  {
   "cell_type": "markdown",
   "metadata": {},
   "source": [
    "## 二、实验内容\n",
    "<div class=\"alert alert-block alert-info\" style=\"margin-top: 20px\">\n",
    "<li>新闻数据预处理和词袋表示</li>\n",
    "<li>降维和可视化 </li>\n",
    "<li>用朴素贝叶斯算法对新闻数据进行分类 </li>\n",
    "<li>不同算法有效性和时间的对比  </li>\n",
    "\n"
   ]
  },
  {
   "cell_type": "markdown",
   "metadata": {},
   "source": [
    "### 1. 新闻数据预处理和词袋表示\n",
    "\n"
   ]
  },
  {
   "cell_type": "markdown",
   "metadata": {},
   "source": [
    "<b>a.加载 20newsgroups 数据集，并打印查看其中一个文档（如果太长可以打印部分）。</b>"
   ]
  },
  {
   "cell_type": "code",
   "execution_count": 1,
   "metadata": {},
   "outputs": [],
   "source": [
    "import pandas as pd\n",
    " \n",
    "pd.set_option('display.width', 500)        #设置整体宽度\n",
    "\n",
    " \n",
    "pd.set_option('display.max_rows',100)      #设置最大行数\n",
    "pd.set_option('display.max_columns', 100)  #设置最大列数"
   ]
  },
  {
   "cell_type": "code",
   "execution_count": 22,
   "metadata": {},
   "outputs": [
    {
     "name": "stdout",
     "output_type": "stream",
     "text": [
      "                                                 Article  Target Label               Target Name\n",
      "0      \\n\\nI am sure some bashers of Pens fans are pr...            10          rec.sport.hockey\n",
      "1      My brother is in the market for a high-perform...             3  comp.sys.ibm.pc.hardware\n",
      "2      \\n\\n\\n\\n\\tFinally you said what you dream abou...            17     talk.politics.mideast\n",
      "3      \\nThink!\\n\\nIt's the SCSI card doing the DMA t...             3  comp.sys.ibm.pc.hardware\n",
      "4      1)    I have an old Jasmine drive which I cann...             4     comp.sys.mac.hardware\n",
      "...                                                  ...           ...                       ...\n",
      "18841  DN> From: nyeda@cnsvax.uwec.edu (David Nye)\\nD...            13                   sci.med\n",
      "18842  \\nNot in isolated ground recepticles (usually ...            12           sci.electronics\n",
      "18843  I just installed a DX2-66 CPU in a clone mothe...             3  comp.sys.ibm.pc.hardware\n",
      "18844  \\nWouldn't this require a hyper-sphere.  In 3-...             1             comp.graphics\n",
      "18845  After a tip from Gary Crum (crum@fcom.cc.utah....             7                 rec.autos\n",
      "\n",
      "[18846 rows x 3 columns]\n"
     ]
    }
   ],
   "source": [
    "from sklearn.datasets import fetch_20newsgroups\n",
    "import pandas  as pd\n",
    "data =fetch_20newsgroups(subset='all',shuffle=True,remove=('headers','footers','quotes'))\n",
    "\n",
    "data_labels_map=dict(enumerate(data.target_names))\n",
    "corpus,target_labels,target_names=(data.data,data.target,[data_labels_map[label]for label in data.target])\n",
    "\n",
    "data_df=pd.DataFrame({'Article':corpus,'Target Label':target_labels,'Target Name':target_names})\n",
    "print(data_df)"
   ]
  },
  {
   "cell_type": "code",
   "execution_count": 15,
   "metadata": {},
   "outputs": [
    {
     "name": "stdout",
     "output_type": "stream",
     "text": [
      "查看第一个文档： \n",
      "\n",
      "I am sure some bashers of Pens fans are pretty confused about the lack\n",
      "of any kind of posts about the recent Pens massacre of the Devils. Actually,\n",
      "I am  bit puzzled too and a bit relieved. However, I am going to put an end\n",
      "to non-PIttsburghers' relief with a bit of praise for the Pens. Man, they\n",
      "are killing those Devils worse than I thought. Jagr just showed you why\n",
      "he is much better than his regular season stats. He is also a lot\n",
      "fo fun to watch in the playoffs. Bowman should let JAgr have a lot of\n",
      "fun in the next couple of games since the Pens are going to beat the pulp out of Jersey anyway. I was very disappointed not to see the Islanders lose the final\n",
      "regular season game.          PENS RULE!!!\n",
      "\n",
      "\n"
     ]
    }
   ],
   "source": [
    "print('查看第一个文档：',corpus[0])"
   ]
  },
  {
   "cell_type": "markdown",
   "metadata": {},
   "source": [
    "#### b.针对以上数据集特点，适当调整和完善 预处理函数EngPreprocess(),对 20newsgroups 原始数据进行恰当的预处理，并将预处理后的文档保存到文件；请对每个预处理步骤进行具体描述。"
   ]
  },
  {
   "cell_type": "markdown",
   "metadata": {},
   "source": [
    "##### 1）编写EngPreprocess()函数"
   ]
  },
  {
   "cell_type": "code",
   "execution_count": 2,
   "metadata": {},
   "outputs": [],
   "source": [
    "import spacy\n",
    "import nltk\n",
    "import numpy as np\n",
    "\n",
    "from nltk.tokenize.toktok import ToktokTokenizer\n",
    "tokenizer=ToktokTokenizer\n",
    "stopword_list=nltk.corpus.stopwords.words('english')\n",
    "nlp=spacy.load('en_core_web_sm',parse=True,tag=True,entity=True)\n",
    "\n",
    "ps=nltk.porter.PorterStemmer()\n",
    "tokenizer=nltk.tokenize.toktok.ToktokTokenizer()"
   ]
  },
  {
   "cell_type": "code",
   "execution_count": 10,
   "metadata": {},
   "outputs": [],
   "source": [
    "#词干提取\n",
    "def stem_text(text):\n",
    "    \n",
    "    tokens=tokenizer.tokenize(text)\n",
    "    stem_token=[ps.stem(token.strip() )for token in tokens]\n",
    "    text=' '.join(stem_token)\n",
    "    return text\n",
    "\n",
    "#词性还原\n",
    "def lemmatize_text(text):\n",
    "    text=nlp(text)\n",
    "    lemma_word=[word.lemma_ if worf.lemma_ !='-PRon-' else word.text for word in text]\n",
    "    text=' '.join(lemma_word)\n",
    "    return text\n",
    "#去停用词\n",
    "def remove_stopwords(text,is_lower_case):\n",
    "    tokens=tokenizer.tokenize(text)\n",
    "    tokens=[token.strip()for token in tokens]\n",
    "    if is_lower_case:\n",
    "        filtered_tokens=[token for token in tokens if token not in stopword_list]\n",
    "    else :\n",
    "        filtered_tokens=[token for token in tokens if token.lower() not in stopword_list]\n",
    "    text=' '.join(filtered_tokens)\n",
    "    return text\n",
    "\n",
    "\n",
    "def EngPreprocess(corpus,text_stemming=True,\n",
    "                 text_lemmatization=False,\n",
    "                  stopword_removal=True,\n",
    "                  text_lower_case=False\n",
    "                    ):\n",
    "    normalized_corpus=[]\n",
    "    for doc in corpus:\n",
    "        #词干提取\n",
    "        if text_stemming:\n",
    "            doc=stem_text(doc)\n",
    "        #词性还原\n",
    "        if text_lemmatization:\n",
    "            doc=lemmatize_text(doc)\n",
    "        #去停用词\n",
    "        if stopword_removal:\n",
    "            doc=remove_stopwords(doc,text_lower_case)\n",
    "        normalized_corpus.append(doc)\n",
    "    return normalized_corpus\n",
    "    "
   ]
  },
  {
   "cell_type": "markdown",
   "metadata": {},
   "source": [
    "##### 2）将原始数据进行删空文档、词干提取和去停用词操作"
   ]
  },
  {
   "cell_type": "code",
   "execution_count": 22,
   "metadata": {},
   "outputs": [
    {
     "name": "stdout",
     "output_type": "stream",
     "text": [
      "<class 'pandas.core.frame.DataFrame'>\n",
      "Int64Index: 18331 entries, 0 to 18845\n",
      "Data columns (total 4 columns):\n",
      " #   Column         Non-Null Count  Dtype \n",
      "---  ------         --------------  ----- \n",
      " 0   Article        18331 non-null  object\n",
      " 1   Clean Article  18331 non-null  object\n",
      " 2   Target Label   18331 non-null  int32 \n",
      " 3   Target Name    18331 non-null  object\n",
      "dtypes: int32(1), object(3)\n",
      "memory usage: 644.4+ KB\n"
     ]
    }
   ],
   "source": [
    "data_df=data_df[~(data_df.Article.str.strip()=='')]\n",
    "norm_corpus=EngPreprocess(data_df['Article'])\n",
    "data_df['Clean Article']=norm_corpus\n",
    "\n",
    "\n",
    "\n",
    "data_df=data_df[['Article','Clean Article','Target Label','Target Name']]\n",
    "\n",
    "print(data_df.info())\n"
   ]
  },
  {
   "cell_type": "code",
   "execution_count": 24,
   "metadata": {},
   "outputs": [
    {
     "data": {
      "text/html": [
       "<div>\n",
       "<style scoped>\n",
       "    .dataframe tbody tr th:only-of-type {\n",
       "        vertical-align: middle;\n",
       "    }\n",
       "\n",
       "    .dataframe tbody tr th {\n",
       "        vertical-align: top;\n",
       "    }\n",
       "\n",
       "    .dataframe thead th {\n",
       "        text-align: right;\n",
       "    }\n",
       "</style>\n",
       "<table border=\"1\" class=\"dataframe\">\n",
       "  <thead>\n",
       "    <tr style=\"text-align: right;\">\n",
       "      <th></th>\n",
       "      <th>Article</th>\n",
       "      <th>Clean Article</th>\n",
       "      <th>Target Label</th>\n",
       "      <th>Target Name</th>\n",
       "    </tr>\n",
       "  </thead>\n",
       "  <tbody>\n",
       "    <tr>\n",
       "      <th>0</th>\n",
       "      <td>\\n\\nI am sure some bashers of Pens fans are pr...</td>\n",
       "      <td>sure basher pen fan pretti confus lack ani kin...</td>\n",
       "      <td>10</td>\n",
       "      <td>rec.sport.hockey</td>\n",
       "    </tr>\n",
       "    <tr>\n",
       "      <th>1</th>\n",
       "      <td>My brother is in the market for a high-perform...</td>\n",
       "      <td>brother market high-perform video card support...</td>\n",
       "      <td>3</td>\n",
       "      <td>comp.sys.ibm.pc.hardware</td>\n",
       "    </tr>\n",
       "    <tr>\n",
       "      <th>2</th>\n",
       "      <td>\\n\\n\\n\\n\\tFinally you said what you dream abou...</td>\n",
       "      <td>&amp;#9 ; final said dream about. mediterranean?? ...</td>\n",
       "      <td>17</td>\n",
       "      <td>talk.politics.mideast</td>\n",
       "    </tr>\n",
       "    <tr>\n",
       "      <th>3</th>\n",
       "      <td>\\nThink!\\n\\nIt's the SCSI card doing the DMA t...</td>\n",
       "      <td>think ! ' scsi card dma transfer disk ... scsi...</td>\n",
       "      <td>3</td>\n",
       "      <td>comp.sys.ibm.pc.hardware</td>\n",
       "    </tr>\n",
       "    <tr>\n",
       "      <th>4</th>\n",
       "      <td>1)    I have an old Jasmine drive which I cann...</td>\n",
       "      <td>1 ) old jasmin drive cannot use new system. un...</td>\n",
       "      <td>4</td>\n",
       "      <td>comp.sys.mac.hardware</td>\n",
       "    </tr>\n",
       "  </tbody>\n",
       "</table>\n",
       "</div>"
      ],
      "text/plain": [
       "                                             Article                                      Clean Article  Target Label               Target Name\n",
       "0  \\n\\nI am sure some bashers of Pens fans are pr...  sure basher pen fan pretti confus lack ani kin...            10          rec.sport.hockey\n",
       "1  My brother is in the market for a high-perform...  brother market high-perform video card support...             3  comp.sys.ibm.pc.hardware\n",
       "2  \\n\\n\\n\\n\\tFinally you said what you dream abou...  &#9 ; final said dream about. mediterranean?? ...            17     talk.politics.mideast\n",
       "3  \\nThink!\\n\\nIt's the SCSI card doing the DMA t...  think ! ' scsi card dma transfer disk ... scsi...             3  comp.sys.ibm.pc.hardware\n",
       "4  1)    I have an old Jasmine drive which I cann...  1 ) old jasmin drive cannot use new system. un...             4     comp.sys.mac.hardware"
      ]
     },
     "execution_count": 24,
     "metadata": {},
     "output_type": "execute_result"
    }
   ],
   "source": [
    "data_df.head()"
   ]
  },
  {
   "cell_type": "markdown",
   "metadata": {},
   "source": [
    "##### 3）将预处理后的数据再进行空文档删除，并保存为csv文件"
   ]
  },
  {
   "cell_type": "code",
   "execution_count": 29,
   "metadata": {},
   "outputs": [
    {
     "name": "stdout",
     "output_type": "stream",
     "text": [
      "<class 'pandas.core.frame.DataFrame'>\n",
      "RangeIndex: 18330 entries, 0 to 18329\n",
      "Data columns (total 4 columns):\n",
      " #   Column         Non-Null Count  Dtype \n",
      "---  ------         --------------  ----- \n",
      " 0   Article        18330 non-null  object\n",
      " 1   Clean Article  18330 non-null  object\n",
      " 2   Target Label   18330 non-null  int32 \n",
      " 3   Target Name    18330 non-null  object\n",
      "dtypes: int32(1), object(3)\n",
      "memory usage: 501.3+ KB\n",
      "None\n"
     ]
    },
    {
     "data": {
      "text/html": [
       "<div>\n",
       "<style scoped>\n",
       "    .dataframe tbody tr th:only-of-type {\n",
       "        vertical-align: middle;\n",
       "    }\n",
       "\n",
       "    .dataframe tbody tr th {\n",
       "        vertical-align: top;\n",
       "    }\n",
       "\n",
       "    .dataframe thead th {\n",
       "        text-align: right;\n",
       "    }\n",
       "</style>\n",
       "<table border=\"1\" class=\"dataframe\">\n",
       "  <thead>\n",
       "    <tr style=\"text-align: right;\">\n",
       "      <th></th>\n",
       "      <th>Article</th>\n",
       "      <th>Clean Article</th>\n",
       "      <th>Target Label</th>\n",
       "      <th>Target Name</th>\n",
       "    </tr>\n",
       "  </thead>\n",
       "  <tbody>\n",
       "    <tr>\n",
       "      <th>0</th>\n",
       "      <td>\\n\\nI am sure some bashers of Pens fans are pr...</td>\n",
       "      <td>sure basher pen fan pretti confus lack ani kin...</td>\n",
       "      <td>10</td>\n",
       "      <td>rec.sport.hockey</td>\n",
       "    </tr>\n",
       "    <tr>\n",
       "      <th>1</th>\n",
       "      <td>My brother is in the market for a high-perform...</td>\n",
       "      <td>brother market high-perform video card support...</td>\n",
       "      <td>3</td>\n",
       "      <td>comp.sys.ibm.pc.hardware</td>\n",
       "    </tr>\n",
       "    <tr>\n",
       "      <th>2</th>\n",
       "      <td>\\n\\n\\n\\n\\tFinally you said what you dream abou...</td>\n",
       "      <td>&amp;#9 ; final said dream about. mediterranean?? ...</td>\n",
       "      <td>17</td>\n",
       "      <td>talk.politics.mideast</td>\n",
       "    </tr>\n",
       "    <tr>\n",
       "      <th>3</th>\n",
       "      <td>\\nThink!\\n\\nIt's the SCSI card doing the DMA t...</td>\n",
       "      <td>think ! ' scsi card dma transfer disk ... scsi...</td>\n",
       "      <td>3</td>\n",
       "      <td>comp.sys.ibm.pc.hardware</td>\n",
       "    </tr>\n",
       "    <tr>\n",
       "      <th>4</th>\n",
       "      <td>1)    I have an old Jasmine drive which I cann...</td>\n",
       "      <td>1 ) old jasmin drive cannot use new system. un...</td>\n",
       "      <td>4</td>\n",
       "      <td>comp.sys.mac.hardware</td>\n",
       "    </tr>\n",
       "  </tbody>\n",
       "</table>\n",
       "</div>"
      ],
      "text/plain": [
       "                                             Article                                      Clean Article  Target Label               Target Name\n",
       "0  \\n\\nI am sure some bashers of Pens fans are pr...  sure basher pen fan pretti confus lack ani kin...            10          rec.sport.hockey\n",
       "1  My brother is in the market for a high-perform...  brother market high-perform video card support...             3  comp.sys.ibm.pc.hardware\n",
       "2  \\n\\n\\n\\n\\tFinally you said what you dream abou...  &#9 ; final said dream about. mediterranean?? ...            17     talk.politics.mideast\n",
       "3  \\nThink!\\n\\nIt's the SCSI card doing the DMA t...  think ! ' scsi card dma transfer disk ... scsi...             3  comp.sys.ibm.pc.hardware\n",
       "4  1)    I have an old Jasmine drive which I cann...  1 ) old jasmin drive cannot use new system. un...             4     comp.sys.mac.hardware"
      ]
     },
     "execution_count": 29,
     "metadata": {},
     "output_type": "execute_result"
    }
   ],
   "source": [
    "data_df=data_df.replace(r'^(\\s?)+$',np.nan,regex=True)\n",
    "data_df=data_df.dropna().reset_index(drop=True)\n",
    "print(data_df.info())\n",
    "\n",
    "data_df.head()"
   ]
  },
  {
   "cell_type": "code",
   "execution_count": 30,
   "metadata": {},
   "outputs": [],
   "source": [
    "data_df.to_csv('./data.csv',index=False)"
   ]
  },
  {
   "cell_type": "markdown",
   "metadata": {},
   "source": [
    "#### c. 给出预处理之后的数据统计信息，包括文档数目、词的数目、文档的平均长度等。"
   ]
  },
  {
   "cell_type": "code",
   "execution_count": 4,
   "metadata": {},
   "outputs": [
    {
     "name": "stdout",
     "output_type": "stream",
     "text": [
      "文档数目： 18330\n",
      "词的数目： 3069462\n",
      "文档的平均长度：167\n"
     ]
    }
   ],
   "source": [
    "data=pd.read_csv('./data.csv')\n",
    "print('文档数目：',data.shape[0])\n",
    "\n",
    "list1=data['Clean Article'].tolist()\n",
    "word_sum=0\n",
    "for article in list1:\n",
    "    arr=article.split()\n",
    "    word_sum+=len(arr)\n",
    "print('词的数目：',word_sum)\n",
    "avg=word_sum/data.shape[0]\n",
    "print('文档的平均长度：%d' %avg)"
   ]
  },
  {
   "cell_type": "markdown",
   "metadata": {},
   "source": [
    "#### d. 读入预处理完的文档数据，进行词袋表示，得到基于词频的和TF-IDF 的两种数据矩阵。"
   ]
  },
  {
   "cell_type": "code",
   "execution_count": 16,
   "metadata": {},
   "outputs": [],
   "source": [
    "# 分割训练集和测试集\n",
    "from sklearn.model_selection import train_test_split\n",
    "train_corpus, test_corpus,  train_label_num,test_label_num,  train_label_name,test_label_name=\\\n",
    "train_test_split(np.array(data['Clean Article']),\n",
    "                np.array(data['Target Label']),\n",
    "                np.array(data['Target Name']),\n",
    "                test_size=0.33,random_state=42)"
   ]
  },
  {
   "cell_type": "markdown",
   "metadata": {},
   "source": [
    "##### 1)词频"
   ]
  },
  {
   "cell_type": "code",
   "execution_count": 17,
   "metadata": {},
   "outputs": [],
   "source": [
    "from sklearn.feature_extraction.text import CountVectorizer\n",
    "cv=CountVectorizer(min_df=0.0,max_df=1.0)\n",
    "cv_train_features=cv.fit_transform(train_corpus)\n",
    "\n",
    "cv_test_features=cv.transform(test_corpus)\n",
    "\n",
    " "
   ]
  },
  {
   "cell_type": "markdown",
   "metadata": {},
   "source": [
    "##### 2)TF-IDF"
   ]
  },
  {
   "cell_type": "code",
   "execution_count": 51,
   "metadata": {},
   "outputs": [],
   "source": [
    "from sklearn.feature_extraction.text import TfidfVectorizer\n",
    "\n",
    "tv = TfidfVectorizer(norm='l2', use_idf=True, smooth_idf=True) \n",
    "\n",
    "\n",
    "tv_train_features = tv.fit_transform(train_corpus) \n",
    "\n",
    "tv_test_features=tv.transform(test_corpus)\n"
   ]
  },
  {
   "cell_type": "code",
   "execution_count": 19,
   "metadata": {},
   "outputs": [],
   "source": [
    "x=np.round(tv_train_features.toarray(),2)"
   ]
  },
  {
   "cell_type": "markdown",
   "metadata": {},
   "source": [
    "### 2.降维和可视化 "
   ]
  },
  {
   "cell_type": "markdown",
   "metadata": {},
   "source": [
    "#### a.对基于 TF-IDF 的数据矩阵进行 PCA 降维，得到二维表示。"
   ]
  },
  {
   "cell_type": "code",
   "execution_count": 20,
   "metadata": {},
   "outputs": [],
   "source": [
    "from sklearn.decomposition import PCA\n",
    "pca_sk = PCA(n_components=2)  \n",
    "newMat = pca_sk.fit_transform(x)  "
   ]
  },
  {
   "cell_type": "code",
   "execution_count": 21,
   "metadata": {},
   "outputs": [
    {
     "name": "stdout",
     "output_type": "stream",
     "text": [
      "[[-0.02493519  0.02054807]\n",
      " [ 0.01665608 -0.05541799]\n",
      " [ 0.0481956  -0.04860039]\n",
      " ...\n",
      " [ 0.00230518 -0.00516185]\n",
      " [ 0.03665729 -0.02868185]\n",
      " [ 0.0205968  -0.04012959]]\n"
     ]
    }
   ],
   "source": [
    "print(newMat)"
   ]
  },
  {
   "cell_type": "markdown",
   "metadata": {},
   "source": [
    "#### b.打印二维表示散点图（用不同颜色代表真实类别标签），观察并讨论该新闻数据的分布情况。因为数据集太大，只选用了前5个类别。"
   ]
  },
  {
   "cell_type": "code",
   "execution_count": 28,
   "metadata": {},
   "outputs": [
    {
     "data": {
      "image/png": "[encoded data removed]",
      "text/plain": [
       "<Figure size 432x288 with 1 Axes>"
      ]
     },
     "metadata": {
      "needs_background": "light"
     },
     "output_type": "display_data"
    }
   ],
   "source": [
    "import matplotlib.pyplot as plt\n",
    "\n",
    "label=data['Target Label'].tolist() #获取标签\n",
    "r_x,r_y ,b_x,b_y ,g_x,g_y ,y_x,y_y, c_x,c_y=[],[],[],[],[],[],[],[],[],[]\n",
    "for i in range(len(newMat)):\n",
    "    if label[i]==0:\n",
    "        r_x.append(newMat[i][0])\n",
    "        r_y.append(newMat[i][1])\n",
    "    elif label[i]==1:\n",
    "        b_x.append(newMat[i][0])\n",
    "        b_y.append(newMat[i][1])\n",
    "    elif label[i]==2:\n",
    "        g_x.append(newMat[i][0])\n",
    "        g_y.append(newMat[i][1])\n",
    "    elif label[i]==3:\n",
    "        y_x.append(newMat[i][0])\n",
    "        y_y.append(newMat[i][1])\n",
    "    elif label[i]==4:\n",
    "        c_x.append(newMat[i][0])\n",
    "        c_y.append(newMat[i][1])\n",
    "plt.scatter(r_x,r_y,c='r')\n",
    "plt.scatter(b_x,b_y,c='b')\n",
    "plt.scatter(g_x,g_y,c='g')\n",
    "plt.scatter(y_x,y_y,c='y')\n",
    "plt.scatter(c_x,c_y,c='c')\n",
    "plt.legend([\"0\",\"1\",\"2\",\"3\",\"4\"])\n",
    "plt.show()"
   ]
  },
  {
   "cell_type": "markdown",
   "metadata": {},
   "source": [
    "<div class=\"alert alert-success alertsuccess\" style=\"margin-top: 10px\">\n",
    "结果分析和讨论：从可视化的结果来看，各类新闻区分度不是很明显。"
   ]
  },
  {
   "cell_type": "markdown",
   "metadata": {},
   "source": [
    "### 3.用朴素贝叶斯算法对新闻数据进行分类"
   ]
  },
  {
   "cell_type": "markdown",
   "metadata": {},
   "source": [
    "#### a.用朴素贝叶斯算法对基于 Part1 中得到的词频表示的新闻数据进行分类，得到 5 折交叉验证的准确率（Accuracy）。\n"
   ]
  },
  {
   "cell_type": "code",
   "execution_count": 24,
   "metadata": {},
   "outputs": [
    {
     "name": "stdout",
     "output_type": "stream",
     "text": [
      "CV Accuracy(5-fold): [0.65852666 0.64087948 0.64291531 0.65065147 0.65879479]\n",
      "mean CV Accuracy:  0.6503535401743871\n",
      "TEST Accuracy: 0.6688708877500413\n"
     ]
    }
   ],
   "source": [
    "from sklearn.naive_bayes import MultinomialNB\n",
    "from sklearn.model_selection import cross_val_score\n",
    "\n",
    "mnb=MultinomialNB(alpha=1)\n",
    "mnb.fit(cv_train_features,train_label_name)\n",
    "mnb_bow_cv_scores=cross_val_score(mnb,cv_train_features,train_label_name,cv=5)\n",
    "mnb_bow_cv_mean_score=np.mean(mnb_bow_cv_scores)\n",
    "print('CV Accuracy(5-fold):',mnb_bow_cv_scores)\n",
    "print(\"mean CV Accuracy: \",mnb_bow_cv_mean_score)\n",
    "mnb_bow_test_score=mnb.score(cv_test_features,test_label_name)\n",
    "print('TEST Accuracy:',mnb_bow_test_score)"
   ]
  },
  {
   "cell_type": "markdown",
   "metadata": {},
   "source": [
    "#### b. 改用基于 TF-IDF 表示的新闻数据，重复 a 中实验，对比准确率。"
   ]
  },
  {
   "cell_type": "code",
   "execution_count": 26,
   "metadata": {},
   "outputs": [
    {
     "name": "stdout",
     "output_type": "stream",
     "text": [
      "TV Accuracy(5-fold): [0.70533171 0.70561889 0.69910423 0.71213355 0.7259772 ]\n",
      "mean TV Accuracy:  0.7096331163106407\n",
      "TEST Accuracy: 0.7184658621259712\n"
     ]
    }
   ],
   "source": [
    "mnb=MultinomialNB(alpha=1)\n",
    "mnb.fit(tv_train_features,train_label_name)\n",
    "mnb_bow_tv_scores=cross_val_score(mnb,tv_train_features,train_label_name,cv=5)\n",
    "mnb_bow_tv_mean_score=np.mean(mnb_bow_tv_scores)\n",
    "print('TV Accuracy(5-fold):',mnb_bow_tv_scores)\n",
    "print(\"mean TV Accuracy: \",mnb_bow_tv_mean_score)\n",
    "mnb_bow_test_score=mnb.score(tv_test_features,test_label_name)\n",
    "print('TEST Accuracy:',mnb_bow_test_score)"
   ]
  },
  {
   "cell_type": "markdown",
   "metadata": {},
   "source": [
    "<div class=\"alert alert-success alertsuccess\" style=\"margin-top: 10px\">\n",
    "结果分析和讨论：使用TF-IDF后，acc提升了5个百分点。"
   ]
  },
  {
   "cell_type": "markdown",
   "metadata": {},
   "source": [
    "#### c. 对原始数据（不进行预处理）进行 TF-IDF 表示，重复 a 中实验，对比步骤 b 的准确率，讨论预处理的作用。\n"
   ]
  },
  {
   "cell_type": "code",
   "execution_count": 29,
   "metadata": {},
   "outputs": [],
   "source": [
    "# 分割训练集和测试集\n",
    "from sklearn.model_selection import train_test_split\n",
    "o_train_corpus, o_test_corpus,  o_train_label_num,o_test_label_num,  o_train_label_name,o_test_label_name=\\\n",
    "train_test_split(np.array(data['Article']),\n",
    "                np.array(data['Target Label']),\n",
    "                np.array(data['Target Name']),\n",
    "                test_size=0.33,random_state=42)"
   ]
  },
  {
   "cell_type": "code",
   "execution_count": 30,
   "metadata": {},
   "outputs": [],
   "source": [
    "from sklearn.feature_extraction.text import TfidfVectorizer\n",
    "\n",
    "tv = TfidfVectorizer(norm='l2', use_idf=True, smooth_idf=True) \n",
    "\n",
    "\n",
    "tv_train_features = tv.fit_transform(o_train_corpus) \n",
    "\n",
    "tv_test_features=tv.transform(o_test_corpus)\n"
   ]
  },
  {
   "cell_type": "code",
   "execution_count": 31,
   "metadata": {},
   "outputs": [
    {
     "name": "stdout",
     "output_type": "stream",
     "text": [
      "TV Accuracy(5-fold): [0.67439967 0.68322476 0.67345277 0.68322476 0.68973941]\n",
      "mean TV Accuracy:  0.6808082736421497\n",
      "TEST Accuracy: 0.6926764754504877\n"
     ]
    }
   ],
   "source": [
    "mnb=MultinomialNB(alpha=1)\n",
    "mnb.fit(tv_train_features,train_label_name)\n",
    "mnb_bow_tv_scores=cross_val_score(mnb,tv_train_features,train_label_name,cv=5)\n",
    "mnb_bow_tv_mean_score=np.mean(mnb_bow_tv_scores)\n",
    "print('TV Accuracy(5-fold):',mnb_bow_tv_scores)\n",
    "print(\"mean TV Accuracy: \",mnb_bow_tv_mean_score)\n",
    "mnb_bow_test_score=mnb.score(tv_test_features,test_label_name)\n",
    "print('TEST Accuracy:',mnb_bow_test_score)"
   ]
  },
  {
   "cell_type": "markdown",
   "metadata": {},
   "source": [
    "<div class=\"alert alert-success alertsuccess\" style=\"margin-top: 10px\">\n",
    "结果分析和讨论：只使用原数据的话，不仅计算量增加了，acc的数值也没有预处理的高。所以预处理不仅能降低计算量，也能提高精确度。"
   ]
  },
  {
   "cell_type": "markdown",
   "metadata": {},
   "source": [
    "#### d. 改变 min_df 和 max_df 这两个参数（具体含义）的值得到 TF-IDF 表示，重复 a 中实验，对比步骤 b 的准确率并讨论。"
   ]
  },
  {
   "cell_type": "code",
   "execution_count": 46,
   "metadata": {},
   "outputs": [],
   "source": [
    "from sklearn.feature_extraction.text import TfidfVectorizer\n",
    "\n",
    "tv = TfidfVectorizer(min_df=0.1,max_df=1.5,norm='l2', use_idf=True, smooth_idf=True) \n",
    "\n",
    "\n",
    "t_tv_train_features = tv.fit_transform(train_corpus) \n",
    "\n",
    "t_tv_test_features=tv.transform(test_corpus)\n"
   ]
  },
  {
   "cell_type": "code",
   "execution_count": 47,
   "metadata": {},
   "outputs": [
    {
     "name": "stdout",
     "output_type": "stream",
     "text": [
      "TV Accuracy(5-fold): [0.16809117 0.15309446 0.16938111 0.16978827 0.1730456 ]\n",
      "mean TV Accuracy:  0.16668012286904796\n",
      "TEST Accuracy: 0.16812696313440237\n"
     ]
    }
   ],
   "source": [
    "mnb=MultinomialNB(alpha=1)\n",
    "mnb.fit(tv_train_features,train_label_name)\n",
    "mnb_bow_tv_scores=cross_val_score(mnb,tv_train_features,train_label_name,cv=5)\n",
    "mnb_bow_tv_mean_score=np.mean(mnb_bow_tv_scores)\n",
    "print('TV Accuracy(5-fold):',mnb_bow_tv_scores)\n",
    "print(\"mean TV Accuracy: \",mnb_bow_tv_mean_score)\n",
    "mnb_bow_test_score=mnb.score(tv_test_features,test_label_name)\n",
    "print('TEST Accuracy:',mnb_bow_test_score)"
   ]
  },
  {
   "cell_type": "markdown",
   "metadata": {},
   "source": [
    "<div class=\"alert alert-success alertsuccess\" style=\"margin-top: 10px\">\n",
    "结果分析和讨论：\n",
    "    \n",
    "min_df 用于删除不经常出现的术语。如果某个词的document frequence小于min_df，则这个词不会被当作关键词。\n",
    "    \n",
    "max_df可用于删除过于频繁出现的术语，如果某个词的document frequence大于max_df，这个词不会被当作关键词。\n",
    "\n",
    "上面操作将min_df改为0.1后，acc的精度极低。"
   ]
  },
  {
   "cell_type": "markdown",
   "metadata": {},
   "source": [
    "### 4.不同算法有效性和时间的对比"
   ]
  },
  {
   "cell_type": "markdown",
   "metadata": {},
   "source": [
    "#### a. 基于预处理后的 TF-IDF 表示，用支持向量机对其进行分类，给出 5 折交叉验证的准确率。"
   ]
  },
  {
   "cell_type": "code",
   "execution_count": 81,
   "metadata": {},
   "outputs": [],
   "source": [
    "\n",
    "from sklearn import svm\n",
    "import datetime\n",
    "\n",
    "#svm\n",
    "starttime1 = datetime.datetime.now()\n",
    "\n",
    "classifier=svm.SVC(C=2,kernel='rbf',gamma=7,decision_function_shape='ovo') \n",
    "classifier.fit(tv_train_features,train_label_name) \n",
    "\n",
    "svm_tv_scores=cross_val_score(classifier,tv_train_features,train_label_name,cv=5)\n",
    "svm_tv_mean_scores=np.mean(svm_tv_scores)\n",
    "svm_test_score=classifier.score(tv_test_features,test_label_name)\n",
    "\n",
    "endtime1 = datetime.datetime.now()\n",
    "\n"
   ]
  },
  {
   "cell_type": "code",
   "execution_count": 79,
   "metadata": {},
   "outputs": [],
   "source": [
    "#mnb\n",
    "starttime2 = datetime.datetime.now()\n",
    "\n",
    "mnb=MultinomialNB(alpha=1)\n",
    "mnb.fit(tv_train_features,train_label_name)\n",
    "mnb_bow_tv_scores=cross_val_score(mnb,tv_train_features,train_label_name,cv=5)\n",
    "mnb_bow_tv_mean_score=np.mean(mnb_bow_tv_scores)\n",
    "mnb_bow_test_score=mnb.score(tv_test_features,test_label_name)\n",
    "\n",
    "endtime2 = datetime.datetime.now()"
   ]
  },
  {
   "cell_type": "markdown",
   "metadata": {},
   "source": [
    "#### b. 对比朴素贝叶斯和支持向量机的训练和测试时间。综合准确率和两个时间讨论：实际应用中如何对算法进行选择。"
   ]
  },
  {
   "cell_type": "code",
   "execution_count": 82,
   "metadata": {},
   "outputs": [
    {
     "name": "stdout",
     "output_type": "stream",
     "text": [
      "支持向量机运行时间： 160 s\n",
      "支持向量机5折交叉验证准确率 [0.07855108 0.07980456 0.0769544  0.07532573 0.07776873]\n",
      "支持向量机测试集准确率 0.08695652173913043\n",
      "朴素贝叶斯运行时间： 0:00:00.640320 s\n",
      "朴素贝叶斯5折交叉验证准确率 [0.70533171 0.70561889 0.69910423 0.71213355 0.7259772 ]\n",
      "朴素贝叶斯测试集准确率 0.7184658621259712\n"
     ]
    }
   ],
   "source": [
    "print('支持向量机运行时间：',(endtime1-starttime1).seconds,'s')\n",
    "print('支持向量机5折交叉验证准确率',svm_tv_scores)\n",
    "print('支持向量机测试集准确率',svm_test_score)\n",
    "print('朴素贝叶斯运行时间：',(endtime2-starttime2),'s')\n",
    "print('朴素贝叶斯5折交叉验证准确率',mnb_bow_tv_scores)\n",
    "print('朴素贝叶斯测试集准确率',mnb_bow_test_score)"
   ]
  },
  {
   "cell_type": "markdown",
   "metadata": {},
   "source": [
    "<div class=\"alert alert-success alertsuccess\" style=\"margin-top: 10px\">\n",
    "结果分析和讨论：查看结果可以发现，同样的数据矩阵，支持向量机的精确度低而且时间花费十分长。说明支持向量机不适合这里的新闻分类任务。"
   ]
  }
 ],
 "metadata": {
  "kernelspec": {
   "display_name": "Python 3",
   "language": "python",
   "name": "python3"
  },
  "language_info": {
   "codemirror_mode": {
    "name": "ipython",
    "version": 3
   },
   "file_extension": ".py",
   "mimetype": "text/x-python",
   "name": "python",
   "nbconvert_exporter": "python",
   "pygments_lexer": "ipython3",
   "version": "3.8.5"
  }
 },
 "nbformat": 4,
 "nbformat_minor": 4
}
