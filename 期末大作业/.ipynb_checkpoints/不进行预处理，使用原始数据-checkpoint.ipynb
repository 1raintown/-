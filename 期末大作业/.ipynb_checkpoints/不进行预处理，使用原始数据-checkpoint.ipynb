{
 "cells": [
  {
   "cell_type": "markdown",
   "metadata": {},
   "source": [
    "\n",
    "<h1 align=center><font size = 5> <center>文本分析与挖掘</center> </font></h1> \n",
    "\n",
    "<h2 align=center><font size = 4><center>期末综合作业</center></font></h2>\n",
    "<h2 align=center><font size = 2><center>浙江工业大学计算机科学与技术学院</center></font></h2>"
   ]
  },
  {
   "cell_type": "markdown",
   "metadata": {},
   "source": [
    "# 不进行预处理"
   ]
  },
  {
   "cell_type": "markdown",
   "metadata": {},
   "source": [
    "不对报警内容和出警情况进行预处理，使用原始数据进行训练"
   ]
  },
  {
   "cell_type": "code",
   "execution_count": 1,
   "metadata": {},
   "outputs": [],
   "source": [
    "import jieba\n",
    "import pandas as pd\n",
    "import numpy as np\n",
    "import tensorflow as tf\n",
    "from tensorflow.keras.preprocessing.sequence import pad_sequences\n",
    "from sklearn.metrics import classification_report\n",
    "import unicodedata\n",
    "import matplotlib.pyplot as plt\n",
    "from sklearn import preprocessing\n",
    "from sklearn.model_selection import train_test_split\n",
    "import re\n",
    "from imblearn.over_sampling import SMOTE"
   ]
  },
  {
   "cell_type": "markdown",
   "metadata": {},
   "source": [
    "### 1.加载数据"
   ]
  },
  {
   "cell_type": "code",
   "execution_count": 2,
   "metadata": {},
   "outputs": [],
   "source": [
    "x_train_data=pd.read_excel('警情数据集/X_train.xlsx')\n",
    "x_test_data=pd.read_excel('警情数据集/X_test.xlsx')\n",
    "\n",
    "y_train_data=pd.read_excel('警情数据集/y_train.xlsx')\n",
    "y=y_train_data['最终反馈警情类别']\n",
    "y_test_data=pd.read_excel('警情数据集/y_test.xlsx')\n",
    "y_test=y_test_data['最终反馈警情类别']\n",
    "\n",
    "x=x_train_data['报警内容']+'。'+x_train_data['出警情况（反馈内容）']\n",
    "x_test=x_test_data['报警内容']+'。'+x_test_data['出警情况（反馈内容）']"
   ]
  },
  {
   "cell_type": "code",
   "execution_count": 3,
   "metadata": {},
   "outputs": [],
   "source": [
    "title_mapping = {\"求助\": 0, \"治安案件\": 1, \"纠纷\": 2, \"举报\": 3, \"其它报警\": 4,\"刑事案件\":5}#将标签对应数值\n",
    "y= y.map(title_mapping)#处理数据\n",
    "y = y.fillna(0).values##将其余标签填充为0值\n",
    "y_test= y_test.map(title_mapping)#处理数据\n",
    "y_test = y_test.fillna(0).values##将其余标签填充为0值\n",
    "\n"
   ]
  },
  {
   "cell_type": "code",
   "execution_count": 6,
   "metadata": {},
   "outputs": [],
   "source": [
    "cut_docs = x.apply(lambda x: jieba.cut(x)).values"
   ]
  },
  {
   "cell_type": "markdown",
   "metadata": {},
   "source": [
    "#### a.查看分词结果"
   ]
  },
  {
   "cell_type": "code",
   "execution_count": 5,
   "metadata": {},
   "outputs": [
    {
     "name": "stderr",
     "output_type": "stream",
     "text": [
      "Building prefix dict from the default dictionary ...\n",
      "Loading model from cache C:\\Users\\DELL\\AppData\\Local\\Temp\\jieba.cache\n",
      "Loading model cost 0.653 seconds.\n",
      "Prefix dict has been built successfully.\n"
     ]
    },
    {
     "data": {
      "text/plain": [
       "'事故/后期/，/赔偿/纠纷/。/2019/年/7/月/27/日/9/时/41/分许/，/民警/*/*/*/带领/辅警/冯诚军/，/*/*/*/到达/萧山区/靖江/路/与/广场/路/西面/100/米/，/经/了解/系胡/选学/（/1993/*/*/*/*/*/*/*/*/）/称/其/与/对方/*/*/水/（/1970/*/*/*/*/*/*/*/*/）/因/交通事故/后/赔偿/产生纠纷/，/后经/民警/工作/，/其/表示/会/自行/协调/处理/，/现已/平息/。'"
      ]
     },
     "execution_count": 5,
     "metadata": {},
     "output_type": "execute_result"
    }
   ],
   "source": [
    "'/'.join(cut_docs[0])"
   ]
  },
  {
   "cell_type": "code",
   "execution_count": 7,
   "metadata": {},
   "outputs": [],
   "source": [
    "#构建词汇表\n",
    "vocab = set()\n",
    "\n",
    "for doc in cut_docs:\n",
    "    for word in doc:\n",
    "        if word.strip():\n",
    "                vocab.add(word.strip())\n",
    "                \n",
    "# 将词表写入本地vocab.txt文件\n",
    "with open('vocab.txt', 'w') as file:\n",
    "    for word in  vocab:\n",
    "        file.write(word)\n",
    "        file.write('\\n')\n"
   ]
  },
  {
   "cell_type": "code",
   "execution_count": 8,
   "metadata": {},
   "outputs": [],
   "source": [
    "#配置类\n",
    "class Config():\n",
    "    def __init__(self,embedding_dim, max_seq_len):\n",
    "        self.embedding_dim = embedding_dim # 词向量维度\n",
    "        self.max_seq_len = max_seq_len # 文章长度\n",
    "        self.vocab_file = 'vocab.txt' # 词汇表文件路径\n",
    "\n",
    "#预处理类\n",
    "class Preprocessor():\n",
    "    def __init__(self, config):\n",
    "        self.config = config\n",
    "        # 初始化词和id的映射词典，预留0给padding字符，1给词表中未见过的词\n",
    "        token2idx = {\"[PAD]\": 0, \"[UNK]\": 1} # {word：id}\n",
    "        with open(config.vocab_file, 'r') as reader:\n",
    "            for index, line in enumerate(reader):\n",
    "                token = line.strip()\n",
    "                token2idx[token] = index+2\n",
    "                \n",
    "        self.token2idx = token2idx\n",
    "        \n",
    "    def transform(self, text_list):\n",
    "        # 文本分词，并将词转换成相应的id, 最后不同长度的文本padding长统一长度，后面补0\n",
    "        idx_list = [[self.token2idx.get(word.strip(), self.token2idx['[UNK]']) for word in jieba.cut(text)] for text in text_list]\n",
    "        idx_padding = pad_sequences(idx_list, self.config.max_seq_len, padding='post')\n",
    "        \n",
    "        return idx_padding"
   ]
  },
  {
   "cell_type": "markdown",
   "metadata": {},
   "source": [
    "#### b.把每个句子/评论转成长度统一为 max_len=100 的向量，太长的截断，太短的后面补零。"
   ]
  },
  {
   "cell_type": "code",
   "execution_count": 9,
   "metadata": {},
   "outputs": [],
   "source": [
    "config1 = Config(200,100)#词向量维度=200,句长为100\n",
    "preprocessor1 = Preprocessor(config1)"
   ]
  },
  {
   "cell_type": "code",
   "execution_count": 11,
   "metadata": {},
   "outputs": [],
   "source": [
    "x=preprocessor1.transform(x)\n",
    "\n",
    "x_test=preprocessor1.transform(x_test)"
   ]
  },
  {
   "cell_type": "markdown",
   "metadata": {},
   "source": [
    "#### c.打印两个样本查看结果。"
   ]
  },
  {
   "cell_type": "code",
   "execution_count": 12,
   "metadata": {},
   "outputs": [
    {
     "data": {
      "text/plain": [
       "array([ 8505, 22227, 20800, 14218, 12831, 14314, 21503,   754,  1733,\n",
       "        9528, 15934, 11305, 16973,  4192, 13857, 19519, 20800,  4298,\n",
       "        4531,  4531,  4531,  8250, 10257, 19897, 20800,  4531,  4531,\n",
       "        4531, 13655,  3104,  9667, 15929, 21681, 17363, 15929, 19894,\n",
       "        3277, 10466, 20800, 15642,  4700, 21317, 11915,    82, 23261,\n",
       "        4531,  4531,  4531,  4531,  4531,  4531,  4531,  4531,  7337,\n",
       "         800, 22664, 21681,  4260,  4531,  4531,  8705,    82,  8503,\n",
       "        4531,  4531,  4531,  4531,  4531,  4531,  4531,  4531,  7337,\n",
       "        7975, 14548, 22312, 14218, 20328, 20800, 16717,  4298,  1439,\n",
       "       20800, 22664,  5748,   294, 18176,  1360, 13076, 20800,  3441,\n",
       "        8285, 14314,     0,     0,     0,     0,     0,     0,     0,\n",
       "           0])"
      ]
     },
     "execution_count": 12,
     "metadata": {},
     "output_type": "execute_result"
    }
   ],
   "source": [
    "x[0]"
   ]
  },
  {
   "cell_type": "code",
   "execution_count": 14,
   "metadata": {},
   "outputs": [],
   "source": [
    "x_train,x_valid,y_train, y_valid = train_test_split(x,y, test_size=0.2, random_state=42)"
   ]
  },
  {
   "cell_type": "code",
   "execution_count": 15,
   "metadata": {},
   "outputs": [
    {
     "data": {
      "text/plain": [
       "5462"
      ]
     },
     "execution_count": 15,
     "metadata": {},
     "output_type": "execute_result"
    }
   ],
   "source": [
    "len(x_train)"
   ]
  },
  {
   "cell_type": "code",
   "execution_count": 16,
   "metadata": {},
   "outputs": [
    {
     "data": {
      "text/plain": [
       "array([1, 1, 2, 2, 2, 5, 2, 2, 1, 2], dtype=int64)"
      ]
     },
     "execution_count": 16,
     "metadata": {},
     "output_type": "execute_result"
    }
   ],
   "source": [
    "y_train[0:10]"
   ]
  },
  {
   "cell_type": "code",
   "execution_count": 49,
   "metadata": {},
   "outputs": [
    {
     "data": {
      "text/plain": [
       "5462"
      ]
     },
     "execution_count": 49,
     "metadata": {},
     "output_type": "execute_result"
    }
   ],
   "source": [
    "len(y_train)"
   ]
  },
  {
   "cell_type": "markdown",
   "metadata": {},
   "source": [
    "### 2.设置模型"
   ]
  },
  {
   "cell_type": "markdown",
   "metadata": {},
   "source": [
    " - a.设置 embedding 层输出维度 embed_dim=200；\n",
    " - b.卷积层设置三种卷积核大小 kernel_size=[2,3,4]，每种大小用64 个卷积核，即 filters=64；\n",
    " - c.倒数第二的全连接 dense 层输出 64 维，Relu 激活；\n",
    " - d.最后一个输出二分类结果，1 个节点，sigmoid 激活。\n",
    " "
   ]
  },
  {
   "cell_type": "code",
   "execution_count": 17,
   "metadata": {},
   "outputs": [],
   "source": [
    "class TextCNN(object):\n",
    "    def __init__(self, config):\n",
    "        self.config = config\n",
    "        self.preprocessor = Preprocessor(config)\n",
    "        self.class_name = {0:\"求助\" , 1:\"治安案件\", 2:\"纠纷\", 3:\"举报\",4: \"其它报警\",5:\"刑事案件\"}\n",
    "    \n",
    "    def build_model(self):\n",
    "        # 模型架构搭建\n",
    "        idx_input = tf.keras.layers.Input((self.config.max_seq_len,))\n",
    "        input_embedding = tf.keras.layers.Embedding(len(self.preprocessor.token2idx),\n",
    "                    self.config.embedding_dim,\n",
    "                    input_length=self.config.max_seq_len,\n",
    "                    mask_zero=True)(idx_input)\n",
    "        convs = []\n",
    "        for kernel_size in [2, 3, 4]:\n",
    "            c = tf.keras.layers.Conv1D(64, kernel_size, activation='relu')(input_embedding)\n",
    "            c = tf.keras.layers.GlobalMaxPooling1D()(c)\n",
    "            convs.append(c)\n",
    "        fea_cnn = tf.keras.layers.Concatenate()(convs)\n",
    "        fea_cnn_dropout = tf.keras.layers.Dropout(rate=0.4)(fea_cnn)\n",
    "        \n",
    "        fea_dense = tf.keras.layers.Dense(64, activation='relu')(fea_cnn_dropout)\n",
    "        output = tf.keras.layers.Dense(6, activation='softmax')(fea_dense)\n",
    "        \n",
    "        model = tf.keras.Model(inputs=idx_input, outputs=output)\n",
    "        model.compile(loss='sparse_categorical_crossentropy',\n",
    "              optimizer='adam',\n",
    "              metrics=['accuracy'])\n",
    "        \n",
    "        model.summary()\n",
    "        \n",
    "        self.model = model\n",
    "    \n",
    "    def fit(self, x_train, y_train, x_valid=None, y_valid=None, epochs=5, batch_size=128, callbacks=None, **kwargs):\n",
    "        # 训练\n",
    "        valid_data = None\n",
    "        if x_valid is not None and y_valid is not None:\n",
    "            valid_data = (x_valid, y_valid)\n",
    "\n",
    "        self.history=self.model.fit(\n",
    "            x=x_train,\n",
    "            y=y_train,\n",
    "            validation_data= valid_data,\n",
    "            batch_size=batch_size,\n",
    "            epochs=epochs,\n",
    "            callbacks=callbacks,\n",
    "            **kwargs\n",
    "        )\n",
    "        \n",
    "    def evaluate(self, x_test, y_test):\n",
    "        # 评估\n",
    "        y_pred_probs = self.model.predict(x_test)\n",
    "        y_pred = np.argmax(y_pred_probs, axis=-1)\n",
    "        result = classification_report(y_test, y_pred, target_names=['求助','治安案件','纠纷','举报','其它报警','刑事案件'])\n",
    "        print(result)\n",
    "        \n",
    "        \n",
    "    def single_predict(self, text):\n",
    "        # 预测\n",
    "        #test=re.sub(\"[0-9]+|年|月|日|时|分|，|、|：|。|:|[*]|（.*?）|{.*?}|[.*?]|【.*?】\", \"\",text)\n",
    "        input_idx = self.preprocessor.transform([text])\n",
    "        predict_prob = self.model.predict(input_idx)[0]\n",
    "        predict_label_id = np.argmax(predict_prob)\n",
    "        \n",
    "        predict_label_name = self.class_name[predict_label_id]\n",
    "        predict_label_prob = predict_prob[predict_label_id]\n",
    "        \n",
    "        return predict_label_name, predict_label_prob\n",
    "    \n",
    "    def load_model(self, ckpt_file):\n",
    "        self.build_model()\n",
    "        self.model.load_weights(ckpt_file)"
   ]
  },
  {
   "cell_type": "markdown",
   "metadata": {},
   "source": [
    "#### 打印模型参数"
   ]
  },
  {
   "cell_type": "code",
   "execution_count": 18,
   "metadata": {},
   "outputs": [
    {
     "name": "stdout",
     "output_type": "stream",
     "text": [
      "Model: \"functional_1\"\n",
      "__________________________________________________________________________________________________\n",
      "Layer (type)                    Output Shape         Param #     Connected to                     \n",
      "==================================================================================================\n",
      "input_1 (InputLayer)            [(None, 100)]        0                                            \n",
      "__________________________________________________________________________________________________\n",
      "embedding (Embedding)           (None, 100, 200)     4684600     input_1[0][0]                    \n",
      "__________________________________________________________________________________________________\n",
      "conv1d (Conv1D)                 (None, 99, 64)       25664       embedding[0][0]                  \n",
      "__________________________________________________________________________________________________\n",
      "conv1d_1 (Conv1D)               (None, 98, 64)       38464       embedding[0][0]                  \n",
      "__________________________________________________________________________________________________\n",
      "conv1d_2 (Conv1D)               (None, 97, 64)       51264       embedding[0][0]                  \n",
      "__________________________________________________________________________________________________\n",
      "global_max_pooling1d (GlobalMax (None, 64)           0           conv1d[0][0]                     \n",
      "__________________________________________________________________________________________________\n",
      "global_max_pooling1d_1 (GlobalM (None, 64)           0           conv1d_1[0][0]                   \n",
      "__________________________________________________________________________________________________\n",
      "global_max_pooling1d_2 (GlobalM (None, 64)           0           conv1d_2[0][0]                   \n",
      "__________________________________________________________________________________________________\n",
      "concatenate (Concatenate)       (None, 192)          0           global_max_pooling1d[0][0]       \n",
      "                                                                 global_max_pooling1d_1[0][0]     \n",
      "                                                                 global_max_pooling1d_2[0][0]     \n",
      "__________________________________________________________________________________________________\n",
      "dropout (Dropout)               (None, 192)          0           concatenate[0][0]                \n",
      "__________________________________________________________________________________________________\n",
      "dense (Dense)                   (None, 64)           12352       dropout[0][0]                    \n",
      "__________________________________________________________________________________________________\n",
      "dense_1 (Dense)                 (None, 6)            390         dense[0][0]                      \n",
      "==================================================================================================\n",
      "Total params: 4,812,734\n",
      "Trainable params: 4,812,734\n",
      "Non-trainable params: 0\n",
      "__________________________________________________________________________________________________\n"
     ]
    }
   ],
   "source": [
    "textcnn = TextCNN(config1)\n",
    "textcnn.build_model()"
   ]
  },
  {
   "cell_type": "markdown",
   "metadata": {},
   "source": [
    "### 3.训练模型"
   ]
  },
  {
   "cell_type": "markdown",
   "metadata": {},
   "source": [
    "#### a.设置损失函数、epoch、优化器、学习率等超参数并训练模型。"
   ]
  },
  {
   "cell_type": "code",
   "execution_count": 19,
   "metadata": {},
   "outputs": [],
   "source": [
    "# 定义early stop早停回调函数\n",
    "patience = 8\n",
    "early_stop = tf.keras.callbacks.EarlyStopping(monitor='val_loss', patience=patience)\n",
    "\n",
    "# 定义checkpoint回调函数\n",
    "checkpoint_prefix = './checkpoints/textcnn_imdb_ckpt'\n",
    "checkpoint_callback=tf.keras.callbacks.ModelCheckpoint(\n",
    "    filepath=checkpoint_prefix,\n",
    "    save_weights_only=True,\n",
    "    save_best_only=True)"
   ]
  },
  {
   "cell_type": "code",
   "execution_count": 21,
   "metadata": {},
   "outputs": [
    {
     "name": "stdout",
     "output_type": "stream",
     "text": [
      "Epoch 1/50\n",
      "43/43 [==============================] - 3s 59ms/step - loss: 1.4399 - accuracy: 0.4302 - val_loss: 1.1686 - val_accuracy: 0.5139\n",
      "Epoch 2/50\n",
      "43/43 [==============================] - 3s 67ms/step - loss: 0.9253 - accuracy: 0.6750 - val_loss: 0.7322 - val_accuracy: 0.7438\n",
      "Epoch 3/50\n",
      "43/43 [==============================] - 2s 51ms/step - loss: 0.6369 - accuracy: 0.7770 - val_loss: 0.6068 - val_accuracy: 0.7928\n",
      "Epoch 4/50\n",
      "43/43 [==============================] - 2s 51ms/step - loss: 0.4753 - accuracy: 0.8404 - val_loss: 0.5654 - val_accuracy: 0.7980\n",
      "Epoch 5/50\n",
      "43/43 [==============================] - 2s 49ms/step - loss: 0.3489 - accuracy: 0.8880 - val_loss: 0.5503 - val_accuracy: 0.8023\n",
      "Epoch 6/50\n",
      "43/43 [==============================] - 2s 44ms/step - loss: 0.2421 - accuracy: 0.9248 - val_loss: 0.5513 - val_accuracy: 0.8119\n",
      "Epoch 7/50\n",
      "43/43 [==============================] - 2s 44ms/step - loss: 0.1536 - accuracy: 0.9608 - val_loss: 0.5751 - val_accuracy: 0.8082\n",
      "Epoch 8/50\n",
      "43/43 [==============================] - 2s 46ms/step - loss: 0.0962 - accuracy: 0.9782 - val_loss: 0.6092 - val_accuracy: 0.8082\n",
      "Epoch 9/50\n",
      "43/43 [==============================] - 2s 45ms/step - loss: 0.0589 - accuracy: 0.9879 - val_loss: 0.6228 - val_accuracy: 0.8089\n",
      "Epoch 10/50\n",
      "43/43 [==============================] - 2s 44ms/step - loss: 0.0372 - accuracy: 0.9932 - val_loss: 0.6720 - val_accuracy: 0.8082\n",
      "Epoch 11/50\n",
      "43/43 [==============================] - 2s 44ms/step - loss: 0.0278 - accuracy: 0.9947 - val_loss: 0.7028 - val_accuracy: 0.8097\n",
      "Epoch 12/50\n",
      "43/43 [==============================] - 2s 44ms/step - loss: 0.0223 - accuracy: 0.9962 - val_loss: 0.7366 - val_accuracy: 0.8009\n",
      "Epoch 13/50\n",
      "43/43 [==============================] - 2s 44ms/step - loss: 0.0153 - accuracy: 0.9982 - val_loss: 0.7593 - val_accuracy: 0.8060\n"
     ]
    }
   ],
   "source": [
    "textcnn.fit(x_train, y_train, x_valid, y_valid, epochs=50, callbacks=[early_stop, checkpoint_callback]) # 训练"
   ]
  },
  {
   "cell_type": "markdown",
   "metadata": {},
   "source": [
    "#### b.打印模型的学习曲线"
   ]
  },
  {
   "cell_type": "code",
   "execution_count": 22,
   "metadata": {},
   "outputs": [
    {
     "data": {
      "image/png": "[encoded data removed]",
      "text/plain": [
       "<Figure size 1080x576 with 1 Axes>"
      ]
     },
     "metadata": {
      "needs_background": "light"
     },
     "output_type": "display_data"
    }
   ],
   "source": [
    "pd.DataFrame(textcnn.history.history).plot(figsize=(15,8))\n",
    "plt.grid(True)\n",
    "plt.gca().set_ylim(0,1)\n",
    "plt.xlabel(\"epochs\")\n",
    "plt.show()"
   ]
  },
  {
   "cell_type": "markdown",
   "metadata": {},
   "source": [
    "#### 测试集准确率"
   ]
  },
  {
   "cell_type": "code",
   "execution_count": 23,
   "metadata": {
    "scrolled": true
   },
   "outputs": [
    {
     "name": "stdout",
     "output_type": "stream",
     "text": [
      "              precision    recall  f1-score   support\n",
      "\n",
      "          求助       0.79      0.74      0.76       244\n",
      "        治安案件       0.85      0.76      0.80       225\n",
      "          纠纷       0.82      0.93      0.87       568\n",
      "          举报       0.79      0.66      0.72        35\n",
      "        其它报警       0.57      0.49      0.53       209\n",
      "        刑事案件       0.78      0.80      0.79        85\n",
      "\n",
      "    accuracy                           0.78      1366\n",
      "   macro avg       0.77      0.73      0.75      1366\n",
      "weighted avg       0.78      0.78      0.78      1366\n",
      "\n"
     ]
    }
   ],
   "source": [
    "textcnn.evaluate(x_test,y_test)"
   ]
  },
  {
   "cell_type": "markdown",
   "metadata": {},
   "source": [
    "#### 单句预测"
   ]
  },
  {
   "cell_type": "code",
   "execution_count": 24,
   "metadata": {},
   "outputs": [
    {
     "data": {
      "text/plain": [
       "('举报', 0.85249484)"
      ]
     },
     "execution_count": 24,
     "metadata": {},
     "output_type": "execute_result"
    }
   ],
   "source": [
    "textcnn.single_predict(\"有人聚众赌博打牌、邪教\") # 单句预测"
   ]
  }
 ],
 "metadata": {
  "kernelspec": {
   "display_name": "Python 3",
   "language": "python",
   "name": "python3"
  },
  "language_info": {
   "codemirror_mode": {
    "name": "ipython",
    "version": 3
   },
   "file_extension": ".py",
   "mimetype": "text/x-python",
   "name": "python",
   "nbconvert_exporter": "python",
   "pygments_lexer": "ipython3",
   "version": "3.8.5"
  }
 },
 "nbformat": 4,
 "nbformat_minor": 4
}
