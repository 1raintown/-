{
 "cells": [
  {
   "cell_type": "markdown",
   "metadata": {},
   "source": [
    "\n",
    "<h1 align=center><font size = 5> <center>文本分析与挖掘</center> </font></h1> \n",
    "\n",
    "<h2 align=center><font size = 4><center>期末综合作业</center></font></h2>\n",
    "<h2 align=center><font size = 2><center>浙江工业大学计算机科学与技术学院</center></font></h2>"
   ]
  },
  {
   "cell_type": "markdown",
   "metadata": {},
   "source": [
    "# 对文本进行适当的预处理"
   ]
  },
  {
   "cell_type": "markdown",
   "metadata": {},
   "source": [
    "对报警情况和出警内容进行一些预处理后进行训练。"
   ]
  },
  {
   "cell_type": "code",
   "execution_count": 2,
   "metadata": {},
   "outputs": [],
   "source": [
    "import jieba\n",
    "import pandas as pd\n",
    "import numpy as np\n",
    "import tensorflow as tf\n",
    "from tensorflow.keras.preprocessing.sequence import pad_sequences\n",
    "from sklearn.metrics import classification_report\n",
    "import unicodedata\n",
    "import matplotlib.pyplot as plt\n",
    "from sklearn import preprocessing\n",
    "from sklearn.model_selection import train_test_split\n",
    "import re\n",
    "from imblearn.over_sampling import SMOTE\n"
   ]
  },
  {
   "cell_type": "code",
   "execution_count": 2,
   "metadata": {},
   "outputs": [],
   "source": [
    "np.set_printoptions(threshold=10000) #全显示"
   ]
  },
  {
   "cell_type": "markdown",
   "metadata": {},
   "source": [
    "### 1.预训练"
   ]
  },
  {
   "cell_type": "markdown",
   "metadata": {},
   "source": [
    "#### a. 加载数据"
   ]
  },
  {
   "cell_type": "code",
   "execution_count": 3,
   "metadata": {},
   "outputs": [],
   "source": [
    "x_train_data=pd.read_excel('警情数据集/X_train.xlsx')\n",
    "x_test_data=pd.read_excel('警情数据集/X_test.xlsx')\n",
    "\n",
    "y_train_data=pd.read_excel('警情数据集/y_train.xlsx')\n",
    "y=y_train_data['最终反馈警情类别']\n",
    "y_test_data=pd.read_excel('警情数据集/y_test.xlsx')\n",
    "y_test=y_test_data['最终反馈警情类别']\n",
    "\n",
    "x=x_train_data['报警内容']+'。'+x_train_data['出警情况（反馈内容）']\n",
    "x_test=x_test_data['报警内容']+'。'+x_test_data['出警情况（反馈内容）']"
   ]
  },
  {
   "cell_type": "code",
   "execution_count": 4,
   "metadata": {},
   "outputs": [],
   "source": [
    "title_mapping = {\"求助\": 0, \"治安案件\": 1, \"纠纷\": 2, \"举报\": 3, \"其它报警\": 4,\"刑事案件\":5}#将标签对应数值\n",
    "y= y.map(title_mapping)#处理数据\n",
    "y = y.fillna(0).values##将其余标签填充为0值\n",
    "y_test= y_test.map(title_mapping)#处理数据\n",
    "y_test = y_test.fillna(0).values##将其余标签填充为0值\n",
    "\n"
   ]
  },
  {
   "cell_type": "markdown",
   "metadata": {},
   "source": [
    "#### 查看文本"
   ]
  },
  {
   "cell_type": "code",
   "execution_count": 5,
   "metadata": {},
   "outputs": [
    {
     "name": "stdout",
     "output_type": "stream",
     "text": [
      "文本1： 事故后期，赔偿纠纷。2019年7月27日9时41分许，民警***带领辅警冯诚军，***到达萧山区靖江路与广场路西面100米，经了解系胡选学（1993********）称其与对方**水（1970********）因交通事故后赔偿产生纠纷，后经民警工作，其表示会自行协调处理，现已平息。\n",
      "文本2： 称因感情问题，妹妹扬言要自杀  已通知120。民警***带领辅警**、***、**到达二桥村327号报警现场，经了解报警人***（男：1999********电话：183********）称其妹妹***（女：浙江省仙居县人 14岁 电话：135********）因感情问题，情绪比较激动（未有自杀行为）。民警现场了解情况后经劝说，等***情绪平复下来，由***的母亲***（女：浙江省仙居县人 51岁 电话：155********）看管照顾。（警务通）值班民警：***\n"
     ]
    }
   ],
   "source": [
    "print(\"文本1：\",x[0])\n",
    "print(\"文本2：\",x[1])"
   ]
  },
  {
   "cell_type": "markdown",
   "metadata": {},
   "source": [
    "<div class=\"alert alert-success alertsuccess\" style=\"margin-top: 10px\">\n",
    "查看文本，有大量的无用字符\"*\"，而且括号中的信息多为身份信息、日期和电话等，也对分类无效，应当进行清除"
   ]
  },
  {
   "cell_type": "code",
   "execution_count": 6,
   "metadata": {},
   "outputs": [],
   "source": [
    "x_doc = x.apply(lambda x: re.sub(\"[0-9]+|年|月|日|时|分|、|。|，|：|:|[*]|（.*?）|{.*?}|[.*?]|【.*?】\", \"\",x))\n",
    "x_test_doc = x_test.apply(lambda x: re.sub(\"[0-9]+|年|月|日|时|分|、|。|，|：|:|[*]|（.*?）|{.*?}|[.*?]|【.*?】\", \"\",x))"
   ]
  },
  {
   "cell_type": "markdown",
   "metadata": {},
   "source": [
    "#### 查看清洗后的文本"
   ]
  },
  {
   "cell_type": "code",
   "execution_count": 7,
   "metadata": {},
   "outputs": [
    {
     "name": "stdout",
     "output_type": "stream",
     "text": [
      "清洗文本1： 事故后期赔偿纠纷许民警带领辅警冯诚军到达萧山区靖江路与广场路西面米经了解系胡选学称其与对方水因交通事故后赔偿产生纠纷后经民警工作其表示会自行协调处理现已平息\n",
      "清洗文本2： 称因感情问题妹妹扬言要自杀  已通知民警带领辅警到达二桥村号报警现场经了解报警人称其妹妹因感情问题情绪比较激动民警现场了解情况后经劝说等情绪平复下来由的母亲看管照顾值班民警\n"
     ]
    }
   ],
   "source": [
    "print(\"清洗文本1：\",x_doc[0])\n",
    "print(\"清洗文本2：\",x_doc[1])"
   ]
  },
  {
   "cell_type": "code",
   "execution_count": 8,
   "metadata": {},
   "outputs": [],
   "source": [
    "cut_docs = x_doc.apply(lambda x: jieba.cut(x)).values"
   ]
  },
  {
   "cell_type": "code",
   "execution_count": 9,
   "metadata": {},
   "outputs": [
    {
     "name": "stderr",
     "output_type": "stream",
     "text": [
      "Building prefix dict from the default dictionary ...\n",
      "Loading model from cache C:\\Users\\DELL\\AppData\\Local\\Temp\\jieba.cache\n",
      "Loading model cost 0.563 seconds.\n",
      "Prefix dict has been built successfully.\n"
     ]
    }
   ],
   "source": [
    "#构建词汇表\n",
    "vocab = set()\n",
    "\n",
    "for doc in cut_docs:\n",
    "    for word in doc:\n",
    "        if word.strip():\n",
    "                vocab.add(word.strip())\n",
    "                \n",
    "# 将词表写入本地vocab.txt文件\n",
    "with open('clean_vocab.txt', 'w') as file:\n",
    "    for word in  vocab:\n",
    "        file.write(word)\n",
    "        file.write('\\n')\n"
   ]
  },
  {
   "cell_type": "code",
   "execution_count": 10,
   "metadata": {},
   "outputs": [],
   "source": [
    "#配置类\n",
    "class Config():\n",
    "    def __init__(self,embedding_dim, max_seq_len):\n",
    "        self.embedding_dim = embedding_dim # 词向量维度\n",
    "        self.max_seq_len = max_seq_len # 文章长度\n",
    "        self.vocab_file = 'clean_vocab.txt' # 词汇表文件路径\n",
    "\n",
    "#预处理类\n",
    "class Preprocessor():\n",
    "    def __init__(self, config):\n",
    "        self.config = config\n",
    "        # 初始化词和id的映射词典，预留0给padding字符，1给词表中未见过的词\n",
    "        token2idx = {\"[PAD]\": 0, \"[UNK]\": 1} # {word：id}\n",
    "        with open(config.vocab_file, 'r') as reader:\n",
    "            for index, line in enumerate(reader):\n",
    "                token = line.strip()\n",
    "                token2idx[token] = index+2\n",
    "                \n",
    "        self.token2idx = token2idx\n",
    "        \n",
    "    def transform(self, text_list):\n",
    "        # 文本分词，并将词转换成相应的id, 最后不同长度的文本padding长统一长度，后面补0\n",
    "        idx_list = [[self.token2idx.get(word.strip(), self.token2idx['[UNK]']) for word in jieba.cut(text)] for text in text_list]\n",
    "        idx_padding = pad_sequences(idx_list, self.config.max_seq_len, padding='post')\n",
    "        \n",
    "        return idx_padding"
   ]
  },
  {
   "cell_type": "markdown",
   "metadata": {},
   "source": [
    "#### b.把每个句子/评论转成长度统一为 max_len=100 的向量，太长的截断，太短的后面补零。"
   ]
  },
  {
   "cell_type": "code",
   "execution_count": 11,
   "metadata": {},
   "outputs": [],
   "source": [
    "config1 = Config(200,100)#词向量维度=200,句长为100\n",
    "preprocessor1 = Preprocessor(config1)"
   ]
  },
  {
   "cell_type": "code",
   "execution_count": 12,
   "metadata": {},
   "outputs": [],
   "source": [
    "x=preprocessor1.transform(x_doc)\n",
    "\n",
    "x_test=preprocessor1.transform(x_test_doc)"
   ]
  },
  {
   "cell_type": "markdown",
   "metadata": {},
   "source": [
    "#### c.打印两个样本查看结果。"
   ]
  },
  {
   "cell_type": "code",
   "execution_count": 13,
   "metadata": {},
   "outputs": [
    {
     "name": "stdout",
     "output_type": "stream",
     "text": [
      "100\n"
     ]
    }
   ],
   "source": [
    "print(len(x[0]))"
   ]
  },
  {
   "cell_type": "code",
   "execution_count": 14,
   "metadata": {},
   "outputs": [
    {
     "data": {
      "text/plain": [
       "array([ 5321,  7769,  8814,  4828,  2158, 12550,  9949, 11270, 15599,\n",
       "        4216, 13406,  2383, 13649, 15035,  2048, 13649,  4612,  6703,\n",
       "        2659,  7936,  2662, 16128, 14116, 15035, 11027, 10509,  2565,\n",
       "       12127,  8814,  4712,  6610, 12550,  6958, 14116, 16724, 13172,\n",
       "       16391,  3822, 15042,  2883, 11970,     0,     0,     0,     0,\n",
       "           0,     0,     0,     0,     0,     0,     0,     0,     0,\n",
       "           0,     0,     0,     0,     0,     0,     0,     0,     0,\n",
       "           0,     0,     0,     0,     0,     0,     0,     0,     0,\n",
       "           0,     0,     0,     0,     0,     0,     0,     0,     0,\n",
       "           0,     0,     0,     0,     0,     0,     0,     0,     0,\n",
       "           0,     0,     0,     0,     0,     0,     0,     0,     0,\n",
       "           0])"
      ]
     },
     "execution_count": 14,
     "metadata": {},
     "output_type": "execute_result"
    }
   ],
   "source": [
    "x[0]"
   ]
  },
  {
   "cell_type": "code",
   "execution_count": 15,
   "metadata": {},
   "outputs": [],
   "source": [
    "x_train,x_valid,y_train, y_valid = train_test_split(x,y, test_size=0.2, random_state=42)"
   ]
  },
  {
   "cell_type": "markdown",
   "metadata": {},
   "source": [
    "### 2.设置模型"
   ]
  },
  {
   "cell_type": "markdown",
   "metadata": {},
   "source": [
    " - a.设置 embedding 层输出维度 embed_dim=200；\n",
    " - b.卷积层设置三种卷积核大小 kernel_size=[2,3,4]，每种大小用64 个卷积核，即 filters=64；\n",
    " - c.倒数第二的全连接 dense 层输出 64 维，Relu 激活；\n",
    " - d.最后一个输出二分类结果，1 个节点，sigmoid 激活。\n",
    " "
   ]
  },
  {
   "cell_type": "code",
   "execution_count": 40,
   "metadata": {},
   "outputs": [],
   "source": [
    "class TextCNN(object):\n",
    "    def __init__(self, config):\n",
    "        self.config = config\n",
    "        self.preprocessor = Preprocessor(config)\n",
    "        self.class_name = {0:\"求助\" , 1:\"治安案件\", 2:\"纠纷\", 3:\"举报\",4: \"其它报警\",5:\"刑事案件\"}\n",
    "    \n",
    "    def build_model(self):\n",
    "        # 模型架构搭建\n",
    "        idx_input = tf.keras.layers.Input((self.config.max_seq_len,))\n",
    "        input_embedding = tf.keras.layers.Embedding(len(self.preprocessor.token2idx),\n",
    "                    self.config.embedding_dim,\n",
    "                    input_length=self.config.max_seq_len,\n",
    "                    mask_zero=True)(idx_input)\n",
    "        convs = []\n",
    "        for kernel_size in [2, 3, 4]:\n",
    "            c = tf.keras.layers.Conv1D(64, kernel_size, activation='relu')(input_embedding)\n",
    "            c = tf.keras.layers.GlobalMaxPooling1D()(c)\n",
    "            convs.append(c)\n",
    "        fea_cnn = tf.keras.layers.Concatenate()(convs)\n",
    "        fea_cnn_dropout = tf.keras.layers.Dropout(rate=0.4)(fea_cnn)\n",
    "        \n",
    "        fea_dense = tf.keras.layers.Dense(64, activation='relu')(fea_cnn_dropout)\n",
    "        output = tf.keras.layers.Dense(6, activation='softmax')(fea_dense)\n",
    "        \n",
    "        model = tf.keras.Model(inputs=idx_input, outputs=output)\n",
    "        model.compile(loss='sparse_categorical_crossentropy',\n",
    "              optimizer=tf.keras.optimizers.Adam(lr = 0.001,decay =1e-2),\n",
    "              metrics=['accuracy'])\n",
    "        \n",
    "        model.summary()\n",
    "        \n",
    "        self.model = model\n",
    "    \n",
    "    def fit(self, x_train, y_train, x_valid=None, y_valid=None, epochs=5, batch_size=128, callbacks=None, **kwargs):\n",
    "        # 训练\n",
    "        valid_data = None\n",
    "        if x_valid is not None and y_valid is not None:\n",
    "            valid_data = (x_valid, y_valid)\n",
    "\n",
    "        self.history=self.model.fit(\n",
    "            x=x_train,\n",
    "            y=y_train,\n",
    "            validation_data= valid_data,\n",
    "            batch_size=batch_size,\n",
    "            epochs=epochs,\n",
    "            callbacks=callbacks,\n",
    "            **kwargs\n",
    "        )\n",
    "        \n",
    "    def evaluate(self, x_test, y_test):\n",
    "        # 评估\n",
    "        y_pred_probs = self.model.predict(x_test)\n",
    "        y_pred = np.argmax(y_pred_probs, axis=-1)\n",
    "        result = classification_report(y_test, y_pred, target_names=['求助','治安案件','纠纷','举报','其它报警','刑事案件'])\n",
    "        print(result)\n",
    "        \n",
    "        \n",
    "    def single_predict(self, text):\n",
    "        # 预测\n",
    "        test=re.sub(\"[0-9]+|年|月|日|时|分|、|：||:|[*]|（.*?）|{.*?}|[.*?]|【.*?】\", \"\",text)\n",
    "        input_idx = self.preprocessor.transform([text])\n",
    "        predict_prob = self.model.predict(input_idx)[0]\n",
    "        predict_label_id = np.argmax(predict_prob)\n",
    "        \n",
    "        predict_label_name = self.class_name[predict_label_id]\n",
    "        predict_label_prob = predict_prob[predict_label_id]\n",
    "        \n",
    "        return predict_label_name, predict_label_prob\n",
    "    \n",
    "    def load_model(self, ckpt_file):\n",
    "        self.build_model()\n",
    "        self.model.load_weights(ckpt_file)"
   ]
  },
  {
   "cell_type": "markdown",
   "metadata": {},
   "source": [
    "#### 打印模型参数"
   ]
  },
  {
   "cell_type": "code",
   "execution_count": 41,
   "metadata": {},
   "outputs": [
    {
     "name": "stdout",
     "output_type": "stream",
     "text": [
      "Model: \"functional_15\"\n",
      "__________________________________________________________________________________________________\n",
      "Layer (type)                    Output Shape         Param #     Connected to                     \n",
      "==================================================================================================\n",
      "input_8 (InputLayer)            [(None, 100)]        0                                            \n",
      "__________________________________________________________________________________________________\n",
      "embedding_7 (Embedding)         (None, 100, 200)     3465800     input_8[0][0]                    \n",
      "__________________________________________________________________________________________________\n",
      "conv1d_21 (Conv1D)              (None, 99, 64)       25664       embedding_7[0][0]                \n",
      "__________________________________________________________________________________________________\n",
      "conv1d_22 (Conv1D)              (None, 98, 64)       38464       embedding_7[0][0]                \n",
      "__________________________________________________________________________________________________\n",
      "conv1d_23 (Conv1D)              (None, 97, 64)       51264       embedding_7[0][0]                \n",
      "__________________________________________________________________________________________________\n",
      "global_max_pooling1d_21 (Global (None, 64)           0           conv1d_21[0][0]                  \n",
      "__________________________________________________________________________________________________\n",
      "global_max_pooling1d_22 (Global (None, 64)           0           conv1d_22[0][0]                  \n",
      "__________________________________________________________________________________________________\n",
      "global_max_pooling1d_23 (Global (None, 64)           0           conv1d_23[0][0]                  \n",
      "__________________________________________________________________________________________________\n",
      "concatenate_7 (Concatenate)     (None, 192)          0           global_max_pooling1d_21[0][0]    \n",
      "                                                                 global_max_pooling1d_22[0][0]    \n",
      "                                                                 global_max_pooling1d_23[0][0]    \n",
      "__________________________________________________________________________________________________\n",
      "dropout_7 (Dropout)             (None, 192)          0           concatenate_7[0][0]              \n",
      "__________________________________________________________________________________________________\n",
      "dense_14 (Dense)                (None, 64)           12352       dropout_7[0][0]                  \n",
      "__________________________________________________________________________________________________\n",
      "dense_15 (Dense)                (None, 6)            390         dense_14[0][0]                   \n",
      "==================================================================================================\n",
      "Total params: 3,593,934\n",
      "Trainable params: 3,593,934\n",
      "Non-trainable params: 0\n",
      "__________________________________________________________________________________________________\n"
     ]
    }
   ],
   "source": [
    "textcnn = TextCNN(config1)\n",
    "textcnn.build_model()"
   ]
  },
  {
   "cell_type": "markdown",
   "metadata": {},
   "source": [
    "### 3.训练模型"
   ]
  },
  {
   "cell_type": "markdown",
   "metadata": {},
   "source": [
    "#### a.设置损失函数、epoch、优化器、学习率等超参数并训练模型。"
   ]
  },
  {
   "cell_type": "code",
   "execution_count": 42,
   "metadata": {},
   "outputs": [],
   "source": [
    "# 定义early stop早停回调函数\n",
    "patience = 3\n",
    "early_stop = tf.keras.callbacks.EarlyStopping(monitor='val_loss', patience=patience)\n",
    "\n",
    "# 定义checkpoint回调函数\n",
    "checkpoint_prefix = './clean_checkpoints/textcnn_imdb_ckpt'\n",
    "checkpoint_callback=tf.keras.callbacks.ModelCheckpoint(\n",
    "    filepath=checkpoint_prefix,\n",
    "    save_weights_only=True,\n",
    "    save_best_only=True)"
   ]
  },
  {
   "cell_type": "code",
   "execution_count": 43,
   "metadata": {
    "scrolled": true
   },
   "outputs": [
    {
     "name": "stdout",
     "output_type": "stream",
     "text": [
      "Epoch 1/50\n",
      "43/43 [==============================] - 2s 46ms/step - loss: 1.4444 - accuracy: 0.4176 - val_loss: 1.1631 - val_accuracy: 0.4941\n",
      "Epoch 2/50\n",
      "43/43 [==============================] - 2s 52ms/step - loss: 0.9490 - accuracy: 0.6677 - val_loss: 0.7727 - val_accuracy: 0.7167\n",
      "Epoch 3/50\n",
      "43/43 [==============================] - 2s 57ms/step - loss: 0.6999 - accuracy: 0.7545 - val_loss: 0.6437 - val_accuracy: 0.7782\n",
      "Epoch 4/50\n",
      "43/43 [==============================] - 2s 41ms/step - loss: 0.5755 - accuracy: 0.8008 - val_loss: 0.5842 - val_accuracy: 0.7943\n",
      "Epoch 5/50\n",
      "43/43 [==============================] - 2s 40ms/step - loss: 0.5050 - accuracy: 0.8283 - val_loss: 0.5537 - val_accuracy: 0.8045\n",
      "Epoch 6/50\n",
      "43/43 [==============================] - 2s 41ms/step - loss: 0.4379 - accuracy: 0.8585 - val_loss: 0.5307 - val_accuracy: 0.8133\n",
      "Epoch 7/50\n",
      "43/43 [==============================] - 2s 40ms/step - loss: 0.4019 - accuracy: 0.8715 - val_loss: 0.5158 - val_accuracy: 0.8184\n",
      "Epoch 8/50\n",
      "43/43 [==============================] - 2s 40ms/step - loss: 0.3545 - accuracy: 0.8865 - val_loss: 0.5117 - val_accuracy: 0.8243\n",
      "Epoch 9/50\n",
      "43/43 [==============================] - 2s 41ms/step - loss: 0.3335 - accuracy: 0.8934 - val_loss: 0.5040 - val_accuracy: 0.8265\n",
      "Epoch 10/50\n",
      "43/43 [==============================] - 2s 41ms/step - loss: 0.2931 - accuracy: 0.9110 - val_loss: 0.5008 - val_accuracy: 0.8280\n",
      "Epoch 11/50\n",
      "43/43 [==============================] - 2s 37ms/step - loss: 0.2661 - accuracy: 0.9202 - val_loss: 0.5029 - val_accuracy: 0.8294\n",
      "Epoch 12/50\n",
      "43/43 [==============================] - 2s 41ms/step - loss: 0.2495 - accuracy: 0.9297 - val_loss: 0.4987 - val_accuracy: 0.8309\n",
      "Epoch 13/50\n",
      "43/43 [==============================] - 2s 41ms/step - loss: 0.2250 - accuracy: 0.9383 - val_loss: 0.4964 - val_accuracy: 0.8287\n",
      "Epoch 14/50\n",
      "43/43 [==============================] - 2s 37ms/step - loss: 0.2130 - accuracy: 0.9396 - val_loss: 0.4965 - val_accuracy: 0.8287\n",
      "Epoch 15/50\n",
      "43/43 [==============================] - 2s 41ms/step - loss: 0.1956 - accuracy: 0.9489 - val_loss: 0.4961 - val_accuracy: 0.8294\n",
      "Epoch 16/50\n",
      "43/43 [==============================] - 2s 37ms/step - loss: 0.1816 - accuracy: 0.9506 - val_loss: 0.4981 - val_accuracy: 0.8287\n",
      "Epoch 17/50\n",
      "43/43 [==============================] - 2s 37ms/step - loss: 0.1698 - accuracy: 0.9522 - val_loss: 0.4978 - val_accuracy: 0.8280\n",
      "Epoch 18/50\n",
      "43/43 [==============================] - 2s 41ms/step - loss: 0.1633 - accuracy: 0.9572 - val_loss: 0.4952 - val_accuracy: 0.8287\n",
      "Epoch 19/50\n",
      "43/43 [==============================] - 2s 37ms/step - loss: 0.1545 - accuracy: 0.9606 - val_loss: 0.4987 - val_accuracy: 0.8287\n",
      "Epoch 20/50\n",
      "43/43 [==============================] - 2s 37ms/step - loss: 0.1426 - accuracy: 0.9608 - val_loss: 0.5009 - val_accuracy: 0.8280\n",
      "Epoch 21/50\n",
      "43/43 [==============================] - 2s 37ms/step - loss: 0.1318 - accuracy: 0.9685 - val_loss: 0.4996 - val_accuracy: 0.8287\n"
     ]
    }
   ],
   "source": [
    "textcnn.fit(x_train, y_train, x_valid, y_valid, epochs=50, callbacks=[early_stop, checkpoint_callback]) # 训练"
   ]
  },
  {
   "cell_type": "markdown",
   "metadata": {},
   "source": [
    "#### b.打印并观察模型的学习曲线，讨论训练情况。"
   ]
  },
  {
   "cell_type": "code",
   "execution_count": 14,
   "metadata": {},
   "outputs": [
    {
     "data": {
      "image/png": "[encoded data removed]",
      "text/plain": [
       "<Figure size 1080x576 with 1 Axes>"
      ]
     },
     "metadata": {
      "needs_background": "light"
     },
     "output_type": "display_data"
    }
   ],
   "source": [
    "pd.DataFrame(textcnn.history.history).plot(figsize=(15,8))\n",
    "plt.grid(True)\n",
    "plt.gca().set_ylim(0,1)\n",
    "plt.xlabel(\"epochs\")\n",
    "plt.show()"
   ]
  },
  {
   "cell_type": "code",
   "execution_count": 37,
   "metadata": {},
   "outputs": [
    {
     "data": {
      "text/plain": [
       "1366"
      ]
     },
     "execution_count": 37,
     "metadata": {},
     "output_type": "execute_result"
    }
   ],
   "source": [
    "len(x_test)"
   ]
  },
  {
   "cell_type": "code",
   "execution_count": 44,
   "metadata": {},
   "outputs": [
    {
     "data": {
      "text/plain": [
       "1366"
      ]
     },
     "execution_count": 44,
     "metadata": {},
     "output_type": "execute_result"
    }
   ],
   "source": [
    "len(y_test)"
   ]
  },
  {
   "cell_type": "markdown",
   "metadata": {},
   "source": [
    "#### 测试集准确率"
   ]
  },
  {
   "cell_type": "code",
   "execution_count": 44,
   "metadata": {
    "scrolled": true
   },
   "outputs": [
    {
     "name": "stdout",
     "output_type": "stream",
     "text": [
      "              precision    recall  f1-score   support\n",
      "\n",
      "          求助       0.81      0.77      0.79       244\n",
      "        治安案件       0.84      0.76      0.80       225\n",
      "          纠纷       0.86      0.94      0.89       568\n",
      "          举报       0.76      0.63      0.69        35\n",
      "        其它报警       0.61      0.58      0.59       209\n",
      "        刑事案件       0.80      0.75      0.78        85\n",
      "\n",
      "    accuracy                           0.81      1366\n",
      "   macro avg       0.78      0.74      0.76      1366\n",
      "weighted avg       0.80      0.81      0.80      1366\n",
      "\n"
     ]
    }
   ],
   "source": [
    "textcnn.evaluate(x_test,y_test)"
   ]
  },
  {
   "cell_type": "code",
   "execution_count": 46,
   "metadata": {},
   "outputs": [
    {
     "data": {
      "text/plain": [
       "('举报', 0.38402218)"
      ]
     },
     "execution_count": 46,
     "metadata": {},
     "output_type": "execute_result"
    }
   ],
   "source": [
    "textcnn.single_predict(\"有人聚众赌博打牌\") # 单句预测"
   ]
  },
  {
   "cell_type": "code",
   "execution_count": 47,
   "metadata": {},
   "outputs": [
    {
     "data": {
      "text/plain": [
       "('举报', 0.38402218)"
      ]
     },
     "execution_count": 47,
     "metadata": {},
     "output_type": "execute_result"
    }
   ],
   "source": [
    "textcnn.single_predict(\"有人聚众赌博打牌\") # 单句预测"
   ]
  },
  {
   "cell_type": "markdown",
   "metadata": {},
   "source": [
    "#### c.调整实验设置（超参数、网络结构），对比结果。"
   ]
  },
  {
   "cell_type": "markdown",
   "metadata": {},
   "source": [
    "- 调整词向量维度为400，句长为300\n",
    "- 调整模型结构，使用3个一维卷积，卷积核大小 kernel_size=[3,4,5]，每个卷积层有128 个卷积核\n",
    "- 调整dropout层比例为0.6"
   ]
  },
  {
   "cell_type": "code",
   "execution_count": 49,
   "metadata": {},
   "outputs": [],
   "source": [
    "config2 = Config(400,300)#词向量维度=400,句长为300\n",
    "preprocessor2 = Preprocessor(config2)\n",
    "x=preprocessor2.transform(x_doc)\n",
    "x_test=preprocessor2.transform(x_test_doc)\n",
    "x_train,x_valid,y_train, y_valid = train_test_split(x,y, test_size=0.2, random_state=42)"
   ]
  },
  {
   "cell_type": "code",
   "execution_count": 52,
   "metadata": {},
   "outputs": [],
   "source": [
    "class TextCNN2(object):\n",
    "    def __init__(self, config):\n",
    "        self.config = config\n",
    "        self.preprocessor = Preprocessor(config)\n",
    "        self.class_name = {0:\"求助\" , 1:\"治安案件\", 2:\"纠纷\", 3:\"举报\",4: \"其它报警\",5:\"刑事案件\"}\n",
    "    \n",
    "    def build_model(self):\n",
    "        # 模型架构搭建\n",
    "        idx_input = tf.keras.layers.Input((self.config.max_seq_len,))\n",
    "        input_embedding = tf.keras.layers.Embedding(len(self.preprocessor.token2idx),\n",
    "                    self.config.embedding_dim,\n",
    "                    input_length=self.config.max_seq_len,\n",
    "                    mask_zero=True)(idx_input)\n",
    "        convs = []\n",
    "        for kernel_size in [ 3, 4, 5]:\n",
    "            c = tf.keras.layers.Conv1D(128, kernel_size, activation='relu')(input_embedding)\n",
    "            c = tf.keras.layers.GlobalMaxPooling1D()(c)\n",
    "            convs.append(c)\n",
    "        fea_cnn = tf.keras.layers.Concatenate()(convs)\n",
    "        fea_cnn_dropout = tf.keras.layers.Dropout(rate=0.6)(fea_cnn)\n",
    "        \n",
    "        fea_dense = tf.keras.layers.Dense(64, activation='relu')(fea_cnn_dropout)\n",
    "        output = tf.keras.layers.Dense(6, activation='softmax')(fea_dense)\n",
    "        \n",
    "        model = tf.keras.Model(inputs=idx_input, outputs=output)\n",
    "        model.compile(loss='sparse_categorical_crossentropy',\n",
    "              optimizer=tf.keras.optimizers.Adam(lr = 0.001,decay =1e-2),\n",
    "              metrics=['accuracy'])\n",
    "        \n",
    "        model.summary()\n",
    "        \n",
    "        self.model = model\n",
    "    \n",
    "    def fit(self, x_train, y_train, x_valid=None, y_valid=None, epochs=5, batch_size=128, callbacks=None, **kwargs):\n",
    "        # 训练\n",
    "        valid_data = None\n",
    "        if x_valid is not None and y_valid is not None:\n",
    "            valid_data = (x_valid, y_valid)\n",
    "\n",
    "        self.history=self.model.fit(\n",
    "            x=x_train,\n",
    "            y=y_train,\n",
    "            validation_data= valid_data,\n",
    "            batch_size=batch_size,\n",
    "            epochs=epochs,\n",
    "            callbacks=callbacks,\n",
    "            **kwargs\n",
    "        )\n",
    "        \n",
    "    def evaluate(self, x_test, y_test):\n",
    "        # 评估\n",
    "        y_pred_probs = self.model.predict(x_test)\n",
    "        y_pred = np.argmax(y_pred_probs, axis=-1)\n",
    "        result = classification_report(y_test, y_pred, target_names=['求助','治安案件','纠纷','举报','其它报警','刑事案件'])\n",
    "        print(result)\n",
    "        \n",
    "        \n",
    "    def single_predict(self, text):\n",
    "        # 预测\n",
    "        test=re.sub(\"[0-9]+|年|月|日|时|分|、|：||:|[*]|（.*?）|{.*?}|[.*?]|【.*?】\", \"\",text)\n",
    "        input_idx = self.preprocessor.transform([text])\n",
    "        predict_prob = self.model.predict(input_idx)[0]\n",
    "        predict_label_id = np.argmax(predict_prob)\n",
    "        \n",
    "        predict_label_name = self.class_name[predict_label_id]\n",
    "        predict_label_prob = predict_prob[predict_label_id]\n",
    "        \n",
    "        return predict_label_name, predict_label_prob\n",
    "    \n",
    "    def load_model(self, ckpt_file):\n",
    "        self.build_model()\n",
    "        self.model.load_weights(ckpt_file)"
   ]
  },
  {
   "cell_type": "code",
   "execution_count": 53,
   "metadata": {},
   "outputs": [
    {
     "name": "stdout",
     "output_type": "stream",
     "text": [
      "Model: \"functional_17\"\n",
      "__________________________________________________________________________________________________\n",
      "Layer (type)                    Output Shape         Param #     Connected to                     \n",
      "==================================================================================================\n",
      "input_9 (InputLayer)            [(None, 300)]        0                                            \n",
      "__________________________________________________________________________________________________\n",
      "embedding_8 (Embedding)         (None, 300, 400)     6931600     input_9[0][0]                    \n",
      "__________________________________________________________________________________________________\n",
      "conv1d_24 (Conv1D)              (None, 298, 128)     153728      embedding_8[0][0]                \n",
      "__________________________________________________________________________________________________\n",
      "conv1d_25 (Conv1D)              (None, 297, 128)     204928      embedding_8[0][0]                \n",
      "__________________________________________________________________________________________________\n",
      "conv1d_26 (Conv1D)              (None, 296, 128)     256128      embedding_8[0][0]                \n",
      "__________________________________________________________________________________________________\n",
      "global_max_pooling1d_24 (Global (None, 128)          0           conv1d_24[0][0]                  \n",
      "__________________________________________________________________________________________________\n",
      "global_max_pooling1d_25 (Global (None, 128)          0           conv1d_25[0][0]                  \n",
      "__________________________________________________________________________________________________\n",
      "global_max_pooling1d_26 (Global (None, 128)          0           conv1d_26[0][0]                  \n",
      "__________________________________________________________________________________________________\n",
      "concatenate_8 (Concatenate)     (None, 384)          0           global_max_pooling1d_24[0][0]    \n",
      "                                                                 global_max_pooling1d_25[0][0]    \n",
      "                                                                 global_max_pooling1d_26[0][0]    \n",
      "__________________________________________________________________________________________________\n",
      "dropout_8 (Dropout)             (None, 384)          0           concatenate_8[0][0]              \n",
      "__________________________________________________________________________________________________\n",
      "dense_16 (Dense)                (None, 64)           24640       dropout_8[0][0]                  \n",
      "__________________________________________________________________________________________________\n",
      "dense_17 (Dense)                (None, 6)            390         dense_16[0][0]                   \n",
      "==================================================================================================\n",
      "Total params: 7,571,414\n",
      "Trainable params: 7,571,414\n",
      "Non-trainable params: 0\n",
      "__________________________________________________________________________________________________\n"
     ]
    }
   ],
   "source": [
    "textcnn2 = TextCNN2(config2)\n",
    "textcnn2.build_model()"
   ]
  },
  {
   "cell_type": "code",
   "execution_count": 54,
   "metadata": {},
   "outputs": [
    {
     "name": "stdout",
     "output_type": "stream",
     "text": [
      "Epoch 1/50\n",
      "43/43 [==============================] - 8s 189ms/step - loss: 1.2925 - accuracy: 0.5064 - val_loss: 0.9243 - val_accuracy: 0.6750\n",
      "Epoch 2/50\n",
      "43/43 [==============================] - 8s 183ms/step - loss: 0.8037 - accuracy: 0.7078 - val_loss: 0.6608 - val_accuracy: 0.7679\n",
      "Epoch 3/50\n",
      "43/43 [==============================] - 8s 182ms/step - loss: 0.6101 - accuracy: 0.7862 - val_loss: 0.5790 - val_accuracy: 0.7943\n",
      "Epoch 4/50\n",
      "43/43 [==============================] - 9s 204ms/step - loss: 0.5126 - accuracy: 0.8224 - val_loss: 0.5527 - val_accuracy: 0.8031\n",
      "Epoch 5/50\n",
      "43/43 [==============================] - 8s 181ms/step - loss: 0.4412 - accuracy: 0.8517 - val_loss: 0.5374 - val_accuracy: 0.8104\n",
      "Epoch 6/50\n",
      "43/43 [==============================] - 8s 182ms/step - loss: 0.3926 - accuracy: 0.8687 - val_loss: 0.5311 - val_accuracy: 0.8119\n",
      "Epoch 7/50\n",
      "43/43 [==============================] - 8s 181ms/step - loss: 0.3476 - accuracy: 0.8861 - val_loss: 0.5167 - val_accuracy: 0.8177\n",
      "Epoch 8/50\n",
      "43/43 [==============================] - 8s 180ms/step - loss: 0.3064 - accuracy: 0.9019 - val_loss: 0.5145 - val_accuracy: 0.8163\n",
      "Epoch 9/50\n",
      "43/43 [==============================] - 8s 180ms/step - loss: 0.2645 - accuracy: 0.9182 - val_loss: 0.5098 - val_accuracy: 0.8184\n",
      "Epoch 10/50\n",
      "43/43 [==============================] - 7s 174ms/step - loss: 0.2353 - accuracy: 0.9343 - val_loss: 0.5120 - val_accuracy: 0.8199\n",
      "Epoch 11/50\n",
      "43/43 [==============================] - 7s 173ms/step - loss: 0.2080 - accuracy: 0.9434 - val_loss: 0.5119 - val_accuracy: 0.8184\n",
      "Epoch 12/50\n",
      "43/43 [==============================] - 7s 173ms/step - loss: 0.1891 - accuracy: 0.9498 - val_loss: 0.5145 - val_accuracy: 0.8192\n"
     ]
    }
   ],
   "source": [
    "# 定义early stop早停回调函数\n",
    "patience = 3\n",
    "early_stop = tf.keras.callbacks.EarlyStopping(monitor='val_loss', patience=patience)\n",
    "\n",
    "# 定义checkpoint回调函数\n",
    "checkpoint_prefix = './clean_checkpoints2/textcnn_imdb_ckpt'\n",
    "checkpoint_callback=tf.keras.callbacks.ModelCheckpoint(\n",
    "    filepath=checkpoint_prefix,\n",
    "    save_weights_only=True,\n",
    "    save_best_only=True)\n",
    "\n",
    "textcnn2.fit(x_train, y_train, x_valid, y_valid, epochs=50, callbacks=[early_stop, checkpoint_callback]) # 训练\n",
    "\n"
   ]
  },
  {
   "cell_type": "code",
   "execution_count": 55,
   "metadata": {},
   "outputs": [
    {
     "name": "stdout",
     "output_type": "stream",
     "text": [
      "              precision    recall  f1-score   support\n",
      "\n",
      "          求助       0.83      0.77      0.80       244\n",
      "        治安案件       0.85      0.78      0.81       225\n",
      "          纠纷       0.86      0.94      0.90       568\n",
      "          举报       0.76      0.63      0.69        35\n",
      "        其它报警       0.60      0.57      0.59       209\n",
      "        刑事案件       0.82      0.73      0.77        85\n",
      "\n",
      "    accuracy                           0.81      1366\n",
      "   macro avg       0.78      0.74      0.76      1366\n",
      "weighted avg       0.80      0.81      0.80      1366\n",
      "\n"
     ]
    }
   ],
   "source": [
    "textcnn2.evaluate(x_test,y_test)"
   ]
  },
  {
   "cell_type": "code",
   "execution_count": 56,
   "metadata": {},
   "outputs": [
    {
     "data": {
      "text/plain": [
       "('举报', 0.441279)"
      ]
     },
     "execution_count": 56,
     "metadata": {},
     "output_type": "execute_result"
    }
   ],
   "source": [
    "textcnn2.single_predict(\"有人聚众赌博打牌\") # 单句预测"
   ]
  }
 ],
 "metadata": {
  "kernelspec": {
   "display_name": "Python 3",
   "language": "python",
   "name": "python3"
  },
  "language_info": {
   "codemirror_mode": {
    "name": "ipython",
    "version": 3
   },
   "file_extension": ".py",
   "mimetype": "text/x-python",
   "name": "python",
   "nbconvert_exporter": "python",
   "pygments_lexer": "ipython3",
   "version": "3.8.5"
  }
 },
 "nbformat": 4,
 "nbformat_minor": 4
}
